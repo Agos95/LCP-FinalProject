{
 "cells": [
  {
   "cell_type": "markdown",
   "metadata": {},
   "source": [
    "# LCP Final Project"
   ]
  },
  {
   "cell_type": "markdown",
   "metadata": {},
   "source": [
    "This is my personal notebook containing the draft of all the functions and the code necessary for my own implementation, together with any kind of material deemed useful to the purpose.\n",
    "\n",
    "GUI implementation and subsequent merging will be crucial additions."
   ]
  },
  {
   "cell_type": "markdown",
   "metadata": {},
   "source": [
    "## Introduction \n",
    "\n",
    "We are presented with a dataset obtained by four drift-tube detectors during a beam test. The detectors are filled with a gas mixture and they are divided in four layers, each made of cells with an anodic wire sitting at the center; their purpose is to measure the time of flight of $e^-$ drifting towards the anode after the gas has been ionized by the passage of particles through it.\n",
    "\n",
    "The main purpose of our research is to study properties of $\\mu^+ - \\mu^-$ pairs produced by positrons colliding at $E=45$ GeV energy onto a Berillium target. \n",
    "\n",
    "The data-taking process consists of two phases: a calibration one, where only $\\mu^+$ at given energies are employed; the sign of the current powering the magnet is changed so as to have alternance of track directions."
   ]
  },
  {
   "cell_type": "markdown",
   "metadata": {},
   "source": [
    "## Outline\n",
    "\n",
    "We briefly present the outline of our research contained in this document. The code related to the functions that have been created specifically for this project can be found in a separate module."
   ]
  },
  {
   "cell_type": "markdown",
   "metadata": {},
   "source": [
    "## Importing libraries"
   ]
  },
  {
   "cell_type": "code",
   "execution_count": null,
   "metadata": {},
   "outputs": [],
   "source": [
    "import numpy as np\n",
    "import pandas as pd\n",
    "import matplotlib.pyplot as plt\n",
    "%matplotlib inline"
   ]
  },
  {
   "cell_type": "markdown",
   "metadata": {},
   "source": [
    "## Preliminary utilities"
   ]
  },
  {
   "cell_type": "markdown",
   "metadata": {},
   "source": [
    "Below we copy the paths for calibration and physics data; the folders contain .txt files."
   ]
  },
  {
   "cell_type": "code",
   "execution_count": null,
   "metadata": {},
   "outputs": [],
   "source": [
    "path_cal = \"./Final\\ Project\\ \\(group6\\)/data/calibration/\" # + \"Run000260\" & 261,262,263"
   ]
  },
  {
   "cell_type": "code",
   "execution_count": null,
   "metadata": {},
   "outputs": [],
   "source": [
    "path_phys = \"./Final\\ Project\\ \\(group6\\)/data/physics/\" # + \"Run000331\" & 332 to 339"
   ]
  },
  {
   "cell_type": "markdown",
   "metadata": {},
   "source": []
  },
  {
   "cell_type": "code",
   "execution_count": null,
   "metadata": {},
   "outputs": [],
   "source": [
    "# Cell dimensions\n",
    "XCELL = 42.\n",
    "ZCELL = 13.\n",
    "\n",
    "# X coordinates translation\n",
    "global_x_shifts = [994.2, 947.4,-267.4,-261.5,]\n",
    "\n",
    "# Z coordinates translations\n",
    "local_z_shifts = [z*ZCELL for z  in range(0,4)]\n",
    "global_z_shifts = [823.5, 0, 823.5, 0]"
   ]
  },
  {
   "cell_type": "markdown",
   "metadata": {},
   "source": [
    "**Transformations**\n",
    "\n",
    "```python\n",
    "x_global =  global_x_shifts[chamber] - x_local\n",
    "```\n",
    "(*negative sign is due to 180° degrees rotation of detectors*)\n",
    "\n",
    "```python\n",
    "z_local = local_z_shifts[layer]\n",
    "z_global = global_z_shifts[chamber] + z_local\n",
    "```"
   ]
  },
  {
   "cell_type": "markdown",
   "metadata": {},
   "source": []
  },
  {
   "cell_type": "markdown",
   "metadata": {},
   "source": [
    "## Functions\n",
    "### Read data\n",
    "\n",
    "* **Input**: 1 row of data_file.txt, e.g. 1 event, passed as a list\n",
    "* **Output**: pandas dataframe as in the Data Format paragraph, Number of the Event, Number of hits in the Event\n",
    "\n",
    "This function takes in input one event at time, and then outputs a pandas dataframe as described in the previous section. In addition, the transformation from local to global coordinates is performed.\n"
   ]
  },
  {
   "cell_type": "code",
   "execution_count": null,
   "metadata": {},
   "outputs": [],
   "source": [
    "data_file = \"./Final Project (group6)/data/calibration/Run000260/data_000000.txt\"\n",
    "with open(data_file) as f:\n",
    "    line = f.readline()\n",
    "    line = f.readline()\n",
    "    line = f.readline()\n",
    "    line = f.readline()\n",
    "    line = f.readline()\n",
    "    event = line.split()\n",
    "    #event = [float(i) for i in event]\n",
    "    print(event)"
   ]
  },
  {
   "cell_type": "code",
   "execution_count": null,
   "metadata": {},
   "outputs": [],
   "source": [
    "def read_data(event):    \n",
    "    event_number = int(event[0])\n",
    "    hits_number  = int(event[1])\n",
    "    hit       = np.arange(hits_number)\n",
    "    chamber   = np.fromiter((event[2+5*i] for i in range(hits_number)), int)\n",
    "    layer     = np.fromiter((event[3+5*i] for i in range(hits_number)), int)\n",
    "    xl_local  = np.fromiter((event[4+5*i] for i in range(hits_number)), float)\n",
    "    xr_local  = np.fromiter((event[5+5*i] for i in range(hits_number)), float)\n",
    "    z_local   = np.fromiter((local_z_shifts[i-1]+ZCELL/2 for i in layer), float)\n",
    "    time      = np.fromiter((event[6+5*i] for i in range(hits_number)), float)\n",
    "    xl_global = np.fromiter((global_x_shifts[i] for i in chamber), float) - xl_local\n",
    "    xr_global = np.fromiter((global_x_shifts[i] for i in chamber), float) - xr_local\n",
    "    z_global  = np.fromiter((global_z_shifts[i] for i in chamber), float) + z_local\n",
    "    dataframe = pd.DataFrame(\n",
    "        { 'EvNumber' : event_number,\n",
    "          'Hit'      : hit,\n",
    "          'Chamber'  : chamber,\n",
    "          'Layer'    : layer,\n",
    "          'XL_local' : xl_local,\n",
    "          'XR_local' : xr_local,\n",
    "          'Z_local'  : z_local,\n",
    "          'Time'     : time,\n",
    "          'XL_global': xl_global,\n",
    "          'XR_global': xr_global,\n",
    "          'Z_global' : z_global,\n",
    "        })\n",
    "    #dataframe.set_index('Hit', inplace=True) # set as index the number of the hit \n",
    "    return dataframe, event_number, hits_number"
   ]
  },
  {
   "cell_type": "code",
   "execution_count": null,
   "metadata": {},
   "outputs": [],
   "source": [
    "ev, evNumber, hits = read_data(event)\n",
    "ev[\"EvNumber\"][0]"
   ]
  },
  {
   "cell_type": "markdown",
   "metadata": {},
   "source": [
    "### Event selection\n",
    "\n",
    "- **Input**: Pandas `DataFrame` (1 event)\n",
    "- **Output**: True/False\n",
    "\n",
    "The input of the function is the Pandas `DataFrame` made by the *Read Data* function. The output is a boolean value, which labels the good calibration events.\n",
    "We need to plot the histogram of the frequency of the number of hits, in order to find out the best requirements for good events.\n",
    "\n",
    "*Possible choice (to be evaluated)*: Good events requires at least 6 hits (in different layers) either in the left or in the right side of the detector."
   ]
  },
  {
   "cell_type": "code",
   "execution_count": null,
   "metadata": {},
   "outputs": [],
   "source": [
    "def select_events(dataframe):\n",
    "        \n",
    "        #hits only in the left side\n",
    "        if((dataframe['Chamber']<=1).all()):\n",
    "            #compute number of different layers in each chamber\n",
    "            n_layer_ch0 = dataframe[dataframe['Chamber']==0]['Layer'].nunique()\n",
    "            n_layer_ch1 = dataframe[dataframe['Chamber']==1]['Layer'].nunique()\n",
    "            \n",
    "            #require at least 3 different layers for each chamber\n",
    "            if(n_layer_ch0>=3 and n_layer_ch1>=3):\n",
    "                return True\n",
    "            else:\n",
    "                return False\n",
    "            \n",
    "        #hits only in the right side\n",
    "        elif((dataframe['Chamber']>=2).all()):\n",
    "            #compute number of different layers in each chamber\n",
    "            n_layer_ch2 = dataframe[dataframe['Chamber']==2]['Layer'].nunique()\n",
    "            n_layer_ch3 = dataframe[dataframe['Chamber']==3]['Layer'].nunique() \n",
    "            \n",
    "            #require at least 3 different layers for each chamber\n",
    "            if(n_layer_ch2>=3 and n_layer_ch3>=3):\n",
    "                return True\n",
    "            else:\n",
    "                return False\n",
    "        \n",
    "        #hits in both left and right side\n",
    "        else:\n",
    "            return False\n",
    "    \n",
    "#print(select_events(ev))            \n",
    "#print(ev)"
   ]
  },
  {
   "cell_type": "markdown",
   "metadata": {},
   "source": [
    "### Plot background\n",
    "\n",
    "- **Input**: `None`\n",
    "- **Output**: `list`[pyplot `Axes`] (global image + 4 detectors zooms)\n",
    "\n",
    "Five plots are given as output: one image of the whole detector, and one for each of the 4 chambers. This function is made in order to do the plot of the background only one time, instead of doing that for every Event.\n",
    "\n",
    "In order to plot the `Axes` in the `list`, and get a good layout:\n",
    "```python\n",
    "gridsize = (5, 2)\n",
    "fig = plt.figure(figsize = (12, 24))\n",
    "axes = plot_background()\n",
    "plt.show()\n",
    "```"
   ]
  },
  {
   "cell_type": "code",
   "execution_count": null,
   "metadata": {},
   "outputs": [],
   "source": [
    "def plot_background():\n",
    "    # create Pandas DataFrame for the cambers positions\n",
    "    chamber_position = pd.DataFrame({\n",
    "    'chamber' : [i for i in range(4)],\n",
    "    'x_vertices' : [(global_x_shifts[i], global_x_shifts[i] - 720, global_x_shifts[i] - 720, global_x_shifts[i])\n",
    "                    for i in range(4)],\n",
    "    'y_vertices' : [(global_z_shifts[i], global_z_shifts[i], global_z_shifts[i] + 52, global_z_shifts[i] + 52)\n",
    "                    for i in range(4)],\n",
    "    })\n",
    "    x_lim = [[-1000, 1000], # global detector\n",
    "             [    0, 1000], # chamber 0\n",
    "             [    0, 1000], # chamber 1\n",
    "             [-1000,    0], # chamber 2\n",
    "             [-1000,    0]] # chamber 3\n",
    "    y_lim = [[-100, 1000],  # global detector\n",
    "             [800 ,  900],  # chamber 0\n",
    "             [ -25,   75],  # chamber 1\n",
    "             [ 800,  900],  # chamber 2\n",
    "             [ -25,   75]]  # chamber 3\n",
    "    title = [\"DETECTOR\", \"Chamber 0\", \"Chamber 1\", \"Chamber 2\", \"Chamber 3\"]\n",
    "    # create pyplot 'Axes' objects\n",
    "    ax_global = plt.subplot2grid(gridsize, (0, 0), colspan=2, rowspan=2)\n",
    "    ax_0 = plt.subplot2grid(gridsize, (2, 1), colspan=1, rowspan=1) # top-right\n",
    "    ax_1 = plt.subplot2grid(gridsize, (3, 1), colspan=1, rowspan=1) # bottom-right\n",
    "    ax_2 = plt.subplot2grid(gridsize, (2, 0), colspan=1, rowspan=1) # top-left\n",
    "    ax_3 = plt.subplot2grid(gridsize, (3, 0), colspan=1, rowspan=1) # bottom-left\n",
    "    \n",
    "    axes = [ax_global, ax_0, ax_1, ax_2, ax_3]\n",
    "    for index, ax in enumerate(axes):\n",
    "        ax.set_xlim(x_lim[index])\n",
    "        ax.set_ylim(y_lim[index])\n",
    "        ax.set_xlabel(\"x [mm]\")\n",
    "        ax.set_ylabel(\"z [mm]\")\n",
    "        if index == 0: ax.set_title(title[index])\n",
    "        else: ax.set_title(title[index], pad=-20)\n",
    "        # plot the 4 chambers in each 'Axes'\n",
    "        for j in range(4):\n",
    "            chamber = chamber_position[chamber_position[\"chamber\"] == j]\n",
    "            ax.fill(chamber[\"x_vertices\"].values[0], chamber[\"y_vertices\"].values[0], color='gray', fill=False)\n",
    "    return axes"
   ]
  },
  {
   "cell_type": "code",
   "execution_count": null,
   "metadata": {},
   "outputs": [],
   "source": [
    "gridsize = (5, 2)\n",
    "fig = plt.figure(figsize = (12, 24))\n",
    "axes = plot_background()\n",
    "plt.show()"
   ]
  },
  {
   "cell_type": "markdown",
   "metadata": {},
   "source": [
    "### Plot events\n",
    "\n",
    "- **Input**: Pandas `DataFrame` (1 event) + event number\n",
    "- **Output**: `list`\\[pyplot `Axes`\\] (global image + 4 detectors zooms)\n",
    "\n",
    "The input of the function is the Pandas `DataFrame` made by the *Read Data* function, and the event number (this is due to the fact that, if the are no hits, the `DataFrame` is empty, and therefore we can't get the Event number from that). Five plots are given as output: one image of the whole detector, and one for each of the 4 chambers. In the images there will be the points of the hits tracked in the event (left/right positions must have different colors)."
   ]
  },
  {
   "cell_type": "code",
   "execution_count": null,
   "metadata": {},
   "outputs": [],
   "source": [
    "def plot_events(dataframe, evNumber):\n",
    "    # get the EvNumber as argument, because, if the dataframe is empty,\n",
    "    # I can't get it from data\n",
    "    plots = plot_background()\n",
    "    plots[0].set_title(\"Event:\"+str(evNumber), {'size':'18'})\n",
    "    if dataframe.empty == False:\n",
    "        xL = dataframe[\"XL_global\"]\n",
    "        xR = dataframe[\"XR_global\"]\n",
    "        z  = dataframe[\"Z_global\"]\n",
    "        for index, image in enumerate(plots):     \n",
    "            image.plot(xL, z, \"bo\", markersize=3)\n",
    "            image.plot(xR, z, \"ro\", markersize=3)\n",
    "    return plots"
   ]
  },
  {
   "cell_type": "code",
   "execution_count": null,
   "metadata": {},
   "outputs": [],
   "source": [
    "gridsize = (5, 2)\n",
    "fig = plt.figure(figsize = (12, 24))\n",
    "axes = plot_background()\n",
    "axes = plot_events(ev, evNumber)\n",
    "plt.show()"
   ]
  },
  {
   "cell_type": "markdown",
   "metadata": {},
   "source": [
    "## Linear fit\n",
    "\n",
    "* **Input**: Pandas DataFrame (1 event)\n",
    "* **Output**: [[slope, intercept] for each chamber]\n",
    "\n",
    "The input of the function is the Pandas DataFrame made by the Read Data function. The output is a list of list with the coefficients of the linear regression (e.g. scipy.stats.linregress) for each chamber.\n",
    "\n",
    "The fit is only made for good events, which means the return of Select Events (Calibration) function is True. If there are no hits in the chamber, the list returned should be [False, False].\n",
    "\n",
    "The fit has to be made considering all of the possible permutation of the left/right signals; the result will be chosen by selecting the fit with the lowest $\\chi^2$."
   ]
  },
  {
   "cell_type": "code",
   "execution_count": null,
   "metadata": {},
   "outputs": [],
   "source": []
  },
  {
   "cell_type": "markdown",
   "metadata": {},
   "source": [
    "## Note a contorno\n",
    "\n",
    "* Come errore sulla $x=x(z)$ prediligiamo a quello ricavato a posteriori dal fit un errore ottenuto dal $\\sigma$ della posizione del filo ottenuta mediando $x_L$ e $x_R$.\n",
    "\n",
    "\n",
    "* Local fit permette di eliminare l'ambiguità tra $x_L$ e $x_R$; global fit offre una modalità per testare, qualora vi siano punti aggiuntivi, la bontà del fit: si verifica che l'errore di $y_{fit}$ nel punto non considerato sia ragionevolmente entro le 3$\\sigma$. \n",
    "\n",
    "\n",
    "* Valutiamo l'eventuale presenza di errore sistematico verificando che la gaussiana dei residui del fit di $x(z)$ sia centrata in 0; la FWHM della gaussiana stessa dovrebbe essere la risoluzione (*da verificare*)\n",
    "\n",
    "* Proposta per calcolare l'errore dell'efficienza di selezione: $\\sigma_{\\varepsilon} = \\sqrt{\\frac{\\varepsilon (1-\\varepsilon)}{N_2}}$ where $\\varepsilon = \\frac{N_1}{N_2}$, essendo $N_1$ il numero degli eventi con 8 hits e $N_2$ con 7 hits.\n",
    "\n",
    "* Dataframe per ogni run in calibrazione; dataframe con tutti gli hit (meglio unire che ciclare) in modo da avere una visione di insieme (utile per istogrammi di frequenza, efficienza, ...); in Physics si possono unire diversi run (effettuati sotto le medesime condizioni)\n",
    "\n",
    "* Nella scelta del $\\chi^{2}$ migliore usiamo solo 3 punti: il quarto va escluso a priori? O solo dopo aver verificato quale combinazione effettivamente abbia $\\chi^{2}$ minore?"
   ]
  },
  {
   "cell_type": "code",
   "execution_count": null,
   "metadata": {},
   "outputs": [],
   "source": []
  }
 ],
 "metadata": {
  "kernelspec": {
   "display_name": "Python 3",
   "language": "python",
   "name": "python3"
  },
  "language_info": {
   "codemirror_mode": {
    "name": "ipython",
    "version": 3
   },
   "file_extension": ".py",
   "mimetype": "text/x-python",
   "name": "python",
   "nbconvert_exporter": "python",
   "pygments_lexer": "ipython3",
   "version": "3.7.5"
  }
 },
 "nbformat": 4,
 "nbformat_minor": 2
}
