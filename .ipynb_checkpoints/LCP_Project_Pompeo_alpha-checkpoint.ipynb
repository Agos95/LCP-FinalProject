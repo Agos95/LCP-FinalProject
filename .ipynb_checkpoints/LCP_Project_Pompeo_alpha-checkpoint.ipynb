{
 "cells": [
  {
   "cell_type": "markdown",
   "metadata": {},
   "source": [
    "# LCP Final Project"
   ]
  },
  {
   "cell_type": "markdown",
   "metadata": {},
   "source": [
    "This is my personal notebook containing the draft of all the functions and the code necessary for my own implementation, together with any kind of material deemed useful to the purpose.\n",
    "\n",
    "GUI implementation and subsequent merging will be crucial additions."
   ]
  },
  {
   "cell_type": "markdown",
   "metadata": {},
   "source": [
    "## Introduction \n",
    "\n",
    "We are presented with a dataset obtained by four drift-tube detectors during a beam test. The detectors are filled with a gas mixture and they are divided in four layers, each made of cells with an anodic wire sitting at the center; their purpose is to measure the time of flight of $e^-$ drifting towards the anode after the gas has been ionized by the passage of particles through it.\n",
    "\n",
    "The main purpose of our research is to study properties of $\\mu^+ - \\mu^-$ pairs produced by positrons colliding at $E=45$ GeV energy onto a Berillium target. \n",
    "\n",
    "The data-taking process consists of two phases: a calibration one, where only $\\mu^+$ at given energies are employed; the sign of the current powering the magnet is changed so as to have alternance of track directions."
   ]
  },
  {
   "cell_type": "markdown",
   "metadata": {},
   "source": [
    "## Outline\n",
    "\n",
    "We briefly present the outline of our research contained in this document. Note that the code related to the functions that have been created specifically for this project can be found in a separate module.\n"
   ]
  },
  {
   "cell_type": "markdown",
   "metadata": {},
   "source": [
    "## Importing libraries"
   ]
  },
  {
   "cell_type": "code",
   "execution_count": 1,
   "metadata": {},
   "outputs": [],
   "source": [
    "import numpy as np\n",
    "import pandas as pd\n",
    "import matplotlib.pyplot as plt\n",
    "\n",
    "import random\n",
    "\n",
    "from scipy import stats\n",
    "from math import fabs\n",
    "\n",
    "%matplotlib inline"
   ]
  },
  {
   "cell_type": "markdown",
   "metadata": {},
   "source": [
    "## Preliminary utilities"
   ]
  },
  {
   "cell_type": "markdown",
   "metadata": {},
   "source": [
    "Below we copy the paths for calibration and physics data; the folders contain .txt files."
   ]
  },
  {
   "cell_type": "code",
   "execution_count": 2,
   "metadata": {},
   "outputs": [],
   "source": [
    "path_cal = \"./Final\\ Project\\ \\(group6\\)/data/calibration/\" # + \"Run000260\" & 261,262,263"
   ]
  },
  {
   "cell_type": "code",
   "execution_count": 3,
   "metadata": {},
   "outputs": [],
   "source": [
    "path_phys = \"./Final\\ Project\\ \\(group6\\)/data/physics/\" # + \"Run000331\" & 332 to 339"
   ]
  },
  {
   "cell_type": "markdown",
   "metadata": {},
   "source": []
  },
  {
   "cell_type": "code",
   "execution_count": 4,
   "metadata": {},
   "outputs": [],
   "source": [
    "# Cell dimensions\n",
    "XCELL = 42.\n",
    "ZCELL = 13.\n",
    "\n",
    "# X coordinates translation\n",
    "global_x_shifts = [994.2, 947.4,-267.4,-261.5,]\n",
    "\n",
    "# Z coordinates translations\n",
    "local_z_shifts = [z*ZCELL for z  in range(0,4)]\n",
    "global_z_shifts = [823.5, 0, 823.5, 0]"
   ]
  },
  {
   "cell_type": "markdown",
   "metadata": {},
   "source": [
    "**Transformations**\n",
    "\n",
    "```python\n",
    "x_global =  global_x_shifts[chamber] - x_local\n",
    "```\n",
    "(*negative sign is due to 180° degrees rotation of detectors*)\n",
    "\n",
    "```python\n",
    "z_local = local_z_shifts[layer]\n",
    "z_global = global_z_shifts[chamber] + z_local\n",
    "```"
   ]
  },
  {
   "cell_type": "markdown",
   "metadata": {},
   "source": []
  },
  {
   "cell_type": "markdown",
   "metadata": {},
   "source": [
    "## Functions\n",
    "### Read data\n",
    "\n",
    "* **Input**: 1 row of data_file.txt, e.g. 1 event, passed as a list\n",
    "* **Output**: pandas dataframe as in the Data Format paragraph, Number of the Event, Number of hits in the Event\n",
    "\n",
    "This function takes in input one event at time, and then outputs a pandas dataframe as described in the previous section. In addition, the transformation from local to global coordinates is performed.\n"
   ]
  },
  {
   "cell_type": "code",
   "execution_count": 5,
   "metadata": {},
   "outputs": [
    {
     "name": "stdout",
     "output_type": "stream",
     "text": [
      "['5', '11', '2', '2', '7.695e+01', '9.105e+01', '130.8', '2', '3', '4.967e+01', '7.633e+01', '247.5', '2', '4', '7.494e+01', '9.306e+01', '168.3', '2', '1', '4.833e+01', '7.767e+01', '272.5', '3', '4', '4.160e+01', '4.240e+01', '7.5', '3', '3', '1.869e+02', '1.911e+02', '39.2', '3', '2', '4.065e+01', '4.335e+01', '25.0', '3', '1', '1.421e+02', '1.519e+02', '91.7', '3', '4', '1.532e+02', '1.828e+02', '275.0', '3', '1', '4.362e+01', '8.238e+01', '360.0', '3', '3', '4.312e+01', '8.288e+01', '369.2']\n"
     ]
    }
   ],
   "source": [
    "data_file = \"./Final Project (group6)/data/calibration/Run000260/data_000000.txt\"\n",
    "with open(data_file) as f:\n",
    "    line = f.readline()\n",
    "    line = f.readline()\n",
    "    line = f.readline()\n",
    "    line = f.readline()\n",
    "    line = f.readline()\n",
    "    event = line.split()\n",
    "    #event = [float(i) for i in event]\n",
    "    print(event)"
   ]
  },
  {
   "cell_type": "code",
   "execution_count": 6,
   "metadata": {},
   "outputs": [],
   "source": [
    "def read_data(event):    \n",
    "    event_number = int(event[0])\n",
    "    hits_number  = int(event[1])\n",
    "    hit       = np.arange(hits_number)\n",
    "    chamber   = np.fromiter((event[2+5*i] for i in range(hits_number)), int)\n",
    "    layer     = np.fromiter((event[3+5*i] for i in range(hits_number)), int)\n",
    "    xl_local  = np.fromiter((event[4+5*i] for i in range(hits_number)), float)\n",
    "    xr_local  = np.fromiter((event[5+5*i] for i in range(hits_number)), float)\n",
    "    z_local   = np.fromiter((local_z_shifts[i-1]+ZCELL/2 for i in layer), float)\n",
    "    time      = np.fromiter((event[6+5*i] for i in range(hits_number)), float)\n",
    "    xl_global = np.fromiter((global_x_shifts[i] for i in chamber), float) - xl_local\n",
    "    xr_global = np.fromiter((global_x_shifts[i] for i in chamber), float) - xr_local\n",
    "    z_global  = np.fromiter((global_z_shifts[i] for i in chamber), float) + z_local\n",
    "    dataframe = pd.DataFrame(\n",
    "        { 'EvNumber' : event_number,\n",
    "          'Hit'      : hit,\n",
    "          'Chamber'  : chamber,\n",
    "          'Layer'    : layer,\n",
    "          'XL_local' : xl_local,\n",
    "          'XR_local' : xr_local,\n",
    "          'Z_local'  : z_local,\n",
    "          'Time'     : time,\n",
    "          'XL_global': xl_global,\n",
    "          'XR_global': xr_global,\n",
    "          'Z_global' : z_global,\n",
    "        })\n",
    "    #dataframe.set_index('Hit', inplace=True) # set as index the number of the hit \n",
    "    return dataframe, event_number, hits_number"
   ]
  },
  {
   "cell_type": "code",
   "execution_count": 7,
   "metadata": {},
   "outputs": [
    {
     "data": {
      "text/plain": [
       "5"
      ]
     },
     "execution_count": 7,
     "metadata": {},
     "output_type": "execute_result"
    }
   ],
   "source": [
    "ev, evNumber, hits = read_data(event)\n",
    "ev[\"EvNumber\"][0]"
   ]
  },
  {
   "cell_type": "markdown",
   "metadata": {},
   "source": [
    "### Event selection\n",
    "\n",
    "- **Input**: Pandas `DataFrame` (1 event)\n",
    "- **Output**: True/False\n",
    "\n",
    "The input of the function is the Pandas `DataFrame` made by the *Read Data* function. The output is a boolean value, which labels the good calibration events.\n",
    "We need to plot the histogram of the frequency of the number of hits, in order to find out the best requirements for good events.\n",
    "\n",
    "*Possible choice (to be evaluated)*: Good events requires at least 6 hits (in different layers) either in the left or in the right side of the detector."
   ]
  },
  {
   "cell_type": "code",
   "execution_count": 8,
   "metadata": {},
   "outputs": [],
   "source": [
    "def select_events(dataframe):\n",
    "        \n",
    "        #hits only in the left side\n",
    "        if((dataframe['Chamber']<=1).all()):\n",
    "            #compute number of different layers in each chamber\n",
    "            n_layer_ch0 = dataframe[dataframe['Chamber']==0]['Layer'].nunique()\n",
    "            n_layer_ch1 = dataframe[dataframe['Chamber']==1]['Layer'].nunique()\n",
    "            \n",
    "            #require at least 3 different layers for each chamber\n",
    "            if(n_layer_ch0>=3 and n_layer_ch1>=3):\n",
    "                return True\n",
    "            else:\n",
    "                return False\n",
    "            \n",
    "        #hits only in the right side\n",
    "        elif((dataframe['Chamber']>=2).all()):\n",
    "            #compute number of different layers in each chamber\n",
    "            n_layer_ch2 = dataframe[dataframe['Chamber']==2]['Layer'].nunique()\n",
    "            n_layer_ch3 = dataframe[dataframe['Chamber']==3]['Layer'].nunique() \n",
    "            \n",
    "            #require at least 3 different layers for each chamber\n",
    "            if(n_layer_ch2>=3 and n_layer_ch3>=3):\n",
    "                return True\n",
    "            else:\n",
    "                return False\n",
    "        \n",
    "        #hits in both left and right side\n",
    "        else:\n",
    "            return False\n",
    "    \n",
    "#print(select_events(ev))            \n",
    "#print(ev)"
   ]
  },
  {
   "cell_type": "markdown",
   "metadata": {},
   "source": [
    "### Plot background\n",
    "\n",
    "- **Input**: `None`\n",
    "- **Output**: `list`[pyplot `Axes`] (global image + 4 detectors zooms)\n",
    "\n",
    "Five plots are given as output: one image of the whole detector, and one for each of the 4 chambers. This function is made in order to do the plot of the background only one time, instead of doing that for every Event.\n",
    "\n",
    "In order to plot the `Axes` in the `list`, and get a good layout:\n",
    "```python\n",
    "gridsize = (5, 2)\n",
    "fig = plt.figure(figsize = (12, 24))\n",
    "axes = plot_background()\n",
    "plt.show()\n",
    "```"
   ]
  },
  {
   "cell_type": "code",
   "execution_count": 9,
   "metadata": {},
   "outputs": [],
   "source": [
    "def plot_background():\n",
    "    # create Pandas DataFrame for the cambers positions\n",
    "    chamber_position = pd.DataFrame({\n",
    "    'chamber' : [i for i in range(4)],\n",
    "    'x_vertices' : [(global_x_shifts[i], global_x_shifts[i] - 720, global_x_shifts[i] - 720, global_x_shifts[i])\n",
    "                    for i in range(4)],\n",
    "    'y_vertices' : [(global_z_shifts[i], global_z_shifts[i], global_z_shifts[i] + 52, global_z_shifts[i] + 52)\n",
    "                    for i in range(4)],\n",
    "    })\n",
    "    x_lim = [[-1000, 1000], # global detector\n",
    "             [    0, 1000], # chamber 0\n",
    "             [    0, 1000], # chamber 1\n",
    "             [-1000,    0], # chamber 2\n",
    "             [-1000,    0]] # chamber 3\n",
    "    y_lim = [[-100, 1000],  # global detector\n",
    "             [800 ,  900],  # chamber 0\n",
    "             [ -25,   75],  # chamber 1\n",
    "             [ 800,  900],  # chamber 2\n",
    "             [ -25,   75]]  # chamber 3\n",
    "    title = [\"DETECTOR\", \"Chamber 0\", \"Chamber 1\", \"Chamber 2\", \"Chamber 3\"]\n",
    "    # create pyplot 'Axes' objects\n",
    "    ax_global = plt.subplot2grid(gridsize, (0, 0), colspan=2, rowspan=2)\n",
    "    ax_0 = plt.subplot2grid(gridsize, (2, 1), colspan=1, rowspan=1) # top-right\n",
    "    ax_1 = plt.subplot2grid(gridsize, (3, 1), colspan=1, rowspan=1) # bottom-right\n",
    "    ax_2 = plt.subplot2grid(gridsize, (2, 0), colspan=1, rowspan=1) # top-left\n",
    "    ax_3 = plt.subplot2grid(gridsize, (3, 0), colspan=1, rowspan=1) # bottom-left\n",
    "    \n",
    "    axes = [ax_global, ax_0, ax_1, ax_2, ax_3]\n",
    "    for index, ax in enumerate(axes):\n",
    "        ax.set_xlim(x_lim[index])\n",
    "        ax.set_ylim(y_lim[index])\n",
    "        ax.set_xlabel(\"x [mm]\")\n",
    "        ax.set_ylabel(\"z [mm]\")\n",
    "        if index == 0: ax.set_title(title[index])\n",
    "        else: ax.set_title(title[index], pad=-20)\n",
    "        # plot the 4 chambers in each 'Axes'\n",
    "        for j in range(4):\n",
    "            chamber = chamber_position[chamber_position[\"chamber\"] == j]\n",
    "            ax.fill(chamber[\"x_vertices\"].values[0], chamber[\"y_vertices\"].values[0], color='gray', fill=False)\n",
    "    return axes"
   ]
  },
  {
   "cell_type": "code",
   "execution_count": 10,
   "metadata": {},
   "outputs": [
    {
     "data": {
      "image/png": "[encoded data removed]",
      "text/plain": [
       "<Figure size 864x1728 with 5 Axes>"
      ]
     },
     "metadata": {
      "needs_background": "light"
     },
     "output_type": "display_data"
    }
   ],
   "source": [
    "gridsize = (5, 2)\n",
    "fig = plt.figure(figsize = (12, 24))\n",
    "axes = plot_background()\n",
    "plt.show()"
   ]
  },
  {
   "cell_type": "markdown",
   "metadata": {},
   "source": [
    "### Plot events\n",
    "\n",
    "- **Input**: Pandas `DataFrame` (1 event) + event number\n",
    "- **Output**: `list`\\[pyplot `Axes`\\] (global image + 4 detectors zooms)\n",
    "\n",
    "The input of the function is the Pandas `DataFrame` made by the *Read Data* function, and the event number (this is due to the fact that, if the are no hits, the `DataFrame` is empty, and therefore we can't get the Event number from that). Five plots are given as output: one image of the whole detector, and one for each of the 4 chambers. In the images there will be the points of the hits tracked in the event (left/right positions must have different colors)."
   ]
  },
  {
   "cell_type": "code",
   "execution_count": 11,
   "metadata": {},
   "outputs": [],
   "source": [
    "def plot_events(dataframe, evNumber):\n",
    "    # get the EvNumber as argument, because, if the dataframe is empty,\n",
    "    # I can't get it from data\n",
    "    plots = plot_background()\n",
    "    plots[0].set_title(\"Event:\"+str(evNumber), {'size':'18'})\n",
    "    if dataframe.empty == False:\n",
    "        xL = dataframe[\"XL_global\"]\n",
    "        xR = dataframe[\"XR_global\"]\n",
    "        z  = dataframe[\"Z_global\"]\n",
    "        for index, image in enumerate(plots):     \n",
    "            image.plot(xL, z, \"bo\", markersize=3)\n",
    "            image.plot(xR, z, \"ro\", markersize=3)\n",
    "    return plots"
   ]
  },
  {
   "cell_type": "code",
   "execution_count": 12,
   "metadata": {},
   "outputs": [
    {
     "data": {
      "image/png": "[encoded data removed]",
      "text/plain": [
       "<Figure size 864x1728 with 5 Axes>"
      ]
     },
     "metadata": {
      "needs_background": "light"
     },
     "output_type": "display_data"
    }
   ],
   "source": [
    "gridsize = (5, 2)\n",
    "fig = plt.figure(figsize = (12, 24))\n",
    "axes = plot_background()\n",
    "axes = plot_events(ev, evNumber)\n",
    "plt.show()"
   ]
  },
  {
   "cell_type": "markdown",
   "metadata": {},
   "source": [
    "### Select Events (Calibration)\n",
    "\n",
    "* **Input**: Pandas `DataFrame`\n",
    "* **Output**: True/False, list with involved chambers numbers, list with number of different layers per chamber\n",
    "\n",
    "The input of the function is the Pandas DataFrame made by the Read Data function. The output is a boolean value, which labels the good calibration events, a list with the number of the chambers involved (0,1) or (2,3), and a list with the number of hit layers for each chamber.\n",
    "\n",
    "Good events requires at least 3 hits in different layers for each chamber, either in the left or in the right side of the detector."
   ]
  },
  {
   "cell_type": "code",
   "execution_count": null,
   "metadata": {},
   "outputs": [],
   "source": [
    "def select_events(dataframe):\n",
    "        \n",
    "        #hits only in the right side\n",
    "        if((dataframe['Chamber']<=1).all()):\n",
    "            chambers=[0,1]\n",
    "            #compute number of different layers in each chamber\n",
    "            n_layer_ch0 = dataframe[dataframe['Chamber']==0]['Layer'].nunique()\n",
    "            n_layer_ch1 = dataframe[dataframe['Chamber']==1]['Layer'].nunique()\n",
    "            \n",
    "            n_layer=[n_layer_ch0, n_layer_ch1]\n",
    "            \n",
    "            #require at least 3 different layers for each chamber\n",
    "            if(n_layer_ch0>=3 and n_layer_ch1>=3):\n",
    "                select=True\n",
    "                return select, chambers, n_layer\n",
    "            else:\n",
    "                select=False\n",
    "                return select, chambers, n_layer\n",
    "            \n",
    "        #hits only in the left side\n",
    "        elif((dataframe['Chamber']>=2).all()):\n",
    "            chambers=[2,3]\n",
    "            #compute number of different layers in each chamber\n",
    "            n_layer_ch2 = dataframe[dataframe['Chamber']==2]['Layer'].nunique()\n",
    "            n_layer_ch3 = dataframe[dataframe['Chamber']==3]['Layer'].nunique() \n",
    "            \n",
    "            n_layer=[n_layer_ch2, n_layer_ch3]\n",
    "            \n",
    "            #require at least 3 different layers for each chamber\n",
    "            if(n_layer_ch2>=3 and n_layer_ch3>=3):\n",
    "                select=True\n",
    "                return select, chambers, n_layer\n",
    "            else:\n",
    "                select=False\n",
    "                return select, chambers, n_layer\n",
    "        \n",
    "        #hits in both left and right side\n",
    "        else:\n",
    "            select=False\n",
    "            chambers=[]\n",
    "            n_layer=[]\n",
    "            return select, chambers, n_layer                  \n",
    "        \n",
    "    \n",
    "print(select_events(ev))            \n",
    "print(ev)\n",
    "condition, chambers, n_layers= select_events(ev)\n",
    "print(condition)"
   ]
  },
  {
   "cell_type": "markdown",
   "metadata": {},
   "source": [
    "### Local linear fit\n",
    "\n",
    "* **Input**: Pandas DataFrame, list with involved chambers numbers ([0,1] or [2,3]), list with number of different layers per chamber\n",
    "* **Output**: list of 2 dictionaries, one for each chamber, containing fit results\n",
    "\n",
    "The inputs of the function are the Pandas DataFrames made by the `Read data` function, and the two lists returned by the `Select events` function. \n",
    "The fit is only made for good events, which means the return of Select Events (Calibration) function is True. If there are no hits in the chamber, the list returned should be [False, False].\n",
    "The output is a list of 2 dictionaries, one for each chamber, containing slope, intercept, numpy array with best combination of points and number of the excluded layer.\n",
    "The best combination of points is the one with the lowest $\\chi^2$."
   ]
  },
  {
   "cell_type": "code",
   "execution_count": 13,
   "metadata": {},
   "outputs": [
    {
     "name": "stdout",
     "output_type": "stream",
     "text": [
      "    EvNumber  Hit  Chamber  Layer  XL_local  XR_local  Z_local   Time  \\\n",
      "0          5    0        2      2     76.95     91.05     19.5  130.8   \n",
      "1          5    1        2      3     49.67     76.33     32.5  247.5   \n",
      "2          5    2        2      4     74.94     93.06     45.5  168.3   \n",
      "3          5    3        2      1     48.33     77.67      6.5  272.5   \n",
      "4          5    4        3      4     41.60     42.40     45.5    7.5   \n",
      "5          5    5        3      3    186.90    191.10     32.5   39.2   \n",
      "6          5    6        3      2     40.65     43.35     19.5   25.0   \n",
      "7          5    7        3      1    142.10    151.90      6.5   91.7   \n",
      "8          5    8        3      4    153.20    182.80     45.5  275.0   \n",
      "9          5    9        3      1     43.62     82.38      6.5  360.0   \n",
      "10         5   10        3      3     43.12     82.88     32.5  369.2   \n",
      "\n",
      "    XL_global  XR_global  Z_global  \n",
      "0     -344.35    -358.45     843.0  \n",
      "1     -317.07    -343.73     856.0  \n",
      "2     -342.34    -360.46     869.0  \n",
      "3     -315.73    -345.07     830.0  \n",
      "4     -303.10    -303.90      45.5  \n",
      "5     -448.40    -452.60      32.5  \n",
      "6     -302.15    -304.85      19.5  \n",
      "7     -403.60    -413.40       6.5  \n",
      "8     -414.70    -444.30      45.5  \n",
      "9     -305.12    -343.88       6.5  \n",
      "10    -304.62    -344.38      32.5  \n"
     ]
    },
    {
     "ename": "TypeError",
     "evalue": "'bool' object is not iterable",
     "output_type": "error",
     "traceback": [
      "\u001b[0;31m---------------------------------------------------------------------------\u001b[0m",
      "\u001b[0;31mTypeError\u001b[0m                                 Traceback (most recent call last)",
      "\u001b[0;32m<ipython-input-13-ad50c47e7d0a>\u001b[0m in \u001b[0;36m<module>\u001b[0;34m\u001b[0m\n\u001b[1;32m     72\u001b[0m \u001b[0;34m\u001b[0m\u001b[0m\n\u001b[1;32m     73\u001b[0m \u001b[0mprint\u001b[0m\u001b[0;34m(\u001b[0m\u001b[0mev\u001b[0m\u001b[0;34m)\u001b[0m\u001b[0;34m\u001b[0m\u001b[0;34m\u001b[0m\u001b[0m\n\u001b[0;32m---> 74\u001b[0;31m \u001b[0mcondition\u001b[0m\u001b[0;34m,\u001b[0m \u001b[0mchambers\u001b[0m\u001b[0;34m,\u001b[0m \u001b[0mn_layers\u001b[0m\u001b[0;34m=\u001b[0m\u001b[0mselect_events\u001b[0m\u001b[0;34m(\u001b[0m\u001b[0mev\u001b[0m\u001b[0;34m)\u001b[0m\u001b[0;34m\u001b[0m\u001b[0;34m\u001b[0m\u001b[0m\n\u001b[0m\u001b[1;32m     75\u001b[0m \u001b[0;32mif\u001b[0m\u001b[0;34m(\u001b[0m\u001b[0mcondition\u001b[0m\u001b[0;34m==\u001b[0m\u001b[0;32mTrue\u001b[0m\u001b[0;34m)\u001b[0m\u001b[0;34m:\u001b[0m\u001b[0;34m\u001b[0m\u001b[0;34m\u001b[0m\u001b[0m\n\u001b[1;32m     76\u001b[0m     \u001b[0mlf_results\u001b[0m\u001b[0;34m=\u001b[0m\u001b[0mlocal_fit\u001b[0m\u001b[0;34m(\u001b[0m\u001b[0mev\u001b[0m\u001b[0;34m,\u001b[0m \u001b[0mchambers\u001b[0m\u001b[0;34m,\u001b[0m \u001b[0mn_layers\u001b[0m\u001b[0;34m)\u001b[0m\u001b[0;34m\u001b[0m\u001b[0;34m\u001b[0m\u001b[0m\n",
      "\u001b[0;31mTypeError\u001b[0m: 'bool' object is not iterable"
     ]
    }
   ],
   "source": [
    "def local_fit(dataframe, list_chambers, list_layers):\n",
    "    #list to store results for each chamber\n",
    "    results=[]\n",
    "    #loop over the (two) chambers\n",
    "    for i in range(0,len(list_chambers)):\n",
    "       #if we have 4 different layers we randomly select a layer to be excluded\n",
    "       #we will use the point from the excluded layer to check the goodness of the global fit\n",
    "        if(list_layers[i]==4):\n",
    "            rand_layer=random.randint(1,4)\n",
    "        else:\n",
    "            rand_layer=0 #layers are 1,2,3,4: excluding layer 0 is equivalent to keeping them all\n",
    "        \n",
    "        #create dataframe_cl filtered by chamber and excluded layer\n",
    "        dataframe_c = dataframe[dataframe['Chamber']==list_chambers[i]] #dataframe filtered by chamber\n",
    "        dataframe_cl = dataframe_c[dataframe_c['Layer']!=rand_layer]    #filtered by chamber and excluded layer\n",
    "        \n",
    "        # Z local coordinates corresponding to the 4 different layers\n",
    "        Z=[6.5,19.5, 32.5, 45.5]\n",
    "        \n",
    "        #create a list l containing 3 lists of points (z,x), one for each selected layer\n",
    "        l=[]\n",
    "        \n",
    "        #loop over selected layers and fill l\n",
    "        for layer_index in dataframe_cl['Layer'].unique():\n",
    "            XR=np.array(dataframe_cl[dataframe_cl['Layer']==layer_index]['XR_local'])\n",
    "            XL=np.array(dataframe_cl[dataframe_cl['Layer']==layer_index]['XL_local'])\n",
    "            \n",
    "            z=Z[(layer_index-1)] #layer_index is in range [1,4], list index must be in range [0,3]\n",
    "            l_temp=[]\n",
    "            \n",
    "            for x in XR:\n",
    "                l_temp.append((z,x))\n",
    "            for x in XL:\n",
    "                l_temp.append((z,x)) \n",
    "            l.append(l_temp) \n",
    "            \n",
    "        #create numpy array with all possible combinations of 3 points p1,p2,p3\n",
    "        combinations=np.array([(p1,p2,p3) for p1 in l[0] for p2 in l[1] for p3 in l[2]])\n",
    "        \n",
    "        #interpolate each combination and select the combination with least chi squared\n",
    "        min_chisq=100000 #to store minimum chisq\n",
    "        optimal_comb=np.zeros((3,2)) #to store best combination of points\n",
    "        slope_opt=0 #to store slope obtained with the best combination\n",
    "        intercept_opt=0 #to store intercept obtained with the best combination\n",
    "        for points in combinations:\n",
    "            #linear regression\n",
    "            slope, intercept, r_value, p_value, std_err=stats.linregress(points[:,0],points[:,1])\n",
    "            #compute expected x using the interpolating function\n",
    "            expect_x=intercept+slope*(points[:,0])\n",
    "            #compute chi squared\n",
    "            chisq, p_value=stats.chisquare(points[:,1],expect_x)\n",
    "            #eventually update min_chisq and optimal_comb\n",
    "            if(chisq<min_chisq):\n",
    "                min_chisq=chisq\n",
    "                optimal_comb=points\n",
    "                slope_opt=slope\n",
    "                intercept_opt=intercept\n",
    "            else:\n",
    "                continue\n",
    "                  \n",
    "        #add to results: results is a list of 2 dictionaries, one for each chamber       \n",
    "        results.append({\"slope\":slope_opt, \n",
    "                        \"intercept\":intercept_opt, \n",
    "                        \"optimal_comb\": optimal_comb, \n",
    "                        \"excl_layer\": rand_layer})\n",
    "                   \n",
    "    return results\n",
    "        \n",
    "        \n",
    "\n",
    "    \n",
    "    \n",
    "print(ev)    \n",
    "condition, chambers, n_layers=select_events(ev)    \n",
    "if(condition==True):\n",
    "    lf_results=local_fit(ev, chambers, n_layers)\n",
    "    print(\"Prima camera\\n\",lf_results[0])\n",
    "    print(\"Seconda camera\\n\", lf_results[1])"
   ]
  },
  {
   "cell_type": "markdown",
   "metadata": {},
   "source": [
    "### Global linear fit\n",
    "\n",
    "* **Input**: Pandas `DataFrame`, list with involved chambers numbers, output list of local fit function\n",
    "* **Output**: Dictionary containing fit results\n",
    "\n",
    "The input of the function are the Pandas `DataFrame` made by the `Read data` function, the list with involved chambers numbers returned by the select_events function and the list of 2 dictionaries returned by the local_fit function. The output is a dictionary containing slope, intercept and a numpy array with residuals computed for the eventual test layers.\n",
    "\n",
    "*Nota provvisoria*: in questo caso non credo si possa calcolare il chi quadro poiché le x possono essere negative. Per il test del chi quadro il valore atteso deve essere positivo (di solito sono frequenze), altrimenti viene un chi quadro negativo (??)"
   ]
  },
  {
   "cell_type": "code",
   "execution_count": null,
   "metadata": {},
   "outputs": [],
   "source": [
    "def global_fit(dataframe, list_chambers, lfit_results):\n",
    "    \n",
    "    #TRANSFORM LOCAL COORDINATES IN GLOBAL COORDINATES\n",
    "    \n",
    "    #First chamber:\n",
    "    global_z_ch1 = global_z_shifts[list_chambers[0]]+lfit_results[0][\"optimal_comb\"][:,0]\n",
    "    global_x_ch1 = global_x_shifts[list_chambers[0]]-lfit_results[0][\"optimal_comb\"][:,1]\n",
    "    global_ch1=np.column_stack((global_z_ch1, global_x_ch1))\n",
    "    \n",
    "    #Second chamber:\n",
    "    global_z_ch2 = global_z_shifts[list_chambers[1]]+lfit_results[1][\"optimal_comb\"][:,0]\n",
    "    global_x_ch2 = global_x_shifts[list_chambers[1]]-lfit_results[1][\"optimal_comb\"][:,1]\n",
    "    global_ch2=np.column_stack((global_z_ch2, global_x_ch2))\n",
    "    \n",
    "    points=np.concatenate((global_ch1, global_ch2))\n",
    "    #print(points)\n",
    "    #LINEAR REGRESSION\n",
    "    slope, intercept, r_value, p_value, std_err=stats.linregress(points[:,0],points[:,1])\n",
    "    \n",
    "    #compute expected x using the interpolating function\n",
    "    expect_x=intercept+slope*(points[:,0])\n",
    "        \n",
    "    #COMPUTE RESIDUALS USING TEST LAYER (layer excluded in local fit function)\n",
    "    # Z local coordinates corresponding to the 4 different layers\n",
    "    Z_local=[6.5,19.5, 32.5, 45.5]\n",
    "    #list to store residuals\n",
    "    res=[]\n",
    "    #compute residuals for each chamber\n",
    "    for c in range(0,len(list_chambers)):\n",
    "        dataframe_c = dataframe[dataframe['Chamber']==list_chambers[c]] #dataframe filtered by chamber\n",
    "        res_temp=[]\n",
    "        excl_layer=lfit_results[c][\"excl_layer\"]\n",
    "        #test layer Z global coordinate \n",
    "        Z_test_layer=global_z_shifts[c]+Z_local[(excl_layer-1)]\n",
    "        #if there were only 3 layers, excl_layer was set to 0:\n",
    "        if(excl_layer!=0): \n",
    "            expect_x=intercept+slope*(Z_test_layer)\n",
    "            XR=np.array(dataframe_c[dataframe_c['Layer']==excl_layer]['XR_global'])\n",
    "            XL=np.array(dataframe_c[dataframe_c['Layer']==excl_layer]['XL_global'])\n",
    "            for i in range(0,XR.size):\n",
    "                res_temp.append(XR[i]-expect_x)\n",
    "            for i in range(0,XL.size):\n",
    "                res_temp.append(XL[i]-expect_x)\n",
    "                \n",
    "            res_temp.sort(key=fabs) #we want the smallest residual in absolute value\n",
    "            res.append(res_temp[0])\n",
    "        else:\n",
    "            res=[]\n",
    "    #convert list res in numpy array  \n",
    "    res=np.array(res) \n",
    "    #plt.plot(points[:,0],points[:,1], 'o')\n",
    "    #plt.plot(points[:,0],intercept+slope*points[:,0], 'r')\n",
    "    #plt.show()\n",
    "    return {\"slope\": slope, \"intercept\": intercept, \"residuals\": res }\n",
    "    \n",
    "gf_results=global_fit(ev, chambers, lf_results)\n",
    "print(gf_results)"
   ]
  },
  {
   "cell_type": "code",
   "execution_count": null,
   "metadata": {},
   "outputs": [],
   "source": []
  },
  {
   "cell_type": "code",
   "execution_count": null,
   "metadata": {},
   "outputs": [],
   "source": []
  },
  {
   "cell_type": "markdown",
   "metadata": {},
   "source": [
    "## Note a contorno\n",
    "\n",
    "* Come errore sulla $x=x(z)$ prediligiamo a quello ricavato a posteriori dal fit un errore ottenuto dal $\\sigma$ della posizione del filo ottenuta mediando $x_L$ e $x_R$.\n",
    "\n",
    "\n",
    "* Local fit permette di eliminare l'ambiguità tra $x_L$ e $x_R$; global fit offre una modalità per testare, qualora vi siano punti aggiuntivi, la bontà del fit: si verifica che l'errore di $y_{fit}$ nel punto non considerato sia ragionevolmente entro le 3$\\sigma$. \n",
    "\n",
    "\n",
    "* Valutiamo l'eventuale presenza di errore sistematico verificando che la gaussiana dei residui del fit di $x(z)$ sia centrata in 0; la FWHM della gaussiana stessa dovrebbe essere la risoluzione (*da verificare*)\n",
    "\n",
    "\n",
    "* Proposta per calcolare l'errore dell'efficienza di selezione: $\\sigma_{\\varepsilon} = \\sqrt{\\frac{\\varepsilon (1-\\varepsilon)}{N_2}}$ where $\\varepsilon = \\frac{N_1}{N_2}$, essendo $N_1$ il numero degli eventi con 8 hits e $N_2$ con 7 hits.\n",
    "\n",
    "\n",
    "* Dataframe per ogni run in calibrazione; dataframe con tutti gli hit (meglio unire che ciclare) in modo da avere una visione di insieme (utile per istogrammi di frequenza, efficienza, ...); in Physics si possono unire diversi run (effettuati sotto le medesime condizioni)\n",
    "\n",
    "\n",
    "* Nella scelta del $\\chi^{2}$ migliore usiamo solo 3 punti: il quarto va escluso a priori? O solo dopo aver verificato quale combinazione effettivamente abbia $\\chi^{2}$ minore?\n",
    "\n",
    "\n",
    "* Come trovare fit globale: combinazione migliore di ogni camera dal fit locale e rifittiamo O rifacciamo tutte le combinazioni con i punti da capo? Primo modo permette di valutare meglio l'allineamento delle camere"
   ]
  },
  {
   "cell_type": "code",
   "execution_count": null,
   "metadata": {},
   "outputs": [],
   "source": []
  },
  {
   "cell_type": "markdown",
   "metadata": {},
   "source": [
    "## Osservazioni da riesaminare - fase 2\n",
    "\n",
    "* Si deve capire come effettuare l'esclusione per scegliere il fit migliore a livello locale: escludiamo un layer a caso e basta, andando a considerare le possibili combinazioni tra quelli rimasti? Consideriamo di escludere tutti i layer e selezioniamo il miglior fit in assoluto (possibile bias rispetto ad eliminare un layer a random)? Consideriamo o no la comparazione con il fit con tutti e 4 i layer?\n",
    "* Capire come intendere la selezione dei 3 hit su 4: cosa fare in caso di molteplicità? Efficienza?\n",
    "\n",
    "\n",
    "* La soglia di accettazione per il fit globale è almeno 6 hit? O 7 (troppo alta?)? E si ricostruisce a partire dal miglior risultato locale?\n",
    "* Come trovare fit globale: combinazione migliore di ogni camera dal fit locale e rifittiamo O rifacciamo tutte le combinazioni con i punti da capo? Primo modo permette di valutare meglio l'allineamento delle camere\n",
    "Scegliamo la prima soluzione: un fit globale opera sugli eventi con almeno 6 hit (o più); cerca la combinazione migliore (chi quadro minore) di fit tra quelle possibili, escludendo a random un layer; questo genera un fit globale che dovrebbe rappresentare la traccia fisica della particella (-> confronto fit locale comunque per verificare allineamento delle camere)."
   ]
  },
  {
   "cell_type": "code",
   "execution_count": null,
   "metadata": {},
   "outputs": [],
   "source": []
  }
 ],
 "metadata": {
  "kernelspec": {
   "display_name": "Python 3",
   "language": "python",
   "name": "python3"
  },
  "language_info": {
   "codemirror_mode": {
    "name": "ipython",
    "version": 3
   },
   "file_extension": ".py",
   "mimetype": "text/x-python",
   "name": "python",
   "nbconvert_exporter": "python",
   "pygments_lexer": "ipython3",
   "version": "3.7.5"
  }
 },
 "nbformat": 4,
 "nbformat_minor": 2
}
