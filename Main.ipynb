{
 "cells": [
  {
   "cell_type": "code",
   "execution_count": 1,
   "metadata": {},
   "outputs": [
    {
     "name": "stderr",
     "output_type": "stream",
     "text": [
      "/home/agostini/miniconda3/lib/python3.7/site-packages/ipykernel_launcher.py:17: TqdmExperimentalWarning: Using `tqdm.autonotebook.tqdm` in notebook mode. Use `tqdm.tqdm` instead to force console mode (e.g. in jupyter console)\n"
     ]
    }
   ],
   "source": [
    "# IPython objects\n",
    "from IPython.display import display, Markdown\n",
    "\n",
    "# Data analysis libraries\n",
    "import numpy as np\n",
    "np.random.seed(2020)\n",
    "import pandas as pd\n",
    "from scipy.stats import norm\n",
    "\n",
    "# plotting libraries\n",
    "import matplotlib.pyplot as plt\n",
    "%matplotlib inline\n",
    "hist_kwargs = {\"edgecolor\":\"black\"}\n",
    "\n",
    "# others\n",
    "from glob import glob\n",
    "from tqdm.autonotebook import tqdm\n",
    "\n",
    "# analysis functions\n",
    "from Functions import *\n",
    "\n",
    "data_path = \"../data/\""
   ]
  },
  {
   "cell_type": "markdown",
   "metadata": {},
   "source": [
    "## Calibrazione"
   ]
  },
  {
   "cell_type": "code",
   "execution_count": null,
   "metadata": {},
   "outputs": [],
   "source": [
    "calibration_files = glob(data_path+\"calibration/*\")"
   ]
  },
  {
   "cell_type": "code",
   "execution_count": null,
   "metadata": {},
   "outputs": [],
   "source": [
    "def Open_File_Calibration(data_file):\n",
    "    with open(data_file) as f:\n",
    "        tot_ev = len(list(f))\n",
    "\n",
    "    # loop over events and perform analysis\n",
    "    Ev_list = []\n",
    "    selected_ev = 0\n",
    "    with open(data_file) as f:\n",
    "        with tqdm(total=tot_ev) as pbar:\n",
    "            for line in f:\n",
    "                # read event\n",
    "                ev, evNum, hits = Read_Data(line)\n",
    "                # select event\n",
    "                sel, chambers, n_layers = Select_Events_Calibration(ev, hits)\n",
    "                \n",
    "                if sel: selected_ev += 1\n",
    "\n",
    "                # save most important information, in order to plot or reperform the analysis\n",
    "                # without reading the whole file again\n",
    "                Ev_list.append(\n",
    "                    {\n",
    "                        \"Number\"    : evNum,\n",
    "                        \"Dataframe\" : ev,\n",
    "                        \"Hits\"      : hits,\n",
    "                        \"Accepted\"  : sel,\n",
    "                        \"Chambers\"  : chambers,\n",
    "                        \"Layers\"    : n_layers\n",
    "                    }\n",
    "                )\n",
    "\n",
    "                pbar.update()\n",
    "                \n",
    "    print(\"{:35} = {:d}\"    .format(\"Total number of events in the Run\", tot_ev))\n",
    "    print(\"{:35} = {:d}\"    .format(\"Number of accepted events\"        , selected_ev))\n",
    "    print(\"{:35} = {:.4f} %\".format(\"Fraction of accepted events\"      , selected_ev/tot_ev*100))\n",
    "    return Ev_list"
   ]
  },
  {
   "cell_type": "code",
   "execution_count": null,
   "metadata": {},
   "outputs": [],
   "source": [
    "def Calibration(Ev_list):\n",
    "    tot_ev = len(Ev_list)\n",
    "    selected_ev = 0\n",
    "    # number of hits per event\n",
    "    hits_number = []\n",
    "    # residuals from good events fit\n",
    "    Ev_residuals = []\n",
    "    # x position of the best combinations of points per chamber\n",
    "    X_position = {\"up\" : [], \"down\" : []}\n",
    "    # local fit differences between chambers\n",
    "    lf_diff = {\"slope\" : [], \"intercept\" : []}\n",
    "    \n",
    "    print(\"Performing fit and analysis\")\n",
    "    with tqdm(total=tot_ev) as pbar:\n",
    "        for event in Ev_list:\n",
    "            hits_number.append(\"Hits\")\n",
    "            if event[\"Accepted\"]:\n",
    "                selected_ev += 1\n",
    "                ev = event[\"Dataframe\"]\n",
    "                chambers = event[\"Chambers\"]\n",
    "                n_layers = event[\"Layers\"]\n",
    "        \n",
    "                #Local linear fit\n",
    "                lf_results = Local_Fit(ev, chambers, n_layers, exclusion_layer=True)\n",
    "                #Global linear fit\n",
    "                gf_results = Global_Fit_Calibration(ev, chambers, lf_results)\n",
    "                Ev_residuals.append(gf_results[\"residuals\"])\n",
    "\n",
    "                # x coordinates for the points in the optimal combination after local fit per chamber\n",
    "                X_position[\"up\"]   += [x[1] for x in lf_results[0][\"optimal_comb\"]]\n",
    "                X_position[\"down\"] += [x[1] for x in lf_results[1][\"optimal_comb\"]]\n",
    "                # local fit differences\n",
    "                lf_diff[\"slope\"]    .append(lf_results[0][\"slope\"]    -lf_results[1][\"slope\"])\n",
    "                lf_diff[\"intercept\"].append(lf_results[0][\"intercept\"]-lf_results[1][\"intercept\"])\n",
    "            \n",
    "            pbar.update()\n",
    "            \n",
    "    display(Markdown(\"#### Hit distribution\"))\n",
    "    \n",
    "    fig, ax = plt.subplots(figsize=(8,5))\n",
    "    ax.hist(hits_number, **hist_kwargs)\n",
    "    ax.set_xlabel(\"number of hits\")\n",
    "            \n",
    "    display(Markdown(\"#### Hit position (cell local coordinates)\"))\n",
    "    \n",
    "    fig, (ax1, ax2) = plt.subplots(figsize=(15,5), ncols=2)\n",
    "\n",
    "    ax1.set_title(\"Up\")\n",
    "    ax1.hist(X_position[\"up\"]    , bins=30, **hist_kwargs)\n",
    "    ax1.set_xlabel(\"x [mm]\")\n",
    "\n",
    "    ax2.set_title(\"Down\")\n",
    "    ax2.hist(X_position[\"down\"], bins=30, **hist_kwargs)\n",
    "    ax2.set_xlabel(\"x [mm]\")\n",
    "\n",
    "    plt.show()\n",
    "    \n",
    "    display(Markdown(\"#### Difference in slope and intercept between chambers (local fits)\"))\n",
    "    \n",
    "    fig, (ax1, ax2) = plt.subplots(figsize=(15,5), ncols=2)\n",
    "\n",
    "    ax1.set_title(\"Slope\")\n",
    "    ax1.hist(lf_diff[\"slope\"], bins=30, range=(-0.5,0.5), **hist_kwargs)\n",
    "    ax1.set_xlabel(\"Slope\")\n",
    "\n",
    "    ax2.set_title(\"Intercept\")\n",
    "    ax2.hist(lf_diff[\"intercept\"], bins=30, range=(-200,200), **hist_kwargs)\n",
    "    ax2.set_xlabel(\"[mm]\")\n",
    "    \n",
    "    plt.show()\n",
    "    \n",
    "    display(Markdown(\"#### Residuals in the excluded layer\"))\n",
    "    \n",
    "    Hit_6_layers = 0\n",
    "    Hit_7_layers = 0\n",
    "    Hit_8_layers = 0\n",
    "    Tot_res      = []\n",
    "    \n",
    "    for res in Ev_residuals:\n",
    "        if len(res) == 0:\n",
    "            Hit_6_layers += 1\n",
    "        elif len(res) == 1:\n",
    "            Hit_7_layers += 1\n",
    "        elif len(res) == 2:\n",
    "            Hit_8_layers += 1\n",
    "        else: continue\n",
    "        Tot_res += res.tolist()\n",
    "\n",
    "    fig, (ax1, ax2) = plt.subplots(figsize=(15,5), ncols=2)\n",
    "    ax1.set_title(\"Residuals of the points in the excluded layers\")\n",
    "    ax1.hist(Tot_res, bins= 30, range=(-20,20), **hist_kwargs)\n",
    "    ax1.set_xlabel(\"[mm]\")\n",
    "    \n",
    "    labels = ['Hit in 8 layers', 'Hit in 7 layers', 'Hit in 6 layers']\n",
    "    sizes  = [Hit_8_layers/len(Ev_residuals)*100, \n",
    "              Hit_7_layers/len(Ev_residuals)*100, \n",
    "              Hit_6_layers/len(Ev_residuals)*100]\n",
    "    patches, _, _ = ax2.pie(sizes, labels=labels, explode = [.05,.05,.05], autopct='%1.1f%%', shadow=True,\n",
    "                               wedgeprops={\"edgecolor\":'black', \"linewidth\":1.25})\n",
    "    ax2.legend(patches, labels, loc='upper right', fontsize=14)\n",
    "    ax2.axis('equal')\n",
    "    ax2.set_title(\"Percentage of excluded layers in the fit\")\n",
    "    \n",
    "    plt.show()\n",
    "            \n",
    "    return Ev_residuals, X_position, lf_diff"
   ]
  },
  {
   "cell_type": "markdown",
   "metadata": {},
   "source": [
    "### Run 260"
   ]
  },
  {
   "cell_type": "markdown",
   "metadata": {},
   "source": [
    "#### Reading data"
   ]
  },
  {
   "cell_type": "code",
   "execution_count": null,
   "metadata": {
    "scrolled": true
   },
   "outputs": [],
   "source": [
    "Ev_list = Open_File_Calibration(calibration_files[0])"
   ]
  },
  {
   "cell_type": "code",
   "execution_count": null,
   "metadata": {
    "scrolled": false
   },
   "outputs": [],
   "source": [
    "Ev_residuals, X_position, lf_diff = Calibration(Ev_list)"
   ]
  },
  {
   "cell_type": "code",
   "execution_count": null,
   "metadata": {},
   "outputs": [],
   "source": [
    "Make_Plot(Ev_list[100], calibration=True)"
   ]
  },
  {
   "cell_type": "markdown",
   "metadata": {},
   "source": [
    "### Run 261"
   ]
  },
  {
   "cell_type": "markdown",
   "metadata": {},
   "source": [
    "#### Reading data"
   ]
  },
  {
   "cell_type": "code",
   "execution_count": null,
   "metadata": {
    "scrolled": true
   },
   "outputs": [],
   "source": [
    "Ev_list = Open_File_Calibration(calibration_files[1])"
   ]
  },
  {
   "cell_type": "code",
   "execution_count": null,
   "metadata": {
    "scrolled": false
   },
   "outputs": [],
   "source": [
    "Ev_residuals, X_position, lf_diff = Calibration(Ev_list)"
   ]
  },
  {
   "cell_type": "markdown",
   "metadata": {},
   "source": [
    "### Run 262"
   ]
  },
  {
   "cell_type": "markdown",
   "metadata": {},
   "source": [
    "#### Reading data"
   ]
  },
  {
   "cell_type": "code",
   "execution_count": null,
   "metadata": {
    "scrolled": true
   },
   "outputs": [],
   "source": [
    "Ev_list = Open_File_Calibration(calibration_files[2])"
   ]
  },
  {
   "cell_type": "code",
   "execution_count": null,
   "metadata": {
    "scrolled": false
   },
   "outputs": [],
   "source": [
    "Ev_residuals, X_position, lf_diff = Calibration(Ev_list)"
   ]
  },
  {
   "cell_type": "markdown",
   "metadata": {},
   "source": [
    "### Run 263"
   ]
  },
  {
   "cell_type": "markdown",
   "metadata": {},
   "source": [
    "#### Reading data"
   ]
  },
  {
   "cell_type": "code",
   "execution_count": null,
   "metadata": {
    "scrolled": true
   },
   "outputs": [],
   "source": [
    "Ev_list = Open_File_Calibration(calibration_files[3])"
   ]
  },
  {
   "cell_type": "code",
   "execution_count": null,
   "metadata": {
    "scrolled": false
   },
   "outputs": [],
   "source": [
    "Ev_residuals, X_position, lf_diff = Calibration(Ev_list)"
   ]
  },
  {
   "cell_type": "markdown",
   "metadata": {},
   "source": [
    "## Physiscs"
   ]
  },
  {
   "cell_type": "code",
   "execution_count": 2,
   "metadata": {},
   "outputs": [],
   "source": [
    "physics_file = data_path+\"physics/Run000331.txt\"#\"physics/RunMerged.txt\""
   ]
  },
  {
   "cell_type": "code",
   "execution_count": 3,
   "metadata": {},
   "outputs": [],
   "source": [
    "def Open_File_Physics(data_file):\n",
    "    with open(data_file) as f:\n",
    "        tot_ev = len(list(f))\n",
    "\n",
    "    # loop over events and perform analysis\n",
    "    Ev_list = []\n",
    "    selected_ev = 0\n",
    "    with open(data_file) as f:\n",
    "        with tqdm(total=tot_ev) as pbar:\n",
    "            for line in f:\n",
    "                # read event\n",
    "                ev, evNum, hits = Read_Data(line)\n",
    "                # filter by hit position\n",
    "                ev_left, ev_right, hits_left, hits_right = Points_Filter(ev)\n",
    "                # select event\n",
    "                sel_left,  chambers_left,  n_layers_left  = Select_Events_Calibration(ev_left,  hits_left)\n",
    "                sel_right, chambers_right, n_layers_right = Select_Events_Calibration(ev_right, hits_right)\n",
    "                \n",
    "                if sel_left and sel_right: selected_ev += 1\n",
    "\n",
    "                # save most important information, in order to plot or reperform the analysis\n",
    "                # without reading the whole file again\n",
    "                Ev_list.append(\n",
    "                    {\n",
    "                        \"Number\"    : evNum,\n",
    "                        \"Dataframe\" : ev,\n",
    "                        \"Hits\"      : hits,\n",
    "                        \"Accepted\"  : sel_left and sel_right,\n",
    "                        \"Chambers\"  : chambers_left+chambers_right,\n",
    "                        \"Layers\"    : [n_layers_left, n_layers_right]\n",
    "                    }\n",
    "                )\n",
    "\n",
    "                pbar.update()\n",
    "                \n",
    "    print(\"{:35} = {:d}\"    .format(\"Total number of events in the Run\", tot_ev))\n",
    "    print(\"{:35} = {:d}\"    .format(\"Number of accepted events\"        , selected_ev))\n",
    "    print(\"{:35} = {:.4f} %\".format(\"Fraction of accepted events\"      , selected_ev/tot_ev*100))\n",
    "    return Ev_list"
   ]
  },
  {
   "cell_type": "code",
   "execution_count": 6,
   "metadata": {},
   "outputs": [],
   "source": [
    "def Physics(Ev_list):\n",
    "    tot_ev = len(Ev_list)\n",
    "    selected_ev = 0\n",
    "    # number of hits selected events\n",
    "    Ev_hits = {\"left\":[], \"right\":[]}\n",
    "    # angular coefficient of fit\n",
    "    Ev_slope = {\"left\":[], \"right\":[]}\n",
    "    # residuals from good events fit\n",
    "    Ev_residuals = {\"left\":[], \"right\":[]}\n",
    "    \n",
    "    print(\"Performing fit and analysis\")\n",
    "    with tqdm(total=tot_ev) as pbar:\n",
    "        for event in Ev_list:\n",
    "            if event[\"Accepted\"]:\n",
    "                ev = event[\"Dataframe\"]\n",
    "                layers = event[\"Layers\"]\n",
    "        \n",
    "                # filter by hit position\n",
    "                ev_left, ev_right, hits_left, hits_right = Points_Filter(ev)\n",
    "                # save hit numbers\n",
    "                Ev_hits[\"left\"] .append(hits_left )\n",
    "                Ev_hits[\"right\"].append(hits_right)\n",
    "                \n",
    "                # save slope values\n",
    "                gf_results_left  = Global_Fit_Physics(ev_left , layers[0])\n",
    "                gf_results_right = Global_Fit_Physics(ev_right, layers[1])\n",
    "                Ev_slope[\"left\"] .append(gf_results_left [\"slope\"])\n",
    "                Ev_slope[\"right\"].append(gf_results_right[\"slope\"])\n",
    "                \n",
    "                # save residuals\n",
    "                Ev_residuals[\"left\"]  += gf_results_left [\"residuals\"]\n",
    "                Ev_residuals[\"right\"] += gf_results_right[\"residuals\"]\n",
    "                \n",
    "            pbar.update()\n",
    "            \n",
    "    display(Markdown(\"#### Hit distribution (selected events)\"))\n",
    "    \n",
    "    fig, (ax1, ax2) = plt.subplots(figsize=(15,5), ncols=2)\n",
    "    ax1.hist(Ev_hits[\"left\"] , title=\"Left side\" , **hist_kwargs)\n",
    "    ax1.set_xlabel(\"Number of hits\")\n",
    "    ax2.hist(Ev_hits[\"right\"], title=\"Right Side\", **hist_kwargs)\n",
    "    ax2.set_xlabel(\"Number of hits\")\n",
    "    plt.show()\n",
    "    \n",
    "    display(Markdown(\"#### Slope distribution (selected events)\"))\n",
    "    \n",
    "    fig, (ax1, ax2) = plt.subplots(figsize=(15,5), ncols=2)\n",
    "    ax1.hist(Ev_slope[\"left\"] , title=\"Left side\" , **hist_kwargs)\n",
    "    ax1.set_xlabel(\"Slope\")\n",
    "    ax2.hist(Ev_slope[\"right\"], title=\"Right Side\", **hist_kwargs)\n",
    "    ax2.set_xlabel(\"Slope\")\n",
    "    plt.show()\n",
    "    \n",
    "    display(Markdown(\"#### Residuals\"))\n",
    "    \n",
    "    fig, (ax1, ax2) = plt.subplots(figsize=(15,5), ncols=2)\n",
    "    ax1.hist(Ev_residuals[\"left\"] , title=\"Left side\" , **hist_kwargs)\n",
    "    ax1.set_xlabel(\"Residuals [mm]\")\n",
    "    ax2.hist(Ev_residuals[\"right\"], title=\"Right Side\", **hist_kwargs)\n",
    "    ax2.set_xlabel(\"Residuals [mm]\")\n",
    "    plt.show()\n",
    "            \n",
    "    return Ev_hits, Ev_slope, Ev_residuals"
   ]
  },
  {
   "cell_type": "code",
   "execution_count": 7,
   "metadata": {},
   "outputs": [
    {
     "data": {
      "application/vnd.jupyter.widget-view+json": {
       "model_id": "6c137eaac1f84cdfa6eb61f2579669c6",
       "version_major": 2,
       "version_minor": 0
      },
      "text/plain": [
       "HBox(children=(FloatProgress(value=0.0, max=34428.0), HTML(value='')))"
      ]
     },
     "metadata": {},
     "output_type": "display_data"
    },
    {
     "name": "stdout",
     "output_type": "stream",
     "text": [
      "\n",
      "Total number of events in the Run   = 34428\n",
      "Number of accepted events           = 121\n",
      "Fraction of accepted events         = 0.3515 %\n"
     ]
    }
   ],
   "source": [
    "Ev_list = Open_File_Physics(physics_file)"
   ]
  },
  {
   "cell_type": "code",
   "execution_count": 8,
   "metadata": {},
   "outputs": [
    {
     "name": "stdout",
     "output_type": "stream",
     "text": [
      "Performing fit and analysis\n"
     ]
    },
    {
     "data": {
      "application/vnd.jupyter.widget-view+json": {
       "model_id": "1edad061366147f7a5c0f76500545759",
       "version_major": 2,
       "version_minor": 0
      },
      "text/plain": [
       "HBox(children=(FloatProgress(value=0.0, max=34428.0), HTML(value='')))"
      ]
     },
     "metadata": {},
     "output_type": "display_data"
    },
    {
     "name": "stdout",
     "output_type": "stream",
     "text": [
      "\n"
     ]
    },
    {
     "ename": "NameError",
     "evalue": "name 'dispaly' is not defined",
     "output_type": "error",
     "traceback": [
      "\u001b[0;31m---------------------------------------------------------------------------\u001b[0m",
      "\u001b[0;31mNameError\u001b[0m                                 Traceback (most recent call last)",
      "\u001b[0;32m<ipython-input-8-586c5d3209ab>\u001b[0m in \u001b[0;36m<module>\u001b[0;34m\u001b[0m\n\u001b[0;32m----> 1\u001b[0;31m \u001b[0mPhysics\u001b[0m\u001b[0;34m(\u001b[0m\u001b[0mEv_list\u001b[0m\u001b[0;34m)\u001b[0m\u001b[0;34m\u001b[0m\u001b[0;34m\u001b[0m\u001b[0m\n\u001b[0m",
      "\u001b[0;32m<ipython-input-6-ef424cdcce9a>\u001b[0m in \u001b[0;36mPhysics\u001b[0;34m(Ev_list)\u001b[0m\n\u001b[1;32m     34\u001b[0m             \u001b[0mpbar\u001b[0m\u001b[0;34m.\u001b[0m\u001b[0mupdate\u001b[0m\u001b[0;34m(\u001b[0m\u001b[0;34m)\u001b[0m\u001b[0;34m\u001b[0m\u001b[0;34m\u001b[0m\u001b[0m\n\u001b[1;32m     35\u001b[0m \u001b[0;34m\u001b[0m\u001b[0m\n\u001b[0;32m---> 36\u001b[0;31m     \u001b[0mdispaly\u001b[0m\u001b[0;34m(\u001b[0m\u001b[0mMarkdown\u001b[0m\u001b[0;34m(\u001b[0m\u001b[0;34m\"#### Hit distribution (selected events)\"\u001b[0m\u001b[0;34m)\u001b[0m\u001b[0;34m)\u001b[0m\u001b[0;34m\u001b[0m\u001b[0;34m\u001b[0m\u001b[0m\n\u001b[0m\u001b[1;32m     37\u001b[0m \u001b[0;34m\u001b[0m\u001b[0m\n\u001b[1;32m     38\u001b[0m     \u001b[0mfig\u001b[0m\u001b[0;34m,\u001b[0m \u001b[0;34m(\u001b[0m\u001b[0max1\u001b[0m\u001b[0;34m,\u001b[0m \u001b[0max2\u001b[0m\u001b[0;34m)\u001b[0m \u001b[0;34m=\u001b[0m \u001b[0mplt\u001b[0m\u001b[0;34m.\u001b[0m\u001b[0msubplots\u001b[0m\u001b[0;34m(\u001b[0m\u001b[0mfigsize\u001b[0m\u001b[0;34m=\u001b[0m\u001b[0;34m(\u001b[0m\u001b[0;36m15\u001b[0m\u001b[0;34m,\u001b[0m\u001b[0;36m5\u001b[0m\u001b[0;34m)\u001b[0m\u001b[0;34m,\u001b[0m \u001b[0mncols\u001b[0m\u001b[0;34m=\u001b[0m\u001b[0;36m2\u001b[0m\u001b[0;34m)\u001b[0m\u001b[0;34m\u001b[0m\u001b[0;34m\u001b[0m\u001b[0m\n",
      "\u001b[0;31mNameError\u001b[0m: name 'dispaly' is not defined"
     ]
    }
   ],
   "source": [
    "Physics(Ev_list)"
   ]
  },
  {
   "cell_type": "code",
   "execution_count": null,
   "metadata": {},
   "outputs": [],
   "source": [
    "idx = 0\n",
    "for i, ev in enumerate(Ev_list):\n",
    "    if ev[\"Accepted\"]: \n",
    "        idx = i\n",
    "        break\n",
    "print(idx)\n",
    "Make_Plot(Ev_list[idx])"
   ]
  },
  {
   "cell_type": "code",
   "execution_count": null,
   "metadata": {},
   "outputs": [],
   "source": []
  }
 ],
 "metadata": {
  "file_extension": ".py",
  "kernelspec": {
   "display_name": "Python 3",
   "language": "python",
   "name": "python3"
  },
  "language_info": {
   "codemirror_mode": {
    "name": "ipython",
    "version": 3
   },
   "file_extension": ".py",
   "mimetype": "text/x-python",
   "name": "python",
   "nbconvert_exporter": "python",
   "pygments_lexer": "ipython3",
   "version": "3.7.5"
  },
  "mimetype": "text/x-python",
  "name": "python",
  "npconvert_exporter": "python",
  "pygments_lexer": "ipython3",
  "version": 3
 },
 "nbformat": 4,
 "nbformat_minor": 2
}
