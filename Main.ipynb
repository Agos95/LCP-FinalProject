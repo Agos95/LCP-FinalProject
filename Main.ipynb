{
 "cells": [
  {
   "cell_type": "code",
   "execution_count": 1,
   "metadata": {},
   "outputs": [],
   "source": [
    "import numpy as np\n",
    "import pandas as pd\n",
    "import matplotlib.pyplot as plt\n",
    "from matplotlib.patches import Polygon\n",
    "\n",
    "import Helpers.Event as EV\n",
    "#get_ipython().run_line_magic('run', 'Helper.py')\n"
   ]
  },
  {
   "cell_type": "code",
   "execution_count": 8,
   "metadata": {},
   "outputs": [
    {
     "name": "stdout",
     "output_type": "stream",
     "text": [
      "['2', '7', '2', '3', '3.550e+02', '3.590e+02', '36.7', '2', '1', '3.553e+02', '3.587e+02', '30.8', '2', '4', '3.160e+02', '3.560e+02', '371.7', '3', '2', '3.274e+02', '3.446e+02', '160.0', '3', '1', '3.439e+02', '3.701e+02', '243.3', '3', '4', '3.280e+02', '3.440e+02', '149.2', '3', '3', '3.444e+02', '3.696e+02', '233.3']\n",
      "Event Number: 2\n",
      "# Hits: 7\n"
     ]
    }
   ],
   "source": [
    "data_file = \"D:/Desktop/University/Magistrale/Anno1_Sem1/LabOfComputationalPhysics/LabFiles/FinalProject/data_merged/calibration/Run000260.txt\"\n",
    "with open(data_file) as f:\n",
    "    line = f.readline()\n",
    "    line = f.readline()\n",
    "    #line = f.readline()\n",
    "    #line = f.readline()\n",
    "    event = line.split()\n",
    "    #event = [float(i) for i in event]\n",
    "    print(event)\n",
    "    \n",
    "ev = EV.Event(event)\n",
    "print(\"Event Number:\", ev.event_number)\n",
    "print(\"# Hits:\", ev.hits_number)\n"
   ]
  },
  {
   "cell_type": "code",
   "execution_count": 9,
   "metadata": {},
   "outputs": [
    {
     "name": "stdout",
     "output_type": "stream",
     "text": [
      "Event Number: 2 \n",
      "# of hits: 7\n"
     ]
    },
    {
     "data": {
      "text/html": [
       "<div>\n",
       "<style scoped>\n",
       "    .dataframe tbody tr th:only-of-type {\n",
       "        vertical-align: middle;\n",
       "    }\n",
       "\n",
       "    .dataframe tbody tr th {\n",
       "        vertical-align: top;\n",
       "    }\n",
       "\n",
       "    .dataframe thead th {\n",
       "        text-align: right;\n",
       "    }\n",
       "</style>\n",
       "<table border=\"1\" class=\"dataframe\">\n",
       "  <thead>\n",
       "    <tr style=\"text-align: right;\">\n",
       "      <th></th>\n",
       "      <th>EvNumber</th>\n",
       "      <th>Hit</th>\n",
       "      <th>Chamber</th>\n",
       "      <th>Layer</th>\n",
       "      <th>XL_local</th>\n",
       "      <th>XR_local</th>\n",
       "      <th>Z_local</th>\n",
       "      <th>Time</th>\n",
       "      <th>XL_global</th>\n",
       "      <th>XR_global</th>\n",
       "      <th>Z_global</th>\n",
       "    </tr>\n",
       "  </thead>\n",
       "  <tbody>\n",
       "    <tr>\n",
       "      <th>0</th>\n",
       "      <td>2</td>\n",
       "      <td>0</td>\n",
       "      <td>2</td>\n",
       "      <td>3</td>\n",
       "      <td>355.0</td>\n",
       "      <td>359.0</td>\n",
       "      <td>32.5</td>\n",
       "      <td>36.7</td>\n",
       "      <td>-622.4</td>\n",
       "      <td>-626.4</td>\n",
       "      <td>856.0</td>\n",
       "    </tr>\n",
       "    <tr>\n",
       "      <th>1</th>\n",
       "      <td>2</td>\n",
       "      <td>1</td>\n",
       "      <td>2</td>\n",
       "      <td>1</td>\n",
       "      <td>355.3</td>\n",
       "      <td>358.7</td>\n",
       "      <td>6.5</td>\n",
       "      <td>30.8</td>\n",
       "      <td>-622.7</td>\n",
       "      <td>-626.1</td>\n",
       "      <td>830.0</td>\n",
       "    </tr>\n",
       "    <tr>\n",
       "      <th>2</th>\n",
       "      <td>2</td>\n",
       "      <td>2</td>\n",
       "      <td>2</td>\n",
       "      <td>4</td>\n",
       "      <td>316.0</td>\n",
       "      <td>356.0</td>\n",
       "      <td>45.5</td>\n",
       "      <td>371.7</td>\n",
       "      <td>-583.4</td>\n",
       "      <td>-623.4</td>\n",
       "      <td>869.0</td>\n",
       "    </tr>\n",
       "    <tr>\n",
       "      <th>3</th>\n",
       "      <td>2</td>\n",
       "      <td>3</td>\n",
       "      <td>3</td>\n",
       "      <td>2</td>\n",
       "      <td>327.4</td>\n",
       "      <td>344.6</td>\n",
       "      <td>19.5</td>\n",
       "      <td>160.0</td>\n",
       "      <td>-588.9</td>\n",
       "      <td>-606.1</td>\n",
       "      <td>19.5</td>\n",
       "    </tr>\n",
       "    <tr>\n",
       "      <th>4</th>\n",
       "      <td>2</td>\n",
       "      <td>4</td>\n",
       "      <td>3</td>\n",
       "      <td>1</td>\n",
       "      <td>343.9</td>\n",
       "      <td>370.1</td>\n",
       "      <td>6.5</td>\n",
       "      <td>243.3</td>\n",
       "      <td>-605.4</td>\n",
       "      <td>-631.6</td>\n",
       "      <td>6.5</td>\n",
       "    </tr>\n",
       "    <tr>\n",
       "      <th>5</th>\n",
       "      <td>2</td>\n",
       "      <td>5</td>\n",
       "      <td>3</td>\n",
       "      <td>4</td>\n",
       "      <td>328.0</td>\n",
       "      <td>344.0</td>\n",
       "      <td>45.5</td>\n",
       "      <td>149.2</td>\n",
       "      <td>-589.5</td>\n",
       "      <td>-605.5</td>\n",
       "      <td>45.5</td>\n",
       "    </tr>\n",
       "    <tr>\n",
       "      <th>6</th>\n",
       "      <td>2</td>\n",
       "      <td>6</td>\n",
       "      <td>3</td>\n",
       "      <td>3</td>\n",
       "      <td>344.4</td>\n",
       "      <td>369.6</td>\n",
       "      <td>32.5</td>\n",
       "      <td>233.3</td>\n",
       "      <td>-605.9</td>\n",
       "      <td>-631.1</td>\n",
       "      <td>32.5</td>\n",
       "    </tr>\n",
       "  </tbody>\n",
       "</table>\n",
       "</div>"
      ],
      "text/plain": [
       "   EvNumber  Hit  Chamber  Layer  XL_local  XR_local  Z_local   Time  \\\n",
       "0         2    0        2      3     355.0     359.0     32.5   36.7   \n",
       "1         2    1        2      1     355.3     358.7      6.5   30.8   \n",
       "2         2    2        2      4     316.0     356.0     45.5  371.7   \n",
       "3         2    3        3      2     327.4     344.6     19.5  160.0   \n",
       "4         2    4        3      1     343.9     370.1      6.5  243.3   \n",
       "5         2    5        3      4     328.0     344.0     45.5  149.2   \n",
       "6         2    6        3      3     344.4     369.6     32.5  233.3   \n",
       "\n",
       "   XL_global  XR_global  Z_global  \n",
       "0     -622.4     -626.4     856.0  \n",
       "1     -622.7     -626.1     830.0  \n",
       "2     -583.4     -623.4     869.0  \n",
       "3     -588.9     -606.1      19.5  \n",
       "4     -605.4     -631.6       6.5  \n",
       "5     -589.5     -605.5      45.5  \n",
       "6     -605.9     -631.1      32.5  "
      ]
     },
     "execution_count": 9,
     "metadata": {},
     "output_type": "execute_result"
    }
   ],
   "source": [
    "print(\"Event Number:\", ev.event_number, \"\\n# of hits:\", ev.hits_number)\n",
    "ev.dataframe\n"
   ]
  },
  {
   "cell_type": "code",
   "execution_count": 10,
   "metadata": {},
   "outputs": [
    {
     "data": {
      "image/png": "[encoded data removed]",
      "text/plain": [
       "<Figure size 864x1728 with 5 Axes>"
      ]
     },
     "metadata": {
      "needs_background": "light"
     },
     "output_type": "display_data"
    },
    {
     "data": {
      "text/plain": [
       "[{'slope': 0.013736263736263422,\n",
       "  'intercept': 355.0464285714286,\n",
       "  'optimal_comb': array([[ 32.5, 355. ],\n",
       "         [  6.5, 355.3],\n",
       "         [ 45.5, 356. ]]),\n",
       "  'excl_layer': 0},\n",
       " {'slope': 0.019230769230769232,\n",
       "  'intercept': 343.925,\n",
       "  'optimal_comb': array([[ 19.5, 344.6],\n",
       "         [  6.5, 343.9],\n",
       "         [ 32.5, 344.4]]),\n",
       "  'excl_layer': 4}]"
      ]
     },
     "execution_count": 10,
     "metadata": {},
     "output_type": "execute_result"
    }
   ],
   "source": [
    "ev.Make_Plot()\n",
    "\n",
    "ev.local_fit"
   ]
  },
  {
   "cell_type": "code",
   "execution_count": null,
   "metadata": {},
   "outputs": [],
   "source": []
  }
 ],
 "metadata": {
  "file_extension": ".py",
  "kernelspec": {
   "display_name": "Python 3",
   "language": "python",
   "name": "python3"
  },
  "language_info": {
   "codemirror_mode": {
    "name": "ipython",
    "version": 3
   },
   "file_extension": ".py",
   "mimetype": "text/x-python",
   "name": "python",
   "nbconvert_exporter": "python",
   "pygments_lexer": "ipython3",
   "version": "3.7.2"
  },
  "mimetype": "text/x-python",
  "name": "python",
  "npconvert_exporter": "python",
  "pygments_lexer": "ipython3",
  "version": 3
 },
 "nbformat": 4,
 "nbformat_minor": 2
}
