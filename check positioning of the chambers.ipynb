{
 "cells": [
  {
   "cell_type": "code",
   "execution_count": 1,
   "metadata": {},
   "outputs": [],
   "source": [
    "import numpy as np\n",
    "import pandas as pd\n",
    "import matplotlib.pyplot as plt\n",
    "from matplotlib.patches import Polygon\n",
    "from os import listdir\n",
    "%matplotlib inline\n",
    "from itertools import combinations\n",
    "import random\n",
    "from scipy import stats"
   ]
  },
  {
   "cell_type": "code",
   "execution_count": 2,
   "metadata": {},
   "outputs": [],
   "source": [
    "# Cell dimensions\n",
    "XCELL = 42.\n",
    "ZCELL = 13.\n",
    "\n",
    "# X coordinates translation\n",
    "global_x_shifts = [994.2, 947.4,-267.4,-261.5,]\n",
    "\n",
    "# Z coordinates translations\n",
    "local_z_shifts = [z*ZCELL for z in range(0,4)]\n",
    "global_z_shifts = [823.5, 0, 823.5, 0]"
   ]
  },
  {
   "cell_type": "code",
   "execution_count": 3,
   "metadata": {
    "scrolled": true
   },
   "outputs": [],
   "source": [
    "'''ERRORE SISTEMATICO NEL POSIZIONAMENTO DELLE CAMERE'''\n",
    "\n",
    "def read_data(event):    \n",
    "    event_number = int(event[0])\n",
    "    hits_number  = int(event[1])\n",
    "    hit       = np.arange(hits_number)\n",
    "    chamber   = np.fromiter((event[2+5*i] for i in range(hits_number)), int)\n",
    "    layer     = np.fromiter((event[3+5*i] for i in range(hits_number)), int)\n",
    "    xl_local  = np.fromiter((event[4+5*i] for i in range(hits_number)), float)\n",
    "    xr_local  = np.fromiter((event[5+5*i] for i in range(hits_number)), float)\n",
    "    z_local   = np.fromiter((local_z_shifts[i-1]+ZCELL/2 for i in layer), float)\n",
    "    time      = np.fromiter((event[6+5*i] for i in range(hits_number)), float)\n",
    "    xl_global = np.fromiter((global_x_shifts[i] for i in chamber), float) - xl_local\n",
    "    xr_global = np.fromiter((global_x_shifts[i] for i in chamber), float) - xr_local\n",
    "    z_global  = np.fromiter((global_z_shifts[i] for i in chamber), float) + z_local\n",
    "    dataframe = pd.DataFrame(\n",
    "        { 'EvNumber' : event_number,\n",
    "          'Hit'      : hit,\n",
    "          'Chamber'  : chamber,\n",
    "          'Layer'    : layer,\n",
    "          'XL_local' : xl_local,\n",
    "          'XR_local' : xr_local,\n",
    "          'Z_local'  : z_local,\n",
    "          'Time'     : time,\n",
    "          'XL_global': xl_global,\n",
    "          'XR_global': xr_global,\n",
    "          'Z_global' : z_global,\n",
    "        })\n",
    "    #dataframe.set_index('Hit', inplace=True) # set as index the number of the hit \n",
    "    return dataframe, event_number, hits_number\n",
    "\n",
    "\n",
    "def select_events(dataframe):\n",
    "        \n",
    "        #hits only in the right side\n",
    "        if((dataframe['Chamber']<=1).all()):\n",
    "            chambers=[0,1]\n",
    "            #compute number of different layers in each chamber\n",
    "            n_layer_ch0 = dataframe[dataframe['Chamber']==0]['Layer'].nunique()\n",
    "            n_layer_ch1 = dataframe[dataframe['Chamber']==1]['Layer'].nunique()\n",
    "            \n",
    "            n_layer=[n_layer_ch0, n_layer_ch1]\n",
    "            \n",
    "            #require at least 3 different layers for each chamber\n",
    "            if(n_layer_ch0>=3 and n_layer_ch1>=3):\n",
    "                select=True\n",
    "                return select, chambers, n_layer\n",
    "            else:\n",
    "                select=False\n",
    "                return select, chambers, n_layer\n",
    "            \n",
    "        #hits only in the left side\n",
    "        elif((dataframe['Chamber']>=2).all()):\n",
    "            chambers=[2,3]\n",
    "            #compute number of different layers in each chamber\n",
    "            n_layer_ch2 = dataframe[dataframe['Chamber']==2]['Layer'].nunique()\n",
    "            n_layer_ch3 = dataframe[dataframe['Chamber']==3]['Layer'].nunique() \n",
    "            \n",
    "            n_layer=[n_layer_ch2, n_layer_ch3]\n",
    "            \n",
    "            #require at least 3 different layers for each chamber\n",
    "            if(n_layer_ch2>=3 and n_layer_ch3>=3):\n",
    "                select=True\n",
    "                return select, chambers, n_layer\n",
    "            else:\n",
    "                select=False\n",
    "                return select, chambers, n_layer\n",
    "        \n",
    "        #hits in both left and right side\n",
    "        else:\n",
    "            select=False\n",
    "            chambers=[]\n",
    "            n_layer=[]\n",
    "            return select, chambers, n_layer \n",
    "\n",
    "\n",
    "\n",
    "def local_fit(dataframe, list_chambers, list_layers):\n",
    "    #list to store results for each chamber\n",
    "    results=[]\n",
    "    #loop over the (two) chambers\n",
    "    for i in range(0,len(list_chambers)):\n",
    "       #if we have 4 different layers we randomly select a layer to be excluded\n",
    "       #we will use the point from the excluded layer to check the goodness of the global fit\n",
    "        if(list_layers[i]==4):\n",
    "            rand_layer=random.randint(1,4)\n",
    "        else:\n",
    "            rand_layer=0 #layers are 1,2,3,4: excluding layer 0 is equivalent to keeping them all\n",
    "        \n",
    "        #create dataframe_cl filtered by chamber and excluded layer\n",
    "        dataframe_c = dataframe[dataframe['Chamber']==list_chambers[i]] #dataframe filtered by chamber\n",
    "        dataframe_cl = dataframe_c[dataframe_c['Layer']!=rand_layer]    #filtered by chamber and excluded layer\n",
    "        \n",
    "        # Z local coordinates corresponding to the 4 different layers\n",
    "        Z=[6.5,19.5, 32.5, 45.5]\n",
    "        \n",
    "        #create a list l containing 3 lists of points (z,x), one for each selected layer\n",
    "        l=[]\n",
    "        \n",
    "        #loop over selected layers and fill l\n",
    "        for layer_index in dataframe_cl['Layer'].unique():\n",
    "            XR=np.array(dataframe_cl[dataframe_cl['Layer']==layer_index]['XR_local'])\n",
    "            XL=np.array(dataframe_cl[dataframe_cl['Layer']==layer_index]['XL_local'])\n",
    "            \n",
    "            z=Z[(layer_index-1)] #layer_index is in range [1,4], list index must be in range [0,3]\n",
    "            l_temp=[]\n",
    "            \n",
    "            for x in XR:\n",
    "                l_temp.append((z,x))\n",
    "            for x in XL:\n",
    "                l_temp.append((z,x)) \n",
    "            l.append(l_temp) \n",
    "            \n",
    "        #create numpy array with all possible combinations of 3 points p1,p2,p3\n",
    "        combinations=np.array([(p1,p2,p3) for p1 in l[0] for p2 in l[1] for p3 in l[2]])\n",
    "        \n",
    "        #interpolate each combination and select the combination with least chi squared\n",
    "        min_chisq=100000 #to store minimum chisq\n",
    "        optimal_comb=np.zeros((3,2)) #to store best combination of points\n",
    "        slope_opt=0 #to store slope obtained with the best combination\n",
    "        intercept_opt=0 #to store intercept obtained with the best combination\n",
    "        for points in combinations:\n",
    "            #linear regression\n",
    "            slope, intercept, r_value, p_value, std_err=stats.linregress(points[:,0],points[:,1])\n",
    "            #compute expected x using the interpolating function\n",
    "            expect_x=intercept+slope*(points[:,0])\n",
    "            #compute chi squared\n",
    "            chisq, p_value=stats.chisquare(points[:,1],expect_x)\n",
    "            #eventually update min_chisq and optimal_comb\n",
    "            if(chisq<min_chisq):\n",
    "                min_chisq=chisq\n",
    "                optimal_comb=points\n",
    "                slope_opt=slope\n",
    "                intercept_opt=intercept\n",
    "            else:\n",
    "                continue\n",
    "                  \n",
    "        #add to results: results is a list of 2 dictionaries, one for each chamber       \n",
    "        results.append({\"slope\":slope_opt, \n",
    "                        \"intercept\":intercept_opt, \n",
    "                        \"optimal_comb\": optimal_comb, \n",
    "                        \"excl_layer\": rand_layer})\n",
    "                   \n",
    "    return results\n",
    "\n",
    "\n",
    "\n",
    "\n"
   ]
  },
  {
   "cell_type": "code",
   "execution_count": 4,
   "metadata": {
    "scrolled": false
   },
   "outputs": [
    {
     "name": "stdout",
     "output_type": "stream",
     "text": [
      "fraction of parallels fit:  2.038216560509554 %\n"
     ]
    },
    {
     "data": {
      "image/png": "[encoded data removed]",
      "text/plain": [
       "<Figure size 432x288 with 1 Axes>"
      ]
     },
     "metadata": {
      "needs_background": "light"
     },
     "output_type": "display_data"
    },
    {
     "name": "stdout",
     "output_type": "stream",
     "text": [
      "fraction of parallels fit:  3.5629453681710213 %\n"
     ]
    },
    {
     "data": {
      "image/png": "[encoded data removed]",
      "text/plain": [
       "<Figure size 432x288 with 1 Axes>"
      ]
     },
     "metadata": {
      "needs_background": "light"
     },
     "output_type": "display_data"
    }
   ],
   "source": [
    "for i in listdir(\"/Users/federicob/Documents/data/calibration/Run000260\"):\n",
    "    file=\"/Users/federicob/Documents/data/calibration/Run000260\"+\"/\"+i \n",
    "    \n",
    "    rette_parallele=0\n",
    "    rette_tot=0\n",
    "    differenze_pendenze=[]\n",
    "    with open(file) as f:\n",
    "        for line in f:\n",
    "            event = line.split()\n",
    "            event = [float(i) for i in event]\n",
    "            \n",
    "            \n",
    "            \n",
    "            dataframe, event_number, hits_number=read_data(event) \n",
    "            #print(dataframe)\n",
    "            \n",
    "            if select_events(dataframe)[0]==True:\n",
    "                \n",
    "                #print(dataframe)# mi sono selezionato gli eventi\n",
    "                condition, chambers, n_layers=select_events(dataframe)\n",
    "                #print(chambers,n_layers)\n",
    "                #print(chambers[0])\n",
    "                \n",
    "                '''adesso devo eseguire i local linear fit della camera sopra e della camera sotto'''\n",
    "                lf_results=local_fit(dataframe, chambers, n_layers)\n",
    "                sl1=lf_results[0][\"slope\"]\n",
    "                sl2=lf_results[1][\"slope\"]\n",
    "                differenze_pendenze.append(sl1-sl2)\n",
    "                rette_tot+=1\n",
    "                if sl2>=(sl1-(sl1*10)/100) and sl2<=(sl1+(sl1*10)/100):\n",
    "                    rette_parallele+=1\n",
    "                \n",
    "                #print(rette_parallele)\n",
    "                '''plt.figure()\n",
    "                if chambers[0]==2:\n",
    "                    x=np.linspace(-700,-200,100)\n",
    "                    y=lf_results[0][\"slope\"]*x+lf_results[0][\"intercept\"]\n",
    "                    plt.plot(x,y,color=\"red\")\n",
    "                    y=lf_results[1][\"slope\"]*x+lf_results[1][\"intercept\"]\n",
    "                    plt.plot(x,y,color=\"green\")\n",
    "                    \n",
    "                    \n",
    "                    \n",
    "                else:\n",
    "                    x=np.linspace(200,600,100)\n",
    "                    y=lf_results[0][\"slope\"]*x+lf_results[0][\"intercept\"]\n",
    "                    plt.plot(x,y,color=\"red\")\n",
    "                    y=lf_results[1][\"slope\"]*x+lf_results[1][\"intercept\"]\n",
    "                    plt.plot(x,y,color=\"green\")\n",
    "                    \n",
    "                plt.show()'''\n",
    "    frac_par=(rette_parallele/rette_tot)*100\n",
    "    print(\"fraction of parallels fit: \",frac_par,\"%\")        \n",
    "    plt.figure()\n",
    "    plt.hist(differenze_pendenze,21, range=[-10,10])\n",
    "    plt.xlabel('delta Slope')\n",
    "    plt.ylabel('counts')\n",
    "    plt.show()"
   ]
  },
  {
   "cell_type": "code",
   "execution_count": 5,
   "metadata": {},
   "outputs": [
    {
     "name": "stdout",
     "output_type": "stream",
     "text": [
      "fraction of parallels fit:  0.32441200324412006 %\n"
     ]
    },
    {
     "data": {
      "image/png": "[encoded data removed]",
      "text/plain": [
       "<Figure size 432x288 with 1 Axes>"
      ]
     },
     "metadata": {
      "needs_background": "light"
     },
     "output_type": "display_data"
    },
    {
     "name": "stdout",
     "output_type": "stream",
     "text": [
      "fraction of parallels fit:  0.0 %\n"
     ]
    },
    {
     "data": {
      "image/png": "[encoded data removed]",
      "text/plain": [
       "<Figure size 432x288 with 1 Axes>"
      ]
     },
     "metadata": {
      "needs_background": "light"
     },
     "output_type": "display_data"
    }
   ],
   "source": [
    "for i in listdir(\"/Users/federicob/Documents/data/calibration/Run000261\"):\n",
    "    file=\"/Users/federicob/Documents/data/calibration/Run000261\"+\"/\"+i \n",
    "    \n",
    "    rette_parallele=0\n",
    "    rette_tot=0\n",
    "    differenze_pendenze=[]\n",
    "    with open(file) as f:\n",
    "        for line in f:\n",
    "            event = line.split()\n",
    "            event = [float(i) for i in event]\n",
    "            \n",
    "            \n",
    "            \n",
    "            dataframe, event_number, hits_number=read_data(event) \n",
    "            #print(dataframe)\n",
    "            \n",
    "            if select_events(dataframe)[0]==True:\n",
    "                \n",
    "                #print(dataframe)# mi sono selezionato gli eventi\n",
    "                condition, chambers, n_layers=select_events(dataframe)\n",
    "                #print(chambers,n_layers)\n",
    "                #print(chambers[0])\n",
    "                \n",
    "                '''adesso devo eseguire i local linear fit della camera sopra e della camera sotto'''\n",
    "                lf_results=local_fit(dataframe, chambers, n_layers)\n",
    "                sl1=lf_results[0][\"slope\"]\n",
    "                sl2=lf_results[1][\"slope\"]\n",
    "                differenze_pendenze.append(sl1-sl2)\n",
    "                rette_tot+=1\n",
    "                if sl2>=(sl1-(sl1*5)/100) and sl2<=(sl1+(sl1*5)/100):\n",
    "                    rette_parallele+=1\n",
    "                #print(rette_parallele)\n",
    "                '''plt.figure()\n",
    "                if chambers[0]==2:\n",
    "                    x=np.linspace(-700,-200,100)\n",
    "                    y=lf_results[0][\"slope\"]*x+lf_results[0][\"intercept\"]\n",
    "                    plt.plot(x,y,color=\"red\")\n",
    "                    y=lf_results[1][\"slope\"]*x+lf_results[1][\"intercept\"]\n",
    "                    plt.plot(x,y,color=\"green\")\n",
    "                    \n",
    "                    \n",
    "                    \n",
    "                else:\n",
    "                    x=np.linspace(200,600,100)\n",
    "                    y=lf_results[0][\"slope\"]*x+lf_results[0][\"intercept\"]\n",
    "                    plt.plot(x,y,color=\"red\")\n",
    "                    y=lf_results[1][\"slope\"]*x+lf_results[1][\"intercept\"]\n",
    "                    plt.plot(x,y,color=\"green\")\n",
    "                    \n",
    "                plt.show()'''\n",
    "    frac_par=(rette_parallele/rette_tot)*100\n",
    "    print(\"fraction of parallels fit: \",frac_par,\"%\") \n",
    "    plt.figure()\n",
    "    plt.hist(differenze_pendenze,21, range=[-10,10])\n",
    "    plt.xlabel('delta Slope')\n",
    "    plt.ylabel('counts')\n",
    "    plt.show()"
   ]
  },
  {
   "cell_type": "code",
   "execution_count": 6,
   "metadata": {},
   "outputs": [
    {
     "name": "stdout",
     "output_type": "stream",
     "text": [
      "fraction of parallels fit:  7.37913486005089 %\n"
     ]
    },
    {
     "data": {
      "image/png": "[encoded data removed]",
      "text/plain": [
       "<Figure size 432x288 with 1 Axes>"
      ]
     },
     "metadata": {
      "needs_background": "light"
     },
     "output_type": "display_data"
    },
    {
     "name": "stdout",
     "output_type": "stream",
     "text": [
      "fraction of parallels fit:  9.833024118738404 %\n"
     ]
    },
    {
     "data": {
      "image/png": "[encoded data removed]",
      "text/plain": [
       "<Figure size 432x288 with 1 Axes>"
      ]
     },
     "metadata": {
      "needs_background": "light"
     },
     "output_type": "display_data"
    }
   ],
   "source": [
    "for i in listdir(\"/Users/federicob/Documents/data/calibration/Run000262\"):\n",
    "    file=\"/Users/federicob/Documents/data/calibration/Run000262\"+\"/\"+i \n",
    "    \n",
    "    rette_parallele=0\n",
    "    rette_tot=0\n",
    "    differenze_pendenze=[]\n",
    "    with open(file) as f:\n",
    "        for line in f:\n",
    "            event = line.split()\n",
    "            event = [float(i) for i in event]\n",
    "            \n",
    "            \n",
    "            \n",
    "            dataframe, event_number, hits_number=read_data(event) \n",
    "            #print(dataframe)\n",
    "            \n",
    "            if select_events(dataframe)[0]==True:\n",
    "                \n",
    "                #print(dataframe)# mi sono selezionato gli eventi\n",
    "                condition, chambers, n_layers=select_events(dataframe)\n",
    "                #print(chambers,n_layers)\n",
    "                #print(chambers[0])\n",
    "                \n",
    "                '''adesso devo eseguire i local linear fit della camera sopra e della camera sotto'''\n",
    "                lf_results=local_fit(dataframe, chambers, n_layers)\n",
    "                sl1=lf_results[0][\"slope\"]\n",
    "                sl2=lf_results[1][\"slope\"]\n",
    "                differenze_pendenze.append(sl1-sl2)\n",
    "                rette_tot+=1\n",
    "                if sl2>=(sl1-(sl1*5)/100) and sl2<=(sl1+(sl1*5)/100):\n",
    "                    rette_parallele+=1\n",
    "                #print(rette_parallele)\n",
    "                '''plt.figure()\n",
    "                if chambers[0]==2:\n",
    "                    x=np.linspace(-700,-200,100)\n",
    "                    y=lf_results[0][\"slope\"]*x+lf_results[0][\"intercept\"]\n",
    "                    plt.plot(x,y,color=\"red\")\n",
    "                    y=lf_results[1][\"slope\"]*x+lf_results[1][\"intercept\"]\n",
    "                    plt.plot(x,y,color=\"green\")\n",
    "                    \n",
    "                    \n",
    "                    \n",
    "                else:\n",
    "                    x=np.linspace(200,600,100)\n",
    "                    y=lf_results[0][\"slope\"]*x+lf_results[0][\"intercept\"]\n",
    "                    plt.plot(x,y,color=\"red\")\n",
    "                    y=lf_results[1][\"slope\"]*x+lf_results[1][\"intercept\"]\n",
    "                    plt.plot(x,y,color=\"green\")\n",
    "                    \n",
    "                plt.show()'''\n",
    "    frac_par=(rette_parallele/rette_tot)*100\n",
    "    print(\"fraction of parallels fit: \",frac_par,\"%\") \n",
    "    plt.figure()\n",
    "    plt.hist(differenze_pendenze,21, range=[-10,10])\n",
    "    plt.xlabel('delta Slope')\n",
    "    plt.ylabel('counts')\n",
    "    plt.show()"
   ]
  },
  {
   "cell_type": "code",
   "execution_count": 7,
   "metadata": {},
   "outputs": [
    {
     "name": "stdout",
     "output_type": "stream",
     "text": [
      "fraction of parallels fit:  5.934718100890208 %\n"
     ]
    },
    {
     "data": {
      "image/png": "[encoded data removed]",
      "text/plain": [
       "<Figure size 432x288 with 1 Axes>"
      ]
     },
     "metadata": {
      "needs_background": "light"
     },
     "output_type": "display_data"
    },
    {
     "name": "stdout",
     "output_type": "stream",
     "text": [
      "fraction of parallels fit:  0.0 %\n"
     ]
    },
    {
     "data": {
      "image/png": "[encoded data removed]",
      "text/plain": [
       "<Figure size 432x288 with 1 Axes>"
      ]
     },
     "metadata": {
      "needs_background": "light"
     },
     "output_type": "display_data"
    }
   ],
   "source": [
    "for i in listdir(\"/Users/federicob/Documents/data/calibration/Run000263\"):\n",
    "    file=\"/Users/federicob/Documents/data/calibration/Run000263\"+\"/\"+i \n",
    "    \n",
    "    rette_parallele=0\n",
    "    rette_tot=0\n",
    "    differenze_pendenze=[]\n",
    "    with open(file) as f:\n",
    "        for line in f:\n",
    "            event = line.split()\n",
    "            event = [float(i) for i in event]\n",
    "            \n",
    "            \n",
    "            \n",
    "            dataframe, event_number, hits_number=read_data(event) \n",
    "            #print(dataframe)\n",
    "            \n",
    "            if select_events(dataframe)[0]==True:\n",
    "                \n",
    "                #print(dataframe)# mi sono selezionato gli eventi\n",
    "                condition, chambers, n_layers=select_events(dataframe)\n",
    "                #print(chambers,n_layers)\n",
    "                #print(chambers[0])\n",
    "                \n",
    "                '''adesso devo eseguire i local linear fit della camera sopra e della camera sotto'''\n",
    "                lf_results=local_fit(dataframe, chambers, n_layers)\n",
    "                sl1=lf_results[0][\"slope\"]\n",
    "                sl2=lf_results[1][\"slope\"]\n",
    "                differenze_pendenze.append(sl1-sl2)\n",
    "                rette_tot+=1\n",
    "                if sl2>=(sl1-(sl1*5)/100) and sl2<=(sl1+(sl1*5)/100):\n",
    "                    rette_parallele+=1\n",
    "                #print(rette_parallele)\n",
    "                '''plt.figure()\n",
    "                if chambers[0]==2:\n",
    "                    x=np.linspace(-700,-200,100)\n",
    "                    y=lf_results[0][\"slope\"]*x+lf_results[0][\"intercept\"]\n",
    "                    plt.plot(x,y,color=\"red\")\n",
    "                    y=lf_results[1][\"slope\"]*x+lf_results[1][\"intercept\"]\n",
    "                    plt.plot(x,y,color=\"green\")\n",
    "                    \n",
    "                    \n",
    "                    \n",
    "                else:\n",
    "                    x=np.linspace(200,600,100)\n",
    "                    y=lf_results[0][\"slope\"]*x+lf_results[0][\"intercept\"]\n",
    "                    plt.plot(x,y,color=\"red\")\n",
    "                    y=lf_results[1][\"slope\"]*x+lf_results[1][\"intercept\"]\n",
    "                    plt.plot(x,y,color=\"green\")\n",
    "                    \n",
    "                plt.show()'''\n",
    "    frac_par=(rette_parallele/rette_tot)*100\n",
    "    print(\"fraction of parallels fit: \",frac_par,\"%\") \n",
    "    plt.figure()\n",
    "    plt.hist(differenze_pendenze,21, range=[-10,10])\n",
    "    plt.xlabel('delta Slope')\n",
    "    plt.ylabel('counts')\n",
    "    plt.show()"
   ]
  }
 ],
 "metadata": {
  "kernelspec": {
   "display_name": "Python 3",
   "language": "python",
   "name": "python3"
  },
  "language_info": {
   "codemirror_mode": {
    "name": "ipython",
    "version": 3
   },
   "file_extension": ".py",
   "mimetype": "text/x-python",
   "name": "python",
   "nbconvert_exporter": "python",
   "pygments_lexer": "ipython3",
   "version": "3.7.3"
  }
 },
 "nbformat": 4,
 "nbformat_minor": 2
}
