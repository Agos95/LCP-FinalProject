{
 "cells": [
  {
   "cell_type": "markdown",
   "metadata": {
    "slideshow": {
     "slide_type": "-"
    }
   },
   "source": [
    "# Import libraries"
   ]
  },
  {
   "cell_type": "code",
   "execution_count": 10,
   "metadata": {
    "collapsed": true
   },
   "outputs": [],
   "source": [
    "import numpy as np\n",
    "import pandas as pd\n",
    "import matplotlib.pyplot as plt\n",
    "from matplotlib.patches import Polygon\n",
    "%matplotlib inline"
   ]
  },
  {
   "cell_type": "markdown",
   "metadata": {},
   "source": [
    "# Coordinates transformation"
   ]
  },
  {
   "cell_type": "code",
   "execution_count": 11,
   "metadata": {
    "collapsed": true
   },
   "outputs": [],
   "source": [
    "# Cell dimensions\n",
    "XCELL = 42.\n",
    "ZCELL = 13.\n",
    "\n",
    "# X coordinates translation\n",
    "global_x_shifts = [994.2, 947.4,-267.4,-261.5,]\n",
    "\n",
    "# Z coordinates translations\n",
    "local_z_shifts = [z*ZCELL for z in range(0,4)]\n",
    "global_z_shifts = [823.5, 0, 823.5, 0]"
   ]
  },
  {
   "cell_type": "markdown",
   "metadata": {},
   "source": [
    "# Open file\n",
    "\n",
    "This code opens 1 files, reads line by line and returns a list of floats for each line."
   ]
  },
  {
   "cell_type": "code",
   "execution_count": 12,
   "metadata": {},
   "outputs": [
    {
     "data": {
      "text/plain": [
       "'data_file = \"../data/calibration/Run000260/data_000000.txt\"\\nwith open(data_file) as f:\\n    for line in f:\\n        event = line.split()\\n        event = [float(i) for i in event]\\n        print(event)'"
      ]
     },
     "execution_count": 12,
     "metadata": {},
     "output_type": "execute_result"
    }
   ],
   "source": [
    "'''data_file = \"../data/calibration/Run000260/data_000000.txt\"\n",
    "with open(data_file) as f:\n",
    "    for line in f:\n",
    "        event = line.split()\n",
    "        event = [float(i) for i in event]\n",
    "        print(event)'''"
   ]
  },
  {
   "cell_type": "markdown",
   "metadata": {},
   "source": [
    "Let's just use 1 line, in order to test the code."
   ]
  },
  {
   "cell_type": "code",
   "execution_count": 13,
   "metadata": {},
   "outputs": [
    {
     "name": "stdout",
     "output_type": "stream",
     "text": [
      "['4', '12', '0', '1', '6.501e+02', '6.519e+02', '15.8', '2', '2', '1.658e+02', '1.702e+02', '41.7', '2', '4', '1.606e+02', '1.754e+02', '137.5', '2', '1', '1.277e+02', '1.663e+02', '359.2', '2', '3', '1.318e+02', '1.622e+02', '282.5', '3', '2', '4.056e+01', '4.344e+01', '26.7', '3', '1', '1.395e+01', '2.805e+01', '130.8', '3', '4', '3.531e+01', '4.869e+01', '124.2', '3', '3', '1.853e+01', '2.347e+01', '45.8', '3', '2', '2.594e+01', '5.806e+01', '298.3', '3', '3', '2.871e+00', '3.913e+01', '336.7', '3', '1', '4.824e+01', '7.776e+01', '274.2']\n"
     ]
    }
   ],
   "source": [
    "data_file = \"../data/calibration/Run000260/data_000000.txt\"\n",
    "with open(data_file) as f:\n",
    "    line = f.readline()\n",
    "    line = f.readline()\n",
    "    line = f.readline()\n",
    "    line = f.readline()\n",
    "    #line = f.readline()\n",
    "    event = line.split()\n",
    "    #event = [float(i) for i in event]\n",
    "    print(event)"
   ]
  },
  {
   "cell_type": "markdown",
   "metadata": {},
   "source": [
    "# Read data\n",
    "\n",
    "- **Input**: 1 row of data_file.txt, e.g. 1 event, passed as a `list`\n",
    "- **Output**: pandas dataframe as in the *Data Format* paragraph, Number of the Event, Number of hits in the Event\n",
    "\n",
    "This function takes in input one event at time, and then outputs a pandas dataframe as described in the previous section. In addition, the transformation from local to global coordinates is performed."
   ]
  },
  {
   "cell_type": "code",
   "execution_count": 14,
   "metadata": {},
   "outputs": [
    {
     "data": {
      "text/plain": [
       "4"
      ]
     },
     "execution_count": 14,
     "metadata": {},
     "output_type": "execute_result"
    }
   ],
   "source": [
    "def read_data(event):    \n",
    "    event_number = int(event[0])\n",
    "    hits_number  = int(event[1])\n",
    "    hit       = np.arange(hits_number)\n",
    "    chamber   = np.fromiter((event[2+5*i] for i in range(hits_number)), int)\n",
    "    layer     = np.fromiter((event[3+5*i] for i in range(hits_number)), int)\n",
    "    xl_local  = np.fromiter((event[4+5*i] for i in range(hits_number)), float)\n",
    "    xr_local  = np.fromiter((event[5+5*i] for i in range(hits_number)), float)\n",
    "    z_local   = np.fromiter((local_z_shifts[i-1]+ZCELL/2 for i in layer), float)\n",
    "    time      = np.fromiter((event[6+5*i] for i in range(hits_number)), float)\n",
    "    xl_global = np.fromiter((global_x_shifts[i] for i in chamber), float) - xl_local\n",
    "    xr_global = np.fromiter((global_x_shifts[i] for i in chamber), float) - xr_local\n",
    "    z_global  = np.fromiter((global_z_shifts[i] for i in chamber), float) + z_local\n",
    "    dataframe = pd.DataFrame(\n",
    "        { 'EvNumber' : event_number,\n",
    "          'Hit'      : hit,\n",
    "          'Chamber'  : chamber,\n",
    "          'Layer'    : layer,\n",
    "          'XL_local' : xl_local,\n",
    "          'XR_local' : xr_local,\n",
    "          'Z_local'  : z_local,\n",
    "          'Time'     : time,\n",
    "          'XL_global': xl_global,\n",
    "          'XR_global': xr_global,\n",
    "          'Z_global' : z_global,\n",
    "        })\n",
    "    #dataframe.set_index('Hit', inplace=True) # set as index the number of the hit \n",
    "    return dataframe, event_number, hits_number\n",
    "\n",
    "ev, evNumber, hits = read_data(event)\n",
    "ev[\"EvNumber\"][0]"
   ]
  },
  {
   "cell_type": "markdown",
   "metadata": {},
   "source": [
    "# Plot background\n",
    "\n",
    "- **Input**: `None`\n",
    "- **Output**: `list`\\[pyplot `Axes`\\] (global image + 4 detectors zooms)\n",
    "\n",
    "The input of the function is the pandas dataframe made by the *Read Data* function. Five plots are given as output: one image of the whole detector, and one for each of the 4 chambers. In the images there will be the points of the hits tracked in the event (left/right positions must have different colors)."
   ]
  },
  {
   "cell_type": "markdown",
   "metadata": {},
   "source": [
    "Instead of having 4 different 2D numpy arrays with the coordinates of the vertices of the 4 chambers, we create a pandas DataFrame with the following columns:\n",
    "\n",
    "| chamber | x_vertices | y_vertices |\n",
    "| --- | --- | --- |\n",
    "\n",
    "where *x_vertices*, *y_vertices* contain a list with the four x/y coordinates of the 4 vertices of the chamber."
   ]
  },
  {
   "cell_type": "code",
   "execution_count": 15,
   "metadata": {
    "collapsed": true
   },
   "outputs": [],
   "source": [
    "def plot_background():\n",
    "    # create Pandas DataFrame for the cambers positions\n",
    "    chamber_position = pd.DataFrame({\n",
    "    'chamber' : [i for i in range(4)],\n",
    "    'x_vertices' : [(global_x_shifts[i], global_x_shifts[i] - 720, global_x_shifts[i] - 720, global_x_shifts[i])\n",
    "                    for i in range(4)],\n",
    "    'y_vertices' : [(global_z_shifts[i], global_z_shifts[i], global_z_shifts[i] + 52, global_z_shifts[i] + 52)\n",
    "                    for i in range(4)],\n",
    "    })\n",
    "    x_lim = [[-1000, 1000], # global detector\n",
    "             [    0, 1000], # chamber 0\n",
    "             [    0, 1000], # chamber 1\n",
    "             [-1000,    0], # chamber 2\n",
    "             [-1000,    0]] # chamber 3\n",
    "    y_lim = [[-100, 1000],  # global detector\n",
    "             [800 ,  900],  # chamber 0\n",
    "             [ -25,   75],  # chamber 1\n",
    "             [ 800,  900],  # chamber 2\n",
    "             [ -25,   75]]  # chamber 3\n",
    "    title = [\"DETECTOR\", \"Chamber 0\", \"Chamber 1\", \"Chamber 2\", \"Chamber 3\"]\n",
    "    # create pyplot 'Axes' objects\n",
    "    ax_global = plt.subplot2grid(gridsize, (0, 0), colspan=2, rowspan=2)\n",
    "    ax_0 = plt.subplot2grid(gridsize, (2, 1), colspan=1, rowspan=1) # top-right\n",
    "    ax_1 = plt.subplot2grid(gridsize, (3, 1), colspan=1, rowspan=1) # bottom-right\n",
    "    ax_2 = plt.subplot2grid(gridsize, (2, 0), colspan=1, rowspan=1) # top-left\n",
    "    ax_3 = plt.subplot2grid(gridsize, (3, 0), colspan=1, rowspan=1) # bottom-left\n",
    "    \n",
    "    axes = [ax_global, ax_0, ax_1, ax_2, ax_3]\n",
    "    for index, ax in enumerate(axes):\n",
    "        ax.set_xlim(x_lim[index])\n",
    "        ax.set_ylim(y_lim[index])\n",
    "        ax.set_xlabel(\"x [mm]\")\n",
    "        ax.set_ylabel(\"z [mm]\")\n",
    "        if index == 0: ax.set_title(title[index])\n",
    "        else: ax.set_title(title[index], pad=-20)\n",
    "        # plot the 4 chambers in each 'Axes'\n",
    "        for j in range(4):\n",
    "            chamber = chamber_position[chamber_position[\"chamber\"] == j]\n",
    "            ax.fill(chamber[\"x_vertices\"].values[0], chamber[\"y_vertices\"].values[0], color='gray', fill=False)\n",
    "    return axes\n",
    "    "
   ]
  },
  {
   "cell_type": "code",
   "execution_count": 16,
   "metadata": {},
   "outputs": [
    {
     "data": {
      "image/png": "[encoded data removed]",
      "text/plain": [
       "<Figure size 864x1728 with 5 Axes>"
      ]
     },
     "metadata": {},
     "output_type": "display_data"
    }
   ],
   "source": [
    "gridsize = (5, 2)\n",
    "fig = plt.figure(figsize = (12, 24))\n",
    "axes = plot_background()\n",
    "plt.show()"
   ]
  },
  {
   "cell_type": "markdown",
   "metadata": {},
   "source": [
    "# Plot events\n",
    "\n",
    "- **Input**: Pandas `DataFrame` (1 event) + event number\n",
    "- **Output**: `list`\\[pyplot `Axes`\\] (global image + 4 detectors zooms)\n",
    "\n",
    "The input of the function is the Pandas `DataFrame` made by the *Read Data* function, and the event number (this is due to the fact that, if the are no hits, the `DataFrame` is empty, and therefore we can't get the Event number from that). Five plots are given as output: one image of the whole detector, and one for each of the 4 chambers. In the images there will be the points of the hits tracked in the event (left/right positions must have different colors)."
   ]
  },
  {
   "cell_type": "code",
   "execution_count": 17,
   "metadata": {},
   "outputs": [
    {
     "data": {
      "image/png": "[encoded data removed]",
      "text/plain": [
       "<Figure size 864x1728 with 5 Axes>"
      ]
     },
     "metadata": {},
     "output_type": "display_data"
    }
   ],
   "source": [
    "def plot_events(dataframe, evNumber):\n",
    "    # get the EvNumber as argument, because, if the dataframe is empty,\n",
    "    # I can't get it from data\n",
    "    plots = plot_background()\n",
    "    plots[0].set_title(\"Event:\"+str(evNumber), {'size':'18'})\n",
    "    if dataframe.empty == False:\n",
    "        xL = dataframe[\"XL_global\"]\n",
    "        xR = dataframe[\"XR_global\"]\n",
    "        z  = dataframe[\"Z_global\"]\n",
    "        for index, image in enumerate(plots):     \n",
    "            image.plot(xL, z, \"bo\", markersize=3)\n",
    "            image.plot(xR, z, \"ro\", markersize=3)\n",
    "    return plots\n",
    "\n",
    "gridsize = (5, 2)\n",
    "fig = plt.figure(figsize = (12, 24))\n",
    "axes = plot_background()\n",
    "axes = plot_events(ev, evNumber)\n",
    "plt.show()"
   ]
  },
  {
   "cell_type": "markdown",
   "metadata": {},
   "source": [
    "# [DRAFT] Select Events (Calibration)\n",
    "\n",
    "- **Input**: Pandas `DataFrame`\n",
    "- **Output**: True/False\n",
    "\n",
    "The input of the function is the Pandas `DataFrame` made by the *Read Data* function. The output is a boolean value, which labels the good calibration events.\n",
    "\n",
    "Good events requires at least 3 hits in different layers for each chamber, either in the left or in the right side of the detector."
   ]
  },
  {
   "cell_type": "code",
   "execution_count": 19,
   "metadata": {},
   "outputs": [
    {
     "name": "stdout",
     "output_type": "stream",
     "text": [
      "False\n",
      "    EvNumber  Hit  Chamber  Layer  XL_local  XR_local  Z_local   Time  \\\n",
      "0          4    0        0      1   650.100    651.90      6.5   15.8   \n",
      "1          4    1        2      2   165.800    170.20     19.5   41.7   \n",
      "2          4    2        2      4   160.600    175.40     45.5  137.5   \n",
      "3          4    3        2      1   127.700    166.30      6.5  359.2   \n",
      "4          4    4        2      3   131.800    162.20     32.5  282.5   \n",
      "5          4    5        3      2    40.560     43.44     19.5   26.7   \n",
      "6          4    6        3      1    13.950     28.05      6.5  130.8   \n",
      "7          4    7        3      4    35.310     48.69     45.5  124.2   \n",
      "8          4    8        3      3    18.530     23.47     32.5   45.8   \n",
      "9          4    9        3      2    25.940     58.06     19.5  298.3   \n",
      "10         4   10        3      3     2.871     39.13     32.5  336.7   \n",
      "11         4   11        3      1    48.240     77.76      6.5  274.2   \n",
      "\n",
      "    XL_global  XR_global  Z_global  \n",
      "0     344.100     342.30     830.0  \n",
      "1    -433.200    -437.60     843.0  \n",
      "2    -428.000    -442.80     869.0  \n",
      "3    -395.100    -433.70     830.0  \n",
      "4    -399.200    -429.60     856.0  \n",
      "5    -302.060    -304.94      19.5  \n",
      "6    -275.450    -289.55       6.5  \n",
      "7    -296.810    -310.19      45.5  \n",
      "8    -280.030    -284.97      32.5  \n",
      "9    -287.440    -319.56      19.5  \n",
      "10   -264.371    -300.63      32.5  \n",
      "11   -309.740    -339.26       6.5  \n"
     ]
    }
   ],
   "source": [
    "def select_events(dataframe):\n",
    "        \n",
    "        #hits only in the left side\n",
    "        if((dataframe['Chamber']<=1).all()):\n",
    "            #compute number of different layers in each chamber\n",
    "            n_layer_ch0 = dataframe[dataframe['Chamber']==0]['Layer'].nunique()\n",
    "            n_layer_ch1 = dataframe[dataframe['Chamber']==1]['Layer'].nunique()\n",
    "            \n",
    "            #require at least 3 different layers for each chamber\n",
    "            if(n_layer_ch0>=3 and n_layer_ch1>=3):\n",
    "                return True\n",
    "            else:\n",
    "                return False\n",
    "            \n",
    "        #hits only in the right side\n",
    "        elif((dataframe['Chamber']>=2).all()):\n",
    "            #compute number of different layers in each chamber\n",
    "            n_layer_ch2 = dataframe[dataframe['Chamber']==2]['Layer'].nunique()\n",
    "            n_layer_ch3 = dataframe[dataframe['Chamber']==3]['Layer'].nunique() \n",
    "            \n",
    "            #require at least 3 different layers for each chamber\n",
    "            if(n_layer_ch2>=3 and n_layer_ch3>=3):\n",
    "                return True\n",
    "            else:\n",
    "                return False\n",
    "        \n",
    "        #hits in both left and right side\n",
    "        else:\n",
    "            return False\n",
    "    \n",
    "#print(select_events(ev))            \n",
    "#print(ev)\n",
    "\n",
    "    "
   ]
  },
  {
   "cell_type": "markdown",
   "metadata": {},
   "source": [
    "# Efficiency\n"
   ]
  },
  {
   "cell_type": "code",
   "execution_count": null,
   "metadata": {
    "collapsed": true
   },
   "outputs": [],
   "source": []
  }
 ],
 "metadata": {
  "kernelspec": {
   "display_name": "Python 3",
   "language": "python",
   "name": "python3"
  },
  "language_info": {
   "codemirror_mode": {
    "name": "ipython",
    "version": 3
   },
   "file_extension": ".py",
   "mimetype": "text/x-python",
   "name": "python",
   "nbconvert_exporter": "python",
   "pygments_lexer": "ipython3",
   "version": "3.6.3"
  }
 },
 "nbformat": 4,
 "nbformat_minor": 2
}
