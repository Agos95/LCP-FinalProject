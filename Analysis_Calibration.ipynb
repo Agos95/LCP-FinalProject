{
 "cells": [
  {
   "cell_type": "markdown",
   "metadata": {},
   "source": [
    "# Laboratory of Computational Physics MOD. A\n",
    "\n",
    "# Final project: Tracking muons with 4 Drift Tubes chambers setup\n",
    "\n",
    "#### Authors:\n",
    "- Federico Agostini\n",
    "- Federico Bottaro\n",
    "- Valeria Fioroni\n",
    "- Gianmarco Pompeo"
   ]
  },
  {
   "cell_type": "markdown",
   "metadata": {},
   "source": [
    "# Introduction\n",
    "\n",
    "!!!!!!!!!!!!!!!!!!!!! scrivere introduzione !!!!!!!!!!!!!!!!!!!!!!!!!!!!!!!!!!"
   ]
  },
  {
   "cell_type": "code",
   "execution_count": 1,
   "metadata": {},
   "outputs": [],
   "source": [
    "# Boolean variables to set path to data properly\n",
    "Agostini = 0\n",
    "Bottaro = 1\n",
    "Fioroni = 0\n",
    "Pompeo = 0\n",
    "\n",
    "#Path to Calibration data\n",
    "if (Agostini):\n",
    "    data_calib = \" \"\n",
    "    \n",
    "elif (Bottaro):\n",
    "    data_calib = \"/Users/federicob/Documents/Physics_of_data/final_p/data/data_merged/calibration/\"\n",
    "    \n",
    "elif (Fioroni):\n",
    "    data_calib = \"/home/utente/Scrivania/Progetto_LCP/data/calibration/\"\n",
    "    \n",
    "elif (Pompeo):\n",
    "    data_calib = \" \"    \n",
    "    \n",
    "    \n",
    "#Path to Physics data    \n",
    "if (Agostini):\n",
    "    data_physics = \" \"\n",
    "    \n",
    "elif (Bottaro):\n",
    "    data_physics = \"/Users/federicob/Documents/Physics_of_data/final_p/data/data_merged/calibration/\"\n",
    "    \n",
    "elif (Fioroni):\n",
    "    data_physics = \"/home/utente/Scrivania/Progetto_LCP/data/physics/\"\n",
    "    \n",
    "elif (Pompeo):\n",
    "    data_physics = \" \"    \n",
    "    \n",
    "    \n",
    "    "
   ]
  },
  {
   "cell_type": "markdown",
   "metadata": {},
   "source": [
    "# Import libraries"
   ]
  },
  {
   "cell_type": "code",
   "execution_count": 2,
   "metadata": {},
   "outputs": [],
   "source": [
    "import numpy as np\n",
    "import pandas as pd\n",
    "import matplotlib.pyplot as plt\n",
    "from matplotlib.patches import Polygon\n",
    "%matplotlib inline\n",
    "from IPython.display import display\n",
    "import os\n",
    "\n"
   ]
  },
  {
   "cell_type": "markdown",
   "metadata": {},
   "source": [
    "# Coordinates transformation"
   ]
  },
  {
   "cell_type": "code",
   "execution_count": 3,
   "metadata": {},
   "outputs": [],
   "source": [
    "#Cell dimensions\n",
    "XCELL = 42.\n",
    "ZCELL = 13. \n",
    "\n",
    "# X coordinates translation\n",
    "global_x_shifts = [994.2, 947.4,-267.4,-261.5,]\n",
    "\n",
    "# Z coordinates translations\n",
    "local_z_shifts = [z*ZCELL for z in range(0,4)]\n",
    "global_z_shifts = [823.5, 0, 823.5, 0]"
   ]
  },
  {
   "cell_type": "markdown",
   "metadata": {},
   "source": [
    "# Read data\n",
    "\n",
    "- **Input**: 1 row of data_file.txt, e.g. 1 event, passed as a `list`\n",
    "- **Output**: pandas dataframe as in the *Data Format* paragraph, Number of the Event, Number of hits in the Event\n",
    "\n",
    "This function takes in input one event at time, and then outputs a pandas dataframe as described in the previous section. In addition, the transformation from local to global coordinates is performed."
   ]
  },
  {
   "cell_type": "code",
   "execution_count": 4,
   "metadata": {},
   "outputs": [],
   "source": [
    "def read_data(event):    \n",
    "    event_number = int(event[0])\n",
    "    hits_number  = int(event[1])\n",
    "    if hits_number == 0:\n",
    "        hit       = [np.nan]\n",
    "        chamber   = [np.nan]\n",
    "        layer     = [np.nan]\n",
    "        xl_local  = [np.nan]\n",
    "        xr_local  = [np.nan]\n",
    "        z_local   = [np.nan]\n",
    "        time      = [np.nan]\n",
    "        xl_global = [np.nan]\n",
    "        xr_global = [np.nan]\n",
    "        z_global  = [np.nan]\n",
    "    else:\n",
    "        hit       = np.arange(hits_number)\n",
    "        chamber   = np.fromiter((event[2+5*i] for i in range(hits_number)), int)\n",
    "        layer     = np.fromiter((event[3+5*i] for i in range(hits_number)), int)\n",
    "        xl_local  = np.fromiter((event[4+5*i] for i in range(hits_number)), float)\n",
    "        xr_local  = np.fromiter((event[5+5*i] for i in range(hits_number)), float)\n",
    "        z_local   = np.fromiter((local_z_shifts[i-1]+ZCELL/2 for i in layer), float)\n",
    "        time      = np.fromiter((event[6+5*i] for i in range(hits_number)), float)\n",
    "        xl_global = np.fromiter((global_x_shifts[i] for i in chamber), float) - xl_local\n",
    "        xr_global = np.fromiter((global_x_shifts[i] for i in chamber), float) - xr_local\n",
    "        z_global  = np.fromiter((global_z_shifts[i] for i in chamber), float) + z_local\n",
    "        \n",
    "    dataframe = pd.DataFrame(\n",
    "        { 'EvNumber' : event_number,\n",
    "          'Hit'      : hit,\n",
    "          'Chamber'  : chamber,\n",
    "          'Layer'    : layer,\n",
    "          'XL_local' : xl_local,\n",
    "          'XR_local' : xr_local,\n",
    "          'Z_local'  : z_local,\n",
    "          'Time'     : time,\n",
    "          'XL_global': xl_global,\n",
    "          'XR_global': xr_global,\n",
    "          'Z_global' : z_global,\n",
    "        })\n",
    "\n",
    "        \n",
    "    #dataframe.set_index('Hit', inplace=True) # set as index the number of the hit \n",
    "    return dataframe, event_number, hits_number\n",
    "\n"
   ]
  },
  {
   "cell_type": "markdown",
   "metadata": {},
   "source": [
    "# Plot background\n",
    "\n",
    "- **Input**: `None`\n",
    "- **Output**: `list`\\[pyplot `Axes`\\] (global image + 4 detectors zooms)\n",
    "\n",
    "The input of the function is the pandas dataframe made by the *Read Data* function. Five plots are given as output: one image of the whole detector, and one for each of the 4 chambers. In the images there will be the points of the hits tracked in the event (left/right positions must have different colors).\n",
    "\n",
    "Instead of having 4 different 2D numpy arrays with the coordinates of the vertices of the 4 chambers, we create a pandas DataFrame with the following columns:\n",
    "\n",
    "| chamber | x_vertices | y_vertices |\n",
    "| --- | --- | --- |\n",
    "\n",
    "where *x_vertices*, *y_vertices* contain a list with the four x/y coordinates of the 4 vertices of the chamber."
   ]
  },
  {
   "cell_type": "code",
   "execution_count": 5,
   "metadata": {},
   "outputs": [],
   "source": [
    "def plot_background():\n",
    "    # create Pandas DataFrame for the cambers positions\n",
    "    chamber_position = pd.DataFrame({\n",
    "    'chamber' : [i for i in range(4)],\n",
    "    'x_vertices' : [(global_x_shifts[i], global_x_shifts[i] - 720, global_x_shifts[i] - 720, global_x_shifts[i])\n",
    "                    for i in range(4)],\n",
    "    'y_vertices' : [(global_z_shifts[i], global_z_shifts[i], global_z_shifts[i] + 52, global_z_shifts[i] + 52)\n",
    "                    for i in range(4)],\n",
    "    })\n",
    "    x_lim = [[-1000, 1000], # global detector\n",
    "             [    0, 1000], # chamber 0\n",
    "             [    0, 1000], # chamber 1\n",
    "             [-1000,    0], # chamber 2\n",
    "             [-1000,    0]] # chamber 3\n",
    "    y_lim = [[-100, 1000],  # global detector\n",
    "             [800 ,  900],  # chamber 0\n",
    "             [ -25,   75],  # chamber 1\n",
    "             [ 800,  900],  # chamber 2\n",
    "             [ -25,   75]]  # chamber 3\n",
    "    title = [\"DETECTOR\", \"Chamber 0\", \"Chamber 1\", \"Chamber 2\", \"Chamber 3\"]\n",
    "    # create pyplot 'Axes' objects\n",
    "    ax_global = plt.subplot2grid(gridsize, (0, 0), colspan=2, rowspan=2)\n",
    "    ax_0 = plt.subplot2grid(gridsize, (2, 1), colspan=1, rowspan=1) # top-right\n",
    "    ax_1 = plt.subplot2grid(gridsize, (3, 1), colspan=1, rowspan=1) # bottom-right\n",
    "    ax_2 = plt.subplot2grid(gridsize, (2, 0), colspan=1, rowspan=1) # top-left\n",
    "    ax_3 = plt.subplot2grid(gridsize, (3, 0), colspan=1, rowspan=1) # bottom-left\n",
    "    \n",
    "    axes = [ax_global, ax_0, ax_1, ax_2, ax_3]\n",
    "    for index, ax in enumerate(axes):\n",
    "        ax.set_xlim(x_lim[index])\n",
    "        ax.set_ylim(y_lim[index])\n",
    "        ax.set_xlabel(\"x [mm]\")\n",
    "        ax.set_ylabel(\"z [mm]\")\n",
    "        if index == 0: ax.set_title(title[index])\n",
    "        else: ax.set_title(title[index], pad=-20)\n",
    "        # plot the 4 chambers in each 'Axes'\n",
    "        for j in range(4):\n",
    "            chamber = chamber_position[chamber_position[\"chamber\"] == j]\n",
    "            ax.fill(chamber[\"x_vertices\"].values[0], chamber[\"y_vertices\"].values[0], color='gray', fill=False)\n",
    "    return axes"
   ]
  },
  {
   "cell_type": "markdown",
   "metadata": {},
   "source": [
    "# Plot events\n",
    "\n",
    "- **Input**: Pandas `DataFrame` (1 event) + event number\n",
    "- **Output**: `list`\\[pyplot `Axes`\\] (global image + 4 detectors zooms)\n",
    "\n",
    "The input of the function is the Pandas `DataFrame` made by the *Read Data* function, and the event number (this is due to the fact that, if the are no hits, the `DataFrame` is empty, and therefore we can't get the Event number from that). Five plots are given as output: one image of the whole detector, and one for each of the 4 chambers. In the images there will be the points of the hits tracked in the event (left/right positions must have different colors)."
   ]
  },
  {
   "cell_type": "code",
   "execution_count": 6,
   "metadata": {},
   "outputs": [],
   "source": [
    "def plot_events(dataframe, evNumber):\n",
    "    # get the EvNumber as argument, because, if the dataframe is empty,\n",
    "    # I can't get it from data\n",
    "    plots = plot_background()\n",
    "    plots[0].set_title(\"Event:\"+str(evNumber), {'size':'18'})\n",
    "    if dataframe.empty == False:\n",
    "        xL = dataframe[\"XL_global\"]\n",
    "        xR = dataframe[\"XR_global\"]\n",
    "        z  = dataframe[\"Z_global\"]\n",
    "        for index, image in enumerate(plots):     \n",
    "            image.plot(xL, z, \"bo\", markersize=3)\n",
    "            image.plot(xR, z, \"ro\", markersize=3)\n",
    "    return plots\n",
    "\n"
   ]
  },
  {
   "cell_type": "markdown",
   "metadata": {},
   "source": [
    "# Select Events (Calibration)\n",
    "\n",
    "- **Input**: Pandas `DataFrame`\n",
    "- **Output**: True/False, list with involved chambers numbers, list with number of different layers per chamber\n",
    "\n",
    "The input of the function are the Pandas `DataFrame` and hits number from *read_data* function. The output is a boolean value, which labels the good calibration events, a list with the number of the chambers involved (0,1) or (2,3), and a list with the number of hit layers for each chamber.\n",
    "\n",
    "Good events requires at least 3 hits in different layers for each chamber, either in the left or in the right side of the detector."
   ]
  },
  {
   "cell_type": "code",
   "execution_count": 7,
   "metadata": {},
   "outputs": [],
   "source": [
    "def select_events(dataframe,hits_number):\n",
    "        \n",
    "        if (hits_number < 6 or hits_number > 20):\n",
    "            select=False\n",
    "            chambers=[]\n",
    "            n_layer=[]\n",
    "            return select, chambers, n_layer \n",
    "\n",
    "        else:\n",
    "            #hits only in the right side\n",
    "            if((dataframe['Chamber']<=1).all()):\n",
    "                chambers=[0,1]\n",
    "                #compute number of different layers in each chamber\n",
    "                n_layer_ch0 = dataframe[dataframe['Chamber']==0]['Layer'].nunique()\n",
    "                n_layer_ch1 = dataframe[dataframe['Chamber']==1]['Layer'].nunique()\n",
    "                \n",
    "                n_layer=[n_layer_ch0, n_layer_ch1]\n",
    "                \n",
    "                #require at least 3 different layers for each chamber\n",
    "                if(n_layer_ch0>=3 and n_layer_ch1>=3):\n",
    "                    select=True\n",
    "                    return select, chambers, n_layer\n",
    "                else:\n",
    "                    select=False\n",
    "                    return select, chambers, n_layer\n",
    "                \n",
    "            #hits only in the left side\n",
    "            elif((dataframe['Chamber']>=2).all()):\n",
    "                chambers=[2,3]\n",
    "                #compute number of different layers in each chamber\n",
    "                n_layer_ch2 = dataframe[dataframe['Chamber']==2]['Layer'].nunique()\n",
    "                n_layer_ch3 = dataframe[dataframe['Chamber']==3]['Layer'].nunique() \n",
    "                \n",
    "                n_layer=[n_layer_ch2, n_layer_ch3]\n",
    "                \n",
    "                #require at least 3 different layers for each chamber\n",
    "                if(n_layer_ch2>=3 and n_layer_ch3>=3):\n",
    "                    select=True\n",
    "                    return select, chambers, n_layer\n",
    "                else:\n",
    "                    select=False\n",
    "                    return select, chambers, n_layer\n",
    "            \n",
    "            #hits in both left and right side\n",
    "            else:\n",
    "                select=False\n",
    "                chambers=[]\n",
    "                n_layer=[]\n",
    "                return select, chambers, n_layer \n"
   ]
  },
  {
   "cell_type": "markdown",
   "metadata": {},
   "source": [
    "# Task 4: local linear fit\n",
    "\n",
    "- Input: Pandas DataFrame, list with involved chambers numbers, list with number of different layers per chamber\n",
    "- Output: list of 2 dictionaries, one for each chamber, containing fit results\n",
    "\n",
    "The input of the function are the Pandas DataFrame made by the read_data function, and the two list returned by the select_events function. The output is a list of 2 dictionaries, one for each chamber, containing slope, intercept, numpy array with best combination of points and number of the excluded layer.\n",
    "The best combination of points is the one with the least Chi Squared."
   ]
  },
  {
   "cell_type": "code",
   "execution_count": 8,
   "metadata": {},
   "outputs": [],
   "source": [
    "import random\n",
    "from scipy import stats\n",
    "\n",
    "def local_fit1(dataframe, list_chambers, list_layers):\n",
    "    #list to store results for each chamber\n",
    "    results=[]\n",
    "    #loop over the (two) chambers\n",
    "    for i in range(0,len(list_chambers)):\n",
    "       #if we have 4 different layers we randomly select a layer to be excluded\n",
    "       #we will use the point from the excluded layer to check the goodness of the global fit\n",
    "        if(list_layers[i]==4):\n",
    "            rand_layer=random.randint(1,4)\n",
    "        else:\n",
    "            rand_layer=0 #layers are 1,2,3,4: excluding layer 0 is equivalent to keeping them all\n",
    "        \n",
    "        #create dataframe_cl filtered by chamber and excluded layer\n",
    "        dataframe_c = dataframe[dataframe['Chamber']==list_chambers[i]] #dataframe filtered by chamber\n",
    "        dataframe_cl = dataframe_c[dataframe_c['Layer']!=rand_layer]    #filtered by chamber and excluded layer\n",
    "        \n",
    "        # Z local coordinates corresponding to the 4 different layers\n",
    "        Z=[6.5,19.5, 32.5, 45.5]\n",
    "        \n",
    "        #create a list l containing 3 lists of points (z,x), one for each selected layer\n",
    "        l=[]\n",
    "        \n",
    "        #loop over selected layers and fill l\n",
    "        for layer_index in dataframe_cl['Layer'].unique():\n",
    "            XR=np.array(dataframe_cl[dataframe_cl['Layer']==layer_index]['XR_local'])\n",
    "            XL=np.array(dataframe_cl[dataframe_cl['Layer']==layer_index]['XL_local'])\n",
    "            \n",
    "            z=Z[(layer_index-1)] #layer_index is in range [1,4], list index must be in range [0,3]\n",
    "            l_temp=[]\n",
    "            \n",
    "            for x in XR:\n",
    "                l_temp.append((z,x))\n",
    "            for x in XL:\n",
    "                l_temp.append((z,x)) \n",
    "            l.append(l_temp) \n",
    "            \n",
    "        #create numpy array with all possible combinations of 3 points p1,p2,p3\n",
    "        combinations=np.array([(p1,p2,p3) for p1 in l[0] for p2 in l[1] for p3 in l[2]])\n",
    "        \n",
    "        #interpolate each combination and select the combination with least chi squared\n",
    "        min_chisq=100000 #to store minimum chisq\n",
    "        optimal_comb=np.zeros((3,2)) #to store best combination of points\n",
    "        slope_opt=0 #to store slope obtained with the best combination\n",
    "        intercept_opt=0 #to store intercept obtained with the best combination\n",
    "        for points in combinations:\n",
    "            #linear regression\n",
    "            slope, intercept, r_value, p_value, std_err=stats.linregress(points[:,0],points[:,1])\n",
    "            #compute expected x using the interpolating function\n",
    "            expect_x=intercept+slope*(points[:,0])\n",
    "            #compute chi squared\n",
    "            chisq, p_value=stats.chisquare(points[:,1],expect_x)\n",
    "            #eventually update min_chisq and optimal_comb\n",
    "            if(chisq<min_chisq):\n",
    "                min_chisq=chisq\n",
    "                optimal_comb=points\n",
    "                slope_opt=slope\n",
    "                intercept_opt=intercept\n",
    "            else:\n",
    "                continue\n",
    "                  \n",
    "        \n",
    "        #add to results: results is a list of 2 dictionaries, one for each chamber       \n",
    "        results.append({\"slope\":slope_opt, \n",
    "                        \"intercept\":intercept_opt, \n",
    "                        \"optimal_comb\": optimal_comb, \n",
    "                        \"excl_layer\": rand_layer})\n",
    "                   \n",
    "    return results\n",
    "\n",
    "\n"
   ]
  },
  {
   "cell_type": "markdown",
   "metadata": {},
   "source": [
    "# LOCAL FIT SENZA ESCLUDERE LAYERS"
   ]
  },
  {
   "cell_type": "code",
   "execution_count": 9,
   "metadata": {},
   "outputs": [
    {
     "data": {
      "text/plain": [
       "'come chiamare la funzione:\\nlf_results=local_fit(ev, chambers, n_layers)\\nprint(\"Prima camera\\n\",lf_results[0])\\nprint(\"Seconda camera\\n\", lf_results[1])\\n'"
      ]
     },
     "execution_count": 9,
     "metadata": {},
     "output_type": "execute_result"
    }
   ],
   "source": [
    "import random\n",
    "from scipy import stats\n",
    "\n",
    "def local_fit(dataframe, list_chambers, list_layers, exclusion_layer=0):\n",
    "    #list to store results for each chamber\n",
    "    results=[]\n",
    "    #loop over the (two) chambers\n",
    "    for i in range(0,len(list_chambers)):\n",
    "       #if we have 4 different layers we randomly select a layer to be excluded\n",
    "       #we will use the point from the excluded layer to check the goodness of the global fit\n",
    "        if(list_layers[i]==4 and exclusion_layer==1):\n",
    "            rand_layer=random.randint(1,4)\n",
    "        else:\n",
    "            rand_layer=0 #layers are 1,2,3,4: excluding layer 0 is equivalent to keeping them all\n",
    "        \n",
    "        #create dataframe_cl filtered by chamber and excluded layer\n",
    "        dataframe_c = dataframe[dataframe['Chamber']==list_chambers[i]] #dataframe filtered by chamber\n",
    "        dataframe_cl = dataframe_c[dataframe_c['Layer']!=rand_layer]    #filtered by chamber and excluded layer\n",
    "        \n",
    "        # Z local coordinates corresponding to the 4 different layers\n",
    "        Z=[6.5, 19.5, 32.5, 45.5]\n",
    "        \n",
    "        #create a list l containing lists of points (z,x), one for each selected layer\n",
    "        l=[]\n",
    "        \n",
    "        #loop over selected layers and fill l\n",
    "        for layer_index in dataframe_cl['Layer'].unique():\n",
    "            XR=np.array(dataframe_cl[dataframe_cl['Layer']==layer_index]['XR_local'])\n",
    "            XL=np.array(dataframe_cl[dataframe_cl['Layer']==layer_index]['XL_local'])\n",
    "            \n",
    "            z=Z[(layer_index-1)] #layer_index is in range [1,4], list index must be in range [0,3]\n",
    "            l_temp=[]\n",
    "            \n",
    "            for x in XR:\n",
    "                l_temp.append((z,x))\n",
    "            for x in XL:\n",
    "                l_temp.append((z,x)) \n",
    "            l.append(l_temp) \n",
    "            \n",
    "        #create numpy array with all possible combinations of 3 (4) points p1,p2,p3(,p4)\n",
    "        if(list_layers[i]==3 or exclusion_layer==1):\n",
    "            combinations=np.array([(p1,p2,p3) for p1 in l[0] for p2 in l[1] for p3 in l[2]]) \n",
    "        elif(list_layers[i]==4 and exclusion_layer==0):\n",
    "            combinations=np.array([(p1,p2,p3,p4) for p1 in l[0] for p2 in l[1] for p3 in l[2] for p4 in l[3]])\n",
    "        else:\n",
    "            print(\"ERROR, Unexpected number of layers\")\n",
    "            break   \n",
    "            \n",
    "        \n",
    "        #interpolate each combination and select the combination with least chi squared\n",
    "        min_chisq=100000 #to store minimum chisq\n",
    "        if(list_layers[i]==3 or exclusion_layer==1):\n",
    "            optimal_comb=np.zeros((3,2)) #to store best combination of points\n",
    "        if(list_layers[i]==4 and exclusion_layer==0):\n",
    "            optimal_comb=np.zeros((4,2)) #to store best combination of points    \n",
    "        slope_opt=0 #to store slope obtained with the best combination\n",
    "        intercept_opt=0 #to store intercept obtained with the best combination\n",
    "        for points in combinations:\n",
    "            #linear regression\n",
    "            slope, intercept, r_value, p_value, std_err=stats.linregress(points[:,0],points[:,1])\n",
    "            #compute expected x using the interpolating function\n",
    "            expect_x=intercept+slope*(points[:,0])\n",
    "            #compute chi squared\n",
    "            chisq, p_value=stats.chisquare(points[:,1],expect_x)\n",
    "            #eventually update min_chisq and optimal_comb\n",
    "            if(chisq<min_chisq):\n",
    "                min_chisq=chisq\n",
    "                optimal_comb=points\n",
    "                slope_opt=slope\n",
    "                intercept_opt=intercept\n",
    "            else:\n",
    "                continue\n",
    "                  \n",
    "        \n",
    "        #add to results: results is a list of 2 dictionaries, one for each chamber       \n",
    "        results.append({\"slope\":slope_opt, \n",
    "                        \"intercept\":intercept_opt, \n",
    "                        \"optimal_comb\": optimal_comb, \n",
    "                        \"excl_layer\": rand_layer})\n",
    "                   \n",
    "    return results\n",
    "\n",
    "\n",
    "\n",
    "\"\"\"come chiamare la funzione:\n",
    "lf_results=local_fit(ev, chambers, n_layers)\n",
    "print(\"Prima camera\\n\",lf_results[0])\n",
    "print(\"Seconda camera\\n\", lf_results[1])\n",
    "\"\"\""
   ]
  },
  {
   "cell_type": "markdown",
   "metadata": {},
   "source": [
    "# Task 5: global linear fit\n",
    "\n",
    "- Input: Pandas DataFrame, list with involved chambers numbers, output list of local_fit function\n",
    "- Output: Dictionary containing fit results\n",
    "\n",
    "The input of the function are the Pandas DataFrame made by the read_data function, the list with involved chambers numbers returned by the select_events function and the list of 2 dictionaries returned by the local_fit function. The output is a dictionary containing slope, intercept and a numpy array with residuals computed for the eventual test layers. Praticamente prende i tre migliori di ognuna delle due camere e fa il fit globale con questi 3.\n",
    "\n",
    "\n",
    "\n",
    "\n",
    "#### La valeria aveva scritto questo anche se non capisco molto perchè non vada bene visto che i fit escono.\n",
    "Nota provvisoria: in questo caso non credo si possa calcolare il chi quadro poiché le x possono essere negative. Per il test del chi quadro il valore atteso deve essere positivo (di solito sono frequenze), altrimenti viene un chi quadro negativo (??)\n",
    "\n"
   ]
  },
  {
   "cell_type": "code",
   "execution_count": 10,
   "metadata": {},
   "outputs": [
    {
     "data": {
      "text/plain": [
       "'come chiamare la funzione:\\ngf_results=global_fit(ev, chambers, lf_results)\\nprint(gf_results)\\n'"
      ]
     },
     "execution_count": 10,
     "metadata": {},
     "output_type": "execute_result"
    }
   ],
   "source": [
    "from math import fabs\n",
    "\n",
    "def global_fit(dataframe, list_chambers, lfit_results):\n",
    "    \n",
    "    #TRANSFORM LOCAL COORDINATES IN GLOBAL COORDINATES\n",
    "    \n",
    "    #First chamber:\n",
    "    global_z_ch1 = global_z_shifts[list_chambers[0]]+lfit_results[0][\"optimal_comb\"][:,0]\n",
    "    global_x_ch1 = global_x_shifts[list_chambers[0]]-lfit_results[0][\"optimal_comb\"][:,1]\n",
    "    global_ch1=np.column_stack((global_z_ch1, global_x_ch1))\n",
    "    \n",
    "    #Second chamber:\n",
    "    global_z_ch2 = global_z_shifts[list_chambers[1]]+lfit_results[1][\"optimal_comb\"][:,0]\n",
    "    global_x_ch2 = global_x_shifts[list_chambers[1]]-lfit_results[1][\"optimal_comb\"][:,1]\n",
    "    global_ch2=np.column_stack((global_z_ch2, global_x_ch2))\n",
    "    \n",
    "    points=np.concatenate((global_ch1, global_ch2))\n",
    "    #print(points)\n",
    "    #LINEAR REGRESSION\n",
    "    slope, intercept, r_value, p_value, std_err=stats.linregress(points[:,0],points[:,1])\n",
    "    \n",
    "    #compute expected x using the interpolating function\n",
    "    expect_x=intercept+slope*(points[:,0])\n",
    "        \n",
    "    #COMPUTE RESIDUALS USING TEST LAYER (layer excluded in local fit function)\n",
    "    # Z local coordinates corresponding to the 4 different layers\n",
    "    Z_local=[6.5,19.5, 32.5, 45.5]\n",
    "    #list to store residuals\n",
    "    res=[]\n",
    "    #compute residuals for each chamber\n",
    "    for c in range(0,len(list_chambers)):\n",
    "        dataframe_c = dataframe[dataframe['Chamber']==list_chambers[c]] #dataframe filtered by chamber\n",
    "        res_temp=[]\n",
    "        excl_layer=lfit_results[c][\"excl_layer\"]\n",
    "        #test layer Z global coordinate \n",
    "        Z_test_layer=global_z_shifts[c]+Z_local[(excl_layer-1)]\n",
    "        #if there were only 3 layers, excl_layer was set to 0:\n",
    "        if(excl_layer!=0): \n",
    "            expect_x=intercept+slope*(Z_test_layer)\n",
    "            XR=np.array(dataframe_c[dataframe_c['Layer']==excl_layer]['XR_global'])\n",
    "            XL=np.array(dataframe_c[dataframe_c['Layer']==excl_layer]['XL_global'])\n",
    "            for i in range(0,XR.size):\n",
    "                res_temp.append(XR[i]-expect_x)\n",
    "            for i in range(0,XL.size):\n",
    "                res_temp.append(XL[i]-expect_x)\n",
    "                \n",
    "            res_temp.sort(key=fabs) #we want the smallest residual in absolute value\n",
    "            res.append(res_temp[0])\n",
    "        else:\n",
    "            res=[]\n",
    "    #convert list res in numpy array  \n",
    "    res=np.array(res) \n",
    "    #plt.plot(points[:,0],points[:,1], 'o')\n",
    "    #plt.plot(points[:,0],intercept+slope*points[:,0], 'r')\n",
    "    #plt.show()\n",
    "    return {\"slope\": slope, \"intercept\": intercept, \"residuals\": res }\n",
    "    \n",
    "\"\"\"come chiamare la funzione:\n",
    "gf_results=global_fit(ev, chambers, lf_results)\n",
    "print(gf_results)\n",
    "\"\"\""
   ]
  },
  {
   "cell_type": "code",
   "execution_count": 11,
   "metadata": {},
   "outputs": [
    {
     "data": {
      "text/plain": [
       "'gf_results_comb=global_fit_combinations(ev, chambers, n_layers)\\nprint(gf_results_comb)'"
      ]
     },
     "execution_count": 11,
     "metadata": {},
     "output_type": "execute_result"
    }
   ],
   "source": [
    "def global_fit_combinations(dataframe, list_chambers, list_layers):\n",
    "    #print(list_layers)\n",
    "    #list to store results for each chamber\n",
    "    results=[]\n",
    "    #create a list l containing lists of points (z,x), one for each selected layer\n",
    "    l=[]\n",
    "    #loop over the (two) chambers\n",
    "    for i in range(0,len(list_chambers)):\n",
    "        #create dataframe_cl filtered by chamber and excluded layer\n",
    "        dataframe_cl = dataframe[dataframe['Chamber']==list_chambers[i]] #dataframe filtered by chamber\n",
    "        \n",
    "        # Z local coordinates corresponding to the 4 different layers\n",
    "        Z=[6.5, 19.5, 32.5, 45.5]\n",
    "        global_z_shifts = [823.5, 0, 823.5, 0]\n",
    "        \n",
    "        #loop over selected layers and fill l\n",
    "        for layer_index in dataframe_cl['Layer'].unique():\n",
    "            XR=np.array(dataframe_cl[dataframe_cl['Layer']==layer_index]['XR_global'])\n",
    "            XL=np.array(dataframe_cl[dataframe_cl['Layer']==layer_index]['XL_global'])\n",
    "            \n",
    "            z= global_z_shifts[list_chambers[i]]+Z[(layer_index-1)] #layer_index is in range [1,4], list index must be in range [0,3]\n",
    "            l_temp=[]\n",
    "            \n",
    "            for x in XR:\n",
    "                l_temp.append((z,x))\n",
    "            for x in XL:\n",
    "                l_temp.append((z,x)) \n",
    "            l.append(l_temp) \n",
    "            \n",
    "            \n",
    "    print(\"len l: \")        \n",
    "    print(len(l))        \n",
    "    #create numpy array with all possible combinations of 3 (4) points p1,p2,p3(,p4)\n",
    "    print(list_layers)\n",
    "    total_layers=list_layers[0]+list_layers[1]\n",
    "    if(total_layers==6):\n",
    "        combinations=np.array([(p1,p2,p3,p4,p5,p6) for p1 in l[0] for p2 in l[1] for p3 in l[2] for p4 in l[3] for p5 in l[4] for p6 in l[5]]) \n",
    "    elif(total_layers==7):\n",
    "        combinations=np.array([(p1,p2,p3,p4,p5,p6,p7) for p1 in l[0] for p2 in l[1] for p3 in l[2] for p4 in l[3] for p5 in l[4] for p6 in l[5] for p7 in l[6]]) \n",
    "    elif(total_layers==8):\n",
    "        combinations=np.array([(p1,p2,p3,p4,p5,p6,p7,p8) for p1 in l[0] for p2 in l[1] for p3 in l[2] for p4 in l[3] for p5 in l[4] for p6 in l[5] for p7 in l[6] for p8 in l[7]]) \n",
    "    else:\n",
    "        print(\"ERROR, Unexpected number of layers\")\n",
    "        \n",
    "   \n",
    "    print(\"len comb\")\n",
    "    print(len(combinations))     \n",
    "    #print(combinations[0])    \n",
    "    #interpolate each combination and select the combination with least chi squared\n",
    "    min_chisq=100000 #to store minimum chisq\n",
    "    if(total_layers==6):\n",
    "        optimal_comb=np.zeros((6,2)) #to store best combination of points with hit in 6 layer\n",
    "    elif(total_layers==7):\n",
    "        optimal_comb=np.zeros((7,2)) #to store best combination of points with hit in 7 layer\n",
    "    elif(total_layers==8):\n",
    "        optimal_comb=np.zeros((8,2)) #to store best combination of points with hit in 8 layer\n",
    "         \n",
    "    slope_opt=0 #to store slope obtained with the best combination\n",
    "    intercept_opt=0 #to store intercept obtained with the best combination\n",
    "    for points in combinations:\n",
    "        #linear regression\n",
    "        slope, intercept, r_value, p_value, std_err=stats.linregress(points[:,0],points[:,1])\n",
    "        #compute expected x using the interpolating function\n",
    "        expect_x=intercept+slope*(points[:,0])\n",
    "        #compute chi squared\n",
    "        chisq, p_value=stats.chisquare(points[:,1],expect_x)\n",
    "        #eventually update min_chisq and optimal_comb\n",
    "        if(fabs(chisq)<min_chisq):\n",
    "            min_chisq=fabs(chisq)\n",
    "            optimal_comb=points\n",
    "            slope_opt=slope\n",
    "            intercept_opt=intercept\n",
    "        else:\n",
    "            continue\n",
    "                  \n",
    "        \n",
    "    #add to results      \n",
    "    results={\"slope\":slope_opt, \n",
    "             \"intercept\":intercept_opt, \n",
    "             \"optimal_comb\": optimal_comb}\n",
    "                   \n",
    "    return results\n",
    "\n",
    "\"\"\"gf_results_comb=global_fit_combinations(ev, chambers, n_layers)\n",
    "print(gf_results_comb)\"\"\""
   ]
  },
  {
   "cell_type": "markdown",
   "metadata": {},
   "source": [
    "# Task 6: efficency"
   ]
  },
  {
   "cell_type": "code",
   "execution_count": 12,
   "metadata": {},
   "outputs": [
    {
     "data": {
      "image/png": "[encoded data removed]",
      "text/plain": [
       "<Figure size 432x288 with 1 Axes>"
      ]
     },
     "metadata": {
      "needs_background": "light"
     },
     "output_type": "display_data"
    }
   ],
   "source": [
    "import os\n",
    "\n",
    "#open files\n",
    "#list of all the subdirectories in calibration\n",
    "sub_directories=[x[0] for x in os.walk(\"/Users/federicob/Documents/data/calibration/\")]\n",
    "#for each subdirectory, list all the files\n",
    "residuals=[]\n",
    "residuals=np.array(residuals)\n",
    "\n",
    "for i in range (1,len((sub_directories))):\n",
    "    print(sub_directories[i])\n",
    "    for file in os.listdir(sub_directories[i]+ \"/\"):\n",
    "        print(file)\n",
    "        with open(sub_directories[i]+ \"/\"+file) as f:\n",
    "            for line in f:\n",
    "                event = line.split()\n",
    "                #read data\n",
    "                ev, ev_num, hits_num=read_data(event)\n",
    "                #print(ev_num)\n",
    "                #call select_events function\n",
    "                condition, chambers, n_layers= select_events(ev)\n",
    "                    \n",
    "                if(condition==True):\n",
    "                    lf_results=local_fit(ev, chambers, n_layers)\n",
    "                    gf_results=global_fit(ev, chambers, lf_results)\n",
    "                    residuals=np.concatenate((residuals,gf_results['residuals']))\n",
    "    #print(residuals)    \n",
    "    print(residuals.size)\n",
    "    \n",
    "    plt.figure()\n",
    "        \n",
    "plt.hist(residuals,range=[-25,25])\n",
    "plt.xlabel('residuals (mm)')\n",
    "plt.ylabel('counts')\n",
    "plt.show()"
   ]
  },
  {
   "cell_type": "raw",
   "metadata": {},
   "source": [
    "import seaborn as sns\n",
    "from scipy.stats import norm\n",
    "mean,std  = norm.fit(residuals)\n",
    "\n",
    "E = residuals[(residuals > -std/10) & (residuals < std/10)]\n",
    "\n",
    "efficiency = len(E)/len(residuals)*100\n",
    "print(\"efficiency: \",efficiency,\" %\")\n",
    "\n",
    "\n"
   ]
  },
  {
   "cell_type": "markdown",
   "metadata": {},
   "source": [
    "# Task 7: display the fit\n",
    "\n",
    "#### la Valeria qui aveva scritto:\n",
    "QUESTA FUNZIONE VA RIFATTA, E' UNA BOZZA CHE SERVIVA A ME PER VEDERE COME ERANO I FIT se deve funzionare come event display deve chiamare le funzioni select_events e local_fit e global_fit al suo interno e non prederne i risultati come argomento.\n",
    "\n",
    "#### io dico: \n",
    "se gliela mettiamo di seguiti alle funzioni di selezione e di local/global fit secondo me si può lasciare così\n"
   ]
  },
  {
   "cell_type": "code",
   "execution_count": 13,
   "metadata": {},
   "outputs": [],
   "source": [
    "def plot_fit(dataframe, evNumber, chambers, lf_results, gf_results):\n",
    "    # get the EvNumber as argument, because, if the dataframe is empty,\n",
    "    # I can't get it from data\n",
    "    plots = plot_background()\n",
    "    plots= plot_events(dataframe, evNumber)\n",
    "    plots[0].set_title(\"Event:\"+str(evNumber), {'size':'18'})    \n",
    "    \n",
    "    z_glob=[x for x in range(0,1001)]\n",
    "    z_glob=np.array(z_glob)\n",
    "    \n",
    "    #print(chambers)\n",
    "    #LOCAL FIT\n",
    "    for i in range(0,len(chambers)):\n",
    "        #slope\n",
    "        slope_loc=-lf_results[i]['slope'] #in global coordinates the local slope takes a minus sign\n",
    "        #print(slope_loc)\n",
    "        #intercept in global coordinates\n",
    "        intercept_loc=global_x_shifts[chambers[i]]-lf_results[i]['intercept']-slope_loc*global_z_shifts[chambers[i]]\n",
    "        #print(intercept_loc)\n",
    "        for index, image in enumerate(plots):\n",
    "            image.plot(slope_loc*z_glob+intercept_loc,z_glob, '--', 'b')\n",
    "        \n",
    "                 \n",
    "    #GLOBAL FIT\n",
    "    for j in range(0,len(gf_results)):\n",
    "        slope=gf_results[j]['slope']\n",
    "        intercept=gf_results[j]['intercept']\n",
    "        for index, image in enumerate(plots):\n",
    "            image.plot(slope*z_glob+intercept, z_glob, 'b')\n",
    "            \n",
    "    \n",
    "        \n",
    "    #plt.show()\n",
    "    \n",
    "    return plots\n",
    "\n",
    "#gridsize = (5, 2)\n",
    "#fig = plt.figure(figsize = (12, 24))\n",
    "#axes= plot_fit(ev, evNumber,chambers, lf_results, gf_results)\n"
   ]
  },
  {
   "cell_type": "markdown",
   "metadata": {},
   "source": [
    "# Preliminary plot\n"
   ]
  },
  {
   "cell_type": "markdown",
   "metadata": {},
   "source": [
    "#open files\n",
    "#list of all the subdirectories in calibration\n",
    "sub_directories=[x[0] for x in os.walk(data_calib)]\n",
    "#for each subdirectory, list all the files\n",
    "residuals=[]\n",
    "residuals=np.array(residuals)\n",
    "\n",
    "for i in range (1,len((sub_directories))):\n",
    "    print(sub_directories[i])\n",
    "    for file in os.listdir(sub_directories[i]+ \"/\"):\n",
    "        print(file)\n",
    "        with open(sub_directories[i]+ \"/\"+file) as f:\n",
    "            for line in f:\n",
    "                event = line.split()\n",
    "                #read data\n",
    "                ev, ev_num, hits_num=read_data(event)\n"
   ]
  },
  {
   "cell_type": "code",
   "execution_count": 14,
   "metadata": {},
   "outputs": [],
   "source": [
    "data_file =\"/Users/federicob/Documents/Physics_of_data/final_p/data/data_merged/calibration/sinistra.txt\"\n",
    "count=0\n",
    "tot=0\n",
    "eventi_selezionati=0\n",
    "eventi_totali=0\n",
    "residuals=[]\n",
    "x_punti_sopra=[]\n",
    "x_punti_sotto=[]\n",
    "differenza_pendenze=[]\n",
    "differenza_intercette=[]\n",
    "#stampo un plot ogni 10\n",
    "A=0\n",
    "with open(data_file) as f:\n",
    "    for line in f:\n",
    "        event = line.split()\n",
    "        event = [float(i) for i in event]\n",
    "        eventi_totali += 1\n",
    "        \n",
    "        \n",
    "        #Open and read the event\n",
    "        ev, evNumber, hits = read_data(event)\n",
    "        \n",
    "        #print(ev)\n",
    "        #Select the event\n",
    "        condition, chambers, n_layers= select_events(ev,hits)\n",
    "        tot+=1\n",
    "        \n",
    "        if(condition==True):\n",
    "            eventi_selezionati +=1\n",
    "\n",
    "            \n",
    "            #Local linear fit\n",
    "            lf_results=local_fit(ev, chambers, n_layers,exclusion_layer=1)\n",
    "            #Global linear fit\n",
    "            gf_results=global_fit(ev, chambers, lf_results)\n",
    "            residuals.append(gf_results[\"residuals\"])\n",
    "            count+=1\n",
    "            \n",
    "            \n",
    "            #Creo i due array contenenti i \n",
    "            \n",
    "            for j in lf_results[0][\"optimal_comb\"]:\n",
    "                x_punti_sopra.append(j[1])  \n",
    "            for j in lf_results[1][\"optimal_comb\"]:\n",
    "                x_punti_sotto.append(j[1])\n",
    "                \n",
    "            # positioning of chamber\n",
    "            sl1=lf_results[0][\"slope\"]\n",
    "            sl2=lf_results[1][\"slope\"]\n",
    "            differenza_pendenze.append(sl1-sl2)\n",
    "            int1=lf_results[0][\"intercept\"]\n",
    "            int2=lf_results[1][\"intercept\"]\n",
    "            differenza_intercette.append(int1-int2)\n",
    "            \n"
   ]
  },
  {
   "cell_type": "code",
   "execution_count": 15,
   "metadata": {},
   "outputs": [
    {
     "name": "stdout",
     "output_type": "stream",
     "text": [
      "Fraction of selected events:  0.3042768527587333\n"
     ]
    }
   ],
   "source": [
    "print(\"Fraction of selected events: \",eventi_selezionati/eventi_totali)"
   ]
  },
  {
   "cell_type": "code",
   "execution_count": 16,
   "metadata": {},
   "outputs": [
    {
     "name": "stdout",
     "output_type": "stream",
     "text": [
      "Hist for the left chambers\n"
     ]
    },
    {
     "data": {
      "image/png": "[encoded data removed]",
      "text/plain": [
       "<Figure size 576x432 with 1 Axes>"
      ]
     },
     "metadata": {
      "needs_background": "light"
     },
     "output_type": "display_data"
    },
    {
     "data": {
      "image/png": "[encoded data removed]",
      "text/plain": [
       "<Figure size 576x432 with 1 Axes>"
      ]
     },
     "metadata": {
      "needs_background": "light"
     },
     "output_type": "display_data"
    }
   ],
   "source": [
    "print(\"Hist for the left chambers\")\n",
    "            \n",
    "plt.figure(figsize=(8, 6))\n",
    "plt.title(\"Upper chamber\")\n",
    "plt.hist(x_punti_sopra,bins=6,edgecolor='black', linewidth=1.2)\n",
    "plt.show()\n",
    "x_punti_sopra=np.array(x_punti_sopra)\n",
    "\n",
    "#print(len(x_punti_sopra[x_punti_sopra>=500])/len(x_punti_sopra))\n",
    "            \n",
    "plt.figure(figsize=(8, 6))\n",
    "plt.title(\"Lower chamber\")\n",
    "plt.hist(x_punti_sotto,bins=6,edgecolor='black', linewidth=1.2)\n",
    "plt.show()\n",
    "\n",
    "x_punti_sotto=np.array(x_punti_sotto)\n",
    "\n",
    "#print(len(x_punti_sotto[x_punti_sotto>=400])/len(x_punti_sotto))"
   ]
  },
  {
   "cell_type": "code",
   "execution_count": 54,
   "metadata": {},
   "outputs": [
    {
     "data": {
      "image/png": "[encoded data removed]",
      "text/plain": [
       "<Figure size 576x432 with 1 Axes>"
      ]
     },
     "metadata": {
      "needs_background": "light"
     },
     "output_type": "display_data"
    },
    {
     "data": {
      "image/png": "[encoded data removed]",
      "text/plain": [
       "<Figure size 576x432 with 1 Axes>"
      ]
     },
     "metadata": {},
     "output_type": "display_data"
    }
   ],
   "source": [
    "Hit_0=0\n",
    "Hit_1=0\n",
    "Hit_2=0\n",
    "Tot_res=[]\n",
    "for i in range(0,len(residuals)):\n",
    "    if len(residuals[i])==0:\n",
    "        Hit_0 +=1\n",
    "    elif len(residuals[i])==1:\n",
    "        Hit_1 +=1\n",
    "        Tot_res.append(residuals[i][0])\n",
    "\n",
    "    elif len(residuals[i])==2:\n",
    "        Hit_2 +=1\n",
    "        Tot_res.append(residuals[i][0])\n",
    "        Tot_res.append(residuals[i][1])\n",
    "\n",
    "\n",
    "#print(\"percentuale  con 2 esclusi: \",Hit_0/len(residuals)*100,\" %\")\n",
    "#print(\"percentuale  con 1 esclusi: \",Hit_1/len(residuals)*100,\" %\")\n",
    "#print(\"percentuale  con 0 esclusi: \",Hit_2/len(residuals)*100,\" %\")\n",
    "\n",
    "\n",
    "plt.figure(figsize=(8, 6))\n",
    "plt.title(\"Residuals of the points in the excluded layers\")\n",
    "plt.hist(Tot_res,bins= 30, range=(-20,20), edgecolor='black', linewidth=1.2)\n",
    "plt.show()\n",
    "\n",
    "\n",
    "plt.figure(figsize=(8, 6))\n",
    "labels = ['2 layers excluded', '1 layer excluded', '0 layers excluded']\n",
    "sizes = [Hit_0/len(residuals)*100, Hit_1/len(residuals)*100, Hit_2/len(residuals)*100]\n",
    "\n",
    "plt.pie(sizes, labels=labels, colors=colors, autopct='%1.1f%%' , shadow=True, wedgeprops=dict( edgecolor='black'))\n",
    "plt.legend(patches, labels, loc='lower right')\n",
    "plt.axis('equal')\n",
    "plt.title(\"Percentage of excluded layers in the fit\")\n",
    "plt.show()"
   ]
  },
  {
   "cell_type": "code",
   "execution_count": 49,
   "metadata": {},
   "outputs": [
    {
     "name": "stdout",
     "output_type": "stream",
     "text": [
      "Hist of delta slope\n"
     ]
    },
    {
     "data": {
      "image/png": "[encoded data removed]",
      "text/plain": [
       "<Figure size 432x288 with 1 Axes>"
      ]
     },
     "metadata": {
      "needs_background": "light"
     },
     "output_type": "display_data"
    },
    {
     "name": "stdout",
     "output_type": "stream",
     "text": [
      "Hist of delta intercept\n"
     ]
    },
    {
     "data": {
      "image/png": "[encoded data removed]",
      "text/plain": [
       "<Figure size 432x288 with 1 Axes>"
      ]
     },
     "metadata": {
      "needs_background": "light"
     },
     "output_type": "display_data"
    }
   ],
   "source": [
    "# Posizionamento camere\n",
    "print(\"Hist of delta slope\")\n",
    "plt.figure()\n",
    "plt.hist(differenza_pendenze,bins=50)\n",
    "plt.show()\n",
    "print(\"Hist of delta intercept\")\n",
    "plt.figure()\n",
    "plt.hist(differenza_intercette,bins=50)\n",
    "plt.show()"
   ]
  },
  {
   "cell_type": "code",
   "execution_count": 50,
   "metadata": {},
   "outputs": [],
   "source": [
    "data_file =\"/Users/federicob/Documents/Physics_of_data/final_p/data/data_merged/calibration/destra.txt\"\n",
    "count=0\n",
    "tot=0\n",
    "eventi_selezionati=0\n",
    "eventi_totali=0\n",
    "residuals=[]\n",
    "x_punti_sopra=[]\n",
    "x_punti_sotto=[]\n",
    "#stampo un plot ogni 10\n",
    "A=0\n",
    "with open(data_file) as f:\n",
    "    for line in f:\n",
    "        event = line.split()\n",
    "        event = [float(i) for i in event]\n",
    "        eventi_totali += 1\n",
    "        \n",
    "        \n",
    "        #Open and read the event\n",
    "        ev, evNumber, hits = read_data(event)\n",
    "        \n",
    "        #print(ev)\n",
    "        #Select the event\n",
    "        condition, chambers, n_layers= select_events(ev,hits)\n",
    "        tot+=1\n",
    "        \n",
    "        if(condition==True):\n",
    "            eventi_selezionati +=1\n",
    "\n",
    "            \n",
    "            #Local linear fit\n",
    "            lf_results=local_fit(ev, chambers, n_layers,exclusion_layer=1)\n",
    "            #Global linear fit\n",
    "            gf_results=global_fit(ev, chambers, lf_results)\n",
    "            residuals.append(gf_results[\"residuals\"])\n",
    "            count+=1\n",
    "            \n",
    "            \n",
    "            #Creo i due array contenenti i \n",
    "            \n",
    "            for j in lf_results[0][\"optimal_comb\"]:\n",
    "                x_punti_sopra.append(j[1])\n",
    "            for j in lf_results[1][\"optimal_comb\"]:\n",
    "                x_punti_sotto.append(j[1])\n",
    "                \n",
    "            # positioning of chamber\n",
    "            sl1=lf_results[0][\"slope\"]\n",
    "            sl2=lf_results[1][\"slope\"]\n",
    "            differenza_pendenze.append(sl1-sl2)\n",
    "            int1=lf_results[0][\"intercept\"]\n",
    "            int2=lf_results[1][\"intercept\"]\n",
    "            differenza_intercette.append(int1-int2)\n",
    "            \n",
    "            \n",
    "            \n"
   ]
  },
  {
   "cell_type": "code",
   "execution_count": 33,
   "metadata": {},
   "outputs": [
    {
     "name": "stdout",
     "output_type": "stream",
     "text": [
      "Hist for the right chambers\n"
     ]
    },
    {
     "data": {
      "image/png": "[encoded data removed]",
      "text/plain": [
       "<Figure size 576x432 with 1 Axes>"
      ]
     },
     "metadata": {
      "needs_background": "light"
     },
     "output_type": "display_data"
    },
    {
     "data": {
      "image/png": "[encoded data removed]",
      "text/plain": [
       "<Figure size 576x432 with 1 Axes>"
      ]
     },
     "metadata": {
      "needs_background": "light"
     },
     "output_type": "display_data"
    }
   ],
   "source": [
    "print(\"Hist for the right chambers\")\n",
    "            \n",
    "plt.figure(figsize=(8, 6))\n",
    "plt.title(\"Upper chamber\")\n",
    "plt.hist(x_punti_sopra,bins=10,edgecolor='black', linewidth=1.2)\n",
    "plt.show()\n",
    "            \n",
    "plt.figure(figsize=(8, 6))\n",
    "plt.title(\"Lower chamber\")\n",
    "plt.hist(x_punti_sotto,bins=10,edgecolor='black', linewidth=1.2)\n",
    "plt.xlabel(\"mm\")\n",
    "plt.show()"
   ]
  },
  {
   "cell_type": "code",
   "execution_count": 34,
   "metadata": {},
   "outputs": [
    {
     "name": "stdout",
     "output_type": "stream",
     "text": [
      "percentuale  con 2 esclusi:  15.349075975359344  %\n",
      "percentuale  con 1 esclusi:  27.46406570841889  %\n",
      "percentuale  con 0 esclusi:  57.186858316221766  %\n"
     ]
    },
    {
     "data": {
      "image/png": "[encoded data removed]",
      "text/plain": [
       "<Figure size 576x432 with 1 Axes>"
      ]
     },
     "metadata": {
      "needs_background": "light"
     },
     "output_type": "display_data"
    }
   ],
   "source": [
    "Hit_0=0\n",
    "Hit_1=0\n",
    "Hit_2=0\n",
    "Tot_res=[]\n",
    "for i in range(0,len(residuals)):\n",
    "    if len(residuals[i])==0:\n",
    "        Hit_0 +=1\n",
    "    elif len(residuals[i])==1:\n",
    "        Hit_1 +=1\n",
    "        Tot_res.append(residuals[i][0])\n",
    "\n",
    "    elif len(residuals[i])==2:\n",
    "        Hit_2 +=1\n",
    "        Tot_res.append(residuals[i][0])\n",
    "        Tot_res.append(residuals[i][1])\n",
    "\n",
    "print(\"percentuale  con 2 esclusi: \",Hit_0/len(residuals)*100,\" %\")\n",
    "print(\"percentuale  con 1 esclusi: \",Hit_1/len(residuals)*100,\" %\")\n",
    "print(\"percentuale  con 0 esclusi: \",Hit_2/len(residuals)*100,\" %\")\n",
    "\n",
    "\n",
    "\n",
    "plt.figure(figsize=(8, 6))\n",
    "plt.title(\"Residuals of the points in the excluded layers\")\n",
    "plt.hist(Tot_res,bins=np.linspace(0,20,50),edgecolor='black', linewidth=1.2)\n",
    "plt.xlabel(\"mm\")\n",
    "plt.show()"
   ]
  },
  {
   "cell_type": "code",
   "execution_count": 51,
   "metadata": {},
   "outputs": [
    {
     "name": "stdout",
     "output_type": "stream",
     "text": [
      "Hist of delta slope\n"
     ]
    },
    {
     "data": {
      "image/png": "[encoded data removed]",
      "text/plain": [
       "<Figure size 432x288 with 1 Axes>"
      ]
     },
     "metadata": {
      "needs_background": "light"
     },
     "output_type": "display_data"
    },
    {
     "name": "stdout",
     "output_type": "stream",
     "text": [
      "Hist of delta intercept\n"
     ]
    },
    {
     "data": {
      "image/png": "[encoded data removed]",
      "text/plain": [
       "<Figure size 432x288 with 1 Axes>"
      ]
     },
     "metadata": {
      "needs_background": "light"
     },
     "output_type": "display_data"
    }
   ],
   "source": [
    "# Posizionamento camere\n",
    "print(\"Hist of delta slope\")\n",
    "plt.figure()\n",
    "plt.hist(differenza_pendenze,bins=50)\n",
    "plt.show()\n",
    "print(\"Hist of delta intercept\")\n",
    "plt.figure()\n",
    "plt.hist(differenza_intercette,bins=50)\n",
    "plt.show()"
   ]
  },
  {
   "cell_type": "markdown",
   "metadata": {},
   "source": [
    "# Event Display"
   ]
  },
  {
   "cell_type": "code",
   "execution_count": 44,
   "metadata": {
    "scrolled": false
   },
   "outputs": [
    {
     "data": {
      "image/png": "[encoded data removed]",
      "text/plain": [
       "<Figure size 864x1728 with 5 Axes>"
      ]
     },
     "metadata": {
      "needs_background": "light"
     },
     "output_type": "display_data"
    }
   ],
   "source": [
    "data_file =\"/Users/federicob/Documents/Physics_of_data/final_p/data/data_merged/calibration/destra.txt\"\n",
    "plot_N=3\n",
    "candidato=0\n",
    "\n",
    "\n",
    "with open(data_file) as f:\n",
    "    for line in f:\n",
    "        event = line.split()\n",
    "        event = [float(i) for i in event]\n",
    "        \n",
    "        \n",
    "        #Open and read the event\n",
    "        ev, evNumber, hits = read_data(event)\n",
    "        \n",
    "        #print(ev)\n",
    "        #Select the event\n",
    "        condition, chambers, n_layers= select_events(ev,hits)\n",
    "        \n",
    "        if(condition==True):\n",
    "            #Local linear fit\n",
    "            lf_results=local_fit(ev, chambers, n_layers,exclusion_layer=1)\n",
    "            #Global linear fit\n",
    "            gf_results=[]\n",
    "            gf_results.append(global_fit(ev, chambers, lf_results))\n",
    "            if (hits==6):\n",
    "                candidato +=1\n",
    "                if (candidato==plot_N):\n",
    "                    gridsize = (5, 2)\n",
    "                    fig = plt.figure(figsize = (12, 24))\n",
    "                    axes= plot_fit(ev, evNumber, chambers, lf_results, gf_results)\n",
    "                    plt.show()\n",
    "                    gf_results=[]\n",
    "\n",
    "            "
   ]
  },
  {
   "cell_type": "code",
   "execution_count": null,
   "metadata": {},
   "outputs": [],
   "source": []
  },
  {
   "cell_type": "markdown",
   "metadata": {},
   "source": [
    "# Fisica"
   ]
  },
  {
   "cell_type": "code",
   "execution_count": 53,
   "metadata": {},
   "outputs": [],
   "source": [
    "def filtro_punti(dataframe):\n",
    "    \n",
    "    dataframe_sinistro=dataframe[dataframe[\"Chamber\"]>=2]\n",
    "    dataframe1=dataframe_sinistro[dataframe_sinistro['XL_local']>=0]\n",
    "    dataframe1=dataframe1[dataframe1[\"XR_local\"]<=200]\n",
    "    dataframe_destro=dataframe[dataframe[\"Chamber\"]<=1]\n",
    "    dataframe2=dataframe_destro[dataframe_destro['XL_local']>=540]\n",
    "    dataframe2=dataframe2[dataframe2[\"XR_local\"]<=720]\n",
    "    #dataframe_final=pd.concat([dataframe1,dataframe2])\n",
    "    #number_hits=len(dataframe_final)\n",
    "    number_hits_s=len(dataframe1)\n",
    "    number_hits_d=len(dataframe2)\n",
    "    \n",
    "    \n",
    "    '''dataframe_final = dataframe completo\n",
    "       dataframe1 = dataframe delle camere a sinistra\n",
    "       dataframe2 = dataframe delle camere a destra\n",
    "       lo stesso per i number of hits'''\n",
    "    return dataframe1,dataframe2,number_hits_s,number_hits_d"
   ]
  },
  {
   "cell_type": "code",
   "execution_count": 69,
   "metadata": {
    "scrolled": false
   },
   "outputs": [
    {
     "name": "stdout",
     "output_type": "stream",
     "text": [
      "Trovato l'evento numero:  0\n",
      "len l: \n",
      "8\n",
      "[4, 4]\n",
      "len comb\n",
      "13824\n",
      "len l: \n",
      "7\n",
      "[3, 4]\n",
      "len comb\n",
      "2048\n",
      "global: \n",
      "[{'slope': -0.0034279225725877167, 'intercept': -294.0719268938497, 'optimal_comb': array([[ 856.  , -298.75],\n",
      "       [ 869.  , -294.47],\n",
      "       [ 830.  , -300.32],\n",
      "       [ 843.  , -294.57],\n",
      "       [  45.5 , -290.19],\n",
      "       [  19.5 , -284.63],\n",
      "       [   6.5 , -298.85],\n",
      "       [  32.5 , -302.8 ]])}, {'slope': 0.06688044170003402, 'intercept': 366.2620501802443, 'optimal_comb': array([[843. , 446.5],\n",
      "       [869. , 409.4],\n",
      "       [830. , 412.9],\n",
      "       [  6.5, 359. ],\n",
      "       [ 19.5, 370.4],\n",
      "       [ 45.5, 377.6],\n",
      "       [ 32.5, 365. ]])}]\n"
     ]
    },
    {
     "data": {
      "image/png": "[encoded data removed]",
      "text/plain": [
       "<Figure size 864x1728 with 5 Axes>"
      ]
     },
     "metadata": {
      "needs_background": "light"
     },
     "output_type": "display_data"
    },
    {
     "name": "stdout",
     "output_type": "stream",
     "text": [
      "1970\n",
      "frazione elementi selezionati:  0.0029046125246892066\n"
     ]
    }
   ],
   "source": [
    "data_file =\"/Users/federicob/Documents/Physics_of_data/final_p/data/physics/merged/Run331.txt\"\n",
    "count=0\n",
    "tot=0\n",
    "eventi_selezionati=0\n",
    "eventi_totali=0\n",
    "Hit_dist=[]\n",
    "with open(data_file) as f:\n",
    "    for line in f:\n",
    "        event = line.split()\n",
    "        event = [float(i) for i in event]\n",
    "        eventi_totali += 1\n",
    "        \n",
    "        \n",
    "        \n",
    "        #Open and read the event\n",
    "        ev, evNumber, hits = read_data(event)\n",
    "        Hit_dist.append(hits)\n",
    "\n",
    "\n",
    "        dataframe_s,dataframe_d,number_hits_s,number_hits_d = filtro_punti(ev)\n",
    "        dataframe_final=pd.concat([dataframe_s,dataframe_d])\n",
    "\n",
    "        select_s, chambers_s, n_layers_s= select_events(dataframe_s,number_hits_s)\n",
    "        select_d, chambers_d, n_layers_d= select_events(dataframe_d,number_hits_d)\n",
    "\n",
    "        if (eventi_totali % 1000  ==0):\n",
    "            print(eventi_totali,\"/ 422 000\") #deve trovare automaticamente il numero di eventi totali\n",
    "\n",
    "        #print(number_hits)\n",
    "        #print(select_s,select_d)\n",
    "        if (select_s == True  and select_d==True):\n",
    "            print(\"Trovato l'evento numero: \", eventi_selezionati)\n",
    "            eventi_selezionati +=1\n",
    "            if (eventi_selezionati%1 == 0):\n",
    "\n",
    "\n",
    "                #lf_results_s=local_fit(dataframe_s, chambers_s, n_layers_s, 0)\n",
    "                #lf_results_d=local_fit(dataframe_d, chambers_d, n_layers_d, 0)\n",
    "                gf_results_s=global_fit_combinations(dataframe_s, chambers_s, n_layers_s)\n",
    "                gf_results_d=global_fit_combinations(dataframe_d, chambers_d, n_layers_d)\n",
    "\n",
    "\n",
    "\n",
    "\n",
    "                #lf_results=lf_results_s+lf_results_d\n",
    "                #lf_results=[l for sublist in lf_results for l in sublist ]\n",
    "                gf_results=[gf_results_s,gf_results_d]\n",
    "                chambers=chambers_s+chambers_d\n",
    "\n",
    "\n",
    "                #print(\"local: \")\n",
    "                #print(lf_results)\n",
    "                print(\"global: \")\n",
    "                print(gf_results)\n",
    "                fig = plt.figure(figsize = (12, 24))\n",
    "                axes= plot_fit(dataframe_final, evNumber,chambers, lf_results, gf_results)\n",
    "                plt.show()\n",
    "                print(eventi_totali)\n",
    "                \n",
    "                \n",
    "                \n",
    "                #Plot selected event    \n",
    "                #gridsize = (5, 2)\n",
    "                #fig = plt.figure(figsize = (12, 24))\n",
    "                #axes = plot_background()\n",
    "                #axes = plot_events(dataframe_final, evNumber)\n",
    "                #plt.show()\n",
    "                #display(dataframe_s)\n",
    "                #display(dataframe_d)\n",
    "                \n",
    "                \n",
    "\n",
    "                \n",
    "                \n",
    "print(\"frazione elementi selezionati: \", eventi_selezionati/eventi_totali *100)     "
   ]
  },
  {
   "cell_type": "code",
   "execution_count": 30,
   "metadata": {},
   "outputs": [
    {
     "data": {
      "image/png": "[encoded data removed]",
      "text/plain": [
       "<Figure size 576x432 with 1 Axes>"
      ]
     },
     "metadata": {
      "needs_background": "light"
     },
     "output_type": "display_data"
    }
   ],
   "source": [
    "plt.figure(figsize=(8, 6))\n",
    "plt.title(\"Histogram number of hit\")\n",
    "plt.xlabel(\"Number of hits\")\n",
    "plt.ylabel(\"Counts\")\n",
    "plt.hist(Hit_dist,range=(0,40),bins=40,edgecolor='black', linewidth=1.2)\n",
    "plt.show()"
   ]
  }
 ],
 "metadata": {
  "kernelspec": {
   "display_name": "Python 3",
   "language": "python",
   "name": "python3"
  },
  "language_info": {
   "codemirror_mode": {
    "name": "ipython",
    "version": 3
   },
   "file_extension": ".py",
   "mimetype": "text/x-python",
   "name": "python",
   "nbconvert_exporter": "python",
   "pygments_lexer": "ipython3",
   "version": "3.7.3"
  }
 },
 "nbformat": 4,
 "nbformat_minor": 2
}
