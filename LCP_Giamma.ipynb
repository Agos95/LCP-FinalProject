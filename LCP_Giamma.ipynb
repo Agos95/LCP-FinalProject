{
 "cells": [
  {
   "cell_type": "markdown",
   "metadata": {},
   "source": [
    "# Funzioni Giamma \n",
    "\n",
    "Il materiale sotto riportato contiene tutto ciò che ho sviluppato in completa autonomia e, laddove necessario, le porzioni di codice utili a farlo girare correttamente.\n",
    "Questo file è stato realizzato per tenere traccia di ciò che ho svolto **senza effettuare il _commit_ su Github**."
   ]
  },
  {
   "cell_type": "markdown",
   "metadata": {},
   "source": [
    "\n",
    "***\n"
   ]
  },
  {
   "cell_type": "markdown",
   "metadata": {},
   "source": [
    "## Preliminaries\n",
    "\n",
    "### Packages importing"
   ]
  },
  {
   "cell_type": "code",
   "execution_count": null,
   "metadata": {},
   "outputs": [],
   "source": [
    "import numpy as np\n",
    "import pandas as pd\n",
    "import matplotlib.pyplot as plt\n",
    "import os\n",
    "from matplotlib.patches import Polygon\n",
    "%matplotlib inline"
   ]
  },
  {
   "cell_type": "markdown",
   "metadata": {},
   "source": [
    "### Coordinates transformation"
   ]
  },
  {
   "cell_type": "code",
   "execution_count": null,
   "metadata": {},
   "outputs": [],
   "source": [
    "#Cell dimensions\n",
    "XCELL = 42.\n",
    "ZCELL = 13.\n",
    "\n",
    "# X coordinates translation\n",
    "global_x_shifts = [994.2, 947.4,-267.4,-261.5,]\n",
    "\n",
    "# Z coordinates translations\n",
    "local_z_shifts = [z*ZCELL for z in range(0,4)]\n",
    "global_z_shifts = [823.5, 0, 823.5, 0]"
   ]
  },
  {
   "cell_type": "markdown",
   "metadata": {},
   "source": [
    "## (A) Wire position"
   ]
  },
  {
   "cell_type": "markdown",
   "metadata": {},
   "source": [
    "### Function to read events\n",
    "_(identica a quella presente nel file `Analysis_Calibration.ipynb` del branch Bottaro su Github)_"
   ]
  },
  {
   "cell_type": "code",
   "execution_count": null,
   "metadata": {},
   "outputs": [],
   "source": [
    "def read_data(event):    \n",
    "    event_number = int(event[0])\n",
    "    hits_number  = int(event[1])\n",
    "    if hits_number == 0:\n",
    "        hit       = [np.nan]\n",
    "        chamber   = [np.nan]\n",
    "        layer     = [np.nan]\n",
    "        xl_local  = [np.nan]\n",
    "        xr_local  = [np.nan]\n",
    "        z_local   = [np.nan]\n",
    "        time      = [np.nan]\n",
    "        xl_global = [np.nan]\n",
    "        xr_global = [np.nan]\n",
    "        z_global  = [np.nan]\n",
    "    else:\n",
    "        hit       = np.arange(hits_number)\n",
    "        chamber   = np.fromiter((event[2+5*i] for i in range(hits_number)), int)\n",
    "        layer     = np.fromiter((event[3+5*i] for i in range(hits_number)), int)\n",
    "        xl_local  = np.fromiter((event[4+5*i] for i in range(hits_number)), float)\n",
    "        xr_local  = np.fromiter((event[5+5*i] for i in range(hits_number)), float)\n",
    "        z_local   = np.fromiter((local_z_shifts[i-1]+ZCELL/2 for i in layer), float)\n",
    "        time      = np.fromiter((event[6+5*i] for i in range(hits_number)), float)\n",
    "        xl_global = np.fromiter((global_x_shifts[i] for i in chamber), float) - xl_local\n",
    "        xr_global = np.fromiter((global_x_shifts[i] for i in chamber), float) - xr_local\n",
    "        z_global  = np.fromiter((global_z_shifts[i] for i in chamber), float) + z_local\n",
    "        \n",
    "    dataframe = pd.DataFrame(\n",
    "        { 'EvNumber' : event_number,\n",
    "          'Hit'      : hit,\n",
    "          'Chamber'  : chamber,\n",
    "          'Layer'    : layer,\n",
    "          'XL_local' : xl_local,\n",
    "          'XR_local' : xr_local,\n",
    "          'Z_local'  : z_local,\n",
    "          'Time'     : time,\n",
    "          'XL_global': xl_global,\n",
    "          'XR_global': xr_global,\n",
    "          'Z_global' : z_global,\n",
    "        })\n",
    "\n",
    "        \n",
    "    #dataframe.set_index('Hit', inplace=True) # set as index the number of the hit \n",
    "    return dataframe, event_number, hits_number"
   ]
  },
  {
   "cell_type": "markdown",
   "metadata": {},
   "source": [
    "### Function for wire positions"
   ]
  },
  {
   "cell_type": "markdown",
   "metadata": {},
   "source": [
    "_Da qui inizia la parte originale scritta da me_ : path e funzione per posizioni fili locali e globali "
   ]
  },
  {
   "cell_type": "code",
   "execution_count": null,
   "metadata": {},
   "outputs": [],
   "source": [
    "#my specific path\n",
    "path = '/Users/gianmarcopompeo/Desktop/Final Project (group6)/data_merged/calibration'"
   ]
  },
  {
   "cell_type": "code",
   "execution_count": null,
   "metadata": {},
   "outputs": [],
   "source": [
    "x_positions_loc = [] \n",
    "z_positions_loc = []\n",
    "x_positions_glob = [] \n",
    "z_positions_glob = []\n",
    "\n",
    "def wire_positions():\n",
    "    \n",
    "    #cycle on all files of the folder calibration\n",
    "    for filename in os.listdir(path):\n",
    "        file_path = path + '/' + str(filename)\n",
    "    \n",
    "\n",
    "        with open(file_path) as f:\n",
    "            for line in f:\n",
    "                event = line.split()\n",
    "                event = [float(i) for i in event]\n",
    "                #print(event)\n",
    "                ev, evNumber, hits = read_data(event)\n",
    "\n",
    "                XL_list_loc = list(ev['XL_local'])\n",
    "                XR_list_loc = list(ev['XR_local'])\n",
    "                Z_list_loc  = list(ev['Z_local'])\n",
    "\n",
    "                XL_list_glob = list(ev['XL_global'])\n",
    "                XR_list_glob = list(ev['XR_global'])\n",
    "                Z_list_glob  = list(ev['Z_global'])\n",
    "\n",
    "\n",
    "                #clean lists from NaN\n",
    "                XL_list_loc = [x for x in XL_list_loc if ~np.isnan(x)]\n",
    "                XR_list_loc = [x for x in XR_list_loc if ~np.isnan(x)]\n",
    "                XL_list_glob = [x for x in XL_list_glob if ~np.isnan(x)]\n",
    "                XR_list_glob = [x for x in XR_list_glob if ~np.isnan(x)]\n",
    "\n",
    "                #exclude empty lists - local\n",
    "                if (len(XL_list_loc)>0 and len(XR_list_loc)>0):\n",
    "                    for ii in range(len(XL_list_loc)):\n",
    "                        average=(XL_list_loc[ii]+XR_list_loc[ii])*0.5\n",
    "                        x_positions_loc.append(average)\n",
    "                        z_positions_loc.append(Z_list_loc[ii])\n",
    "\n",
    "                #exclude empty lists - global\n",
    "                if (len(XL_list_glob)>0 and len(XR_list_glob)>0):\n",
    "                    for ii in range(len(XL_list_glob)):\n",
    "                        average=(XL_list_glob[ii]+XR_list_glob[ii])*0.5\n",
    "                        x_positions_glob.append(average)\n",
    "                        z_positions_glob.append(Z_list_glob[ii])\n",
    "                    \n",
    "    return x_positions_loc, z_positions_loc, x_positions_glob, z_positions_glob"
   ]
  },
  {
   "cell_type": "code",
   "execution_count": null,
   "metadata": {},
   "outputs": [],
   "source": [
    "wire_positions()"
   ]
  },
  {
   "cell_type": "code",
   "execution_count": null,
   "metadata": {},
   "outputs": [],
   "source": [
    "plt.plot(x_positions_glob, z_positions_glob, \"b.\")"
   ]
  },
  {
   "cell_type": "markdown",
   "metadata": {},
   "source": [
    "## Integration of the wire feature\n",
    "Qui sotto la funzione `plot_background` (anch'essa recuperata dallo stesso file di cui sopra) è stata modificata in modo tale da restituire automaticamente anche il plot delle posizioni dei fili in sovrimpressione. Per ottenerli, è naturalmente necessario aver girato la funzione apposita che fornisce i valori di coordinate nelle liste `x_positions` e `z_positions`"
   ]
  },
  {
   "cell_type": "code",
   "execution_count": null,
   "metadata": {},
   "outputs": [],
   "source": [
    "def plot_background():\n",
    "    # create Pandas DataFrame for the cambers positions\n",
    "    chamber_position = pd.DataFrame({\n",
    "    'chamber' : [i for i in range(4)],\n",
    "    'x_vertices' : [(global_x_shifts[i], global_x_shifts[i] - 720, global_x_shifts[i] - 720, global_x_shifts[i])\n",
    "                    for i in range(4)],\n",
    "    'y_vertices' : [(global_z_shifts[i], global_z_shifts[i], global_z_shifts[i] + 52, global_z_shifts[i] + 52)\n",
    "                    for i in range(4)],\n",
    "    })\n",
    "    x_lim = [[-1000, 1000], # global detector\n",
    "             [    0, 1000], # chamber 0\n",
    "             [    0, 1000], # chamber 1\n",
    "             [-1000,    0], # chamber 2\n",
    "             [-1000,    0]] # chamber 3\n",
    "    y_lim = [[-100, 1000],  # global detector\n",
    "             [800 ,  900],  # chamber 0\n",
    "             [ -25,   75],  # chamber 1\n",
    "             [ 800,  900],  # chamber 2\n",
    "             [ -25,   75]]  # chamber 3\n",
    "    title = [\"DETECTOR\", \"Chamber 0\", \"Chamber 1\", \"Chamber 2\", \"Chamber 3\"]\n",
    "    # create pyplot 'Axes' objects\n",
    "    ax_global = plt.subplot2grid(gridsize, (0, 0), colspan=2, rowspan=2)\n",
    "    ax_0 = plt.subplot2grid(gridsize, (2, 1), colspan=1, rowspan=1) # top-right\n",
    "    ax_1 = plt.subplot2grid(gridsize, (3, 1), colspan=1, rowspan=1) # bottom-right\n",
    "    ax_2 = plt.subplot2grid(gridsize, (2, 0), colspan=1, rowspan=1) # top-left\n",
    "    ax_3 = plt.subplot2grid(gridsize, (3, 0), colspan=1, rowspan=1) # bottom-left\n",
    "    \n",
    "    axes = [ax_global, ax_0, ax_1, ax_2, ax_3]\n",
    "    for index, ax in enumerate(axes):\n",
    "        ax.set_xlim(x_lim[index])\n",
    "        ax.set_ylim(y_lim[index])\n",
    "        ax.set_xlabel(\"x [mm]\")\n",
    "        ax.set_ylabel(\"z [mm]\")\n",
    "        ax.plot(x_positions_glob, z_positions_glob, marker=\".\", ls=\"\", color=\"gray\", markersize=1)\n",
    "        if index == 0: ax.set_title(title[index])\n",
    "        else: ax.set_title(title[index], pad=-20)\n",
    "        # plot the 4 chambers in each 'Axes'\n",
    "        for j in range(4):\n",
    "            chamber = chamber_position[chamber_position[\"chamber\"] == j]\n",
    "            ax.fill(chamber[\"x_vertices\"].values[0], chamber[\"y_vertices\"].values[0], color='gray', fill=False)\n",
    "    return axes"
   ]
  },
  {
   "cell_type": "code",
   "execution_count": null,
   "metadata": {},
   "outputs": [],
   "source": [
    "gridsize = (5, 2)\n",
    "fig = plt.figure(figsize = (12, 24))\n",
    "axes = plot_background()\n",
    "\n",
    "plt.show()"
   ]
  },
  {
   "cell_type": "code",
   "execution_count": null,
   "metadata": {},
   "outputs": [],
   "source": []
  },
  {
   "cell_type": "code",
   "execution_count": null,
   "metadata": {},
   "outputs": [],
   "source": []
  },
  {
   "cell_type": "markdown",
   "metadata": {},
   "source": [
    "## (B) Slope differences local-global"
   ]
  },
  {
   "cell_type": "code",
   "execution_count": null,
   "metadata": {},
   "outputs": [],
   "source": []
  },
  {
   "cell_type": "code",
   "execution_count": null,
   "metadata": {},
   "outputs": [],
   "source": []
  },
  {
   "cell_type": "markdown",
   "metadata": {},
   "source": [
    "# EXTRA"
   ]
  },
  {
   "cell_type": "code",
   "execution_count": null,
   "metadata": {},
   "outputs": [],
   "source": [
    "\n",
    "x_positions = [] \n",
    "z_positions = []\n",
    "\n",
    "def wire_positions():\n",
    "    x_positions_loc = [] \n",
    "    z_positions_loc = []\n",
    "    x_positions_glob = [] \n",
    "    z_positions_glob = []\n",
    "\n",
    "    file_path = '/Users/gianmarcopompeo/Desktop/Final Project (group6)/data_merged/calibration/Run000261.txt'#here to select if one wants local or global\n",
    "    #wire positions\n",
    "    local= False\n",
    "\n",
    "    with open(file_path) as f:\n",
    "        for line in f:\n",
    "            event = line.split()\n",
    "            event = [float(i) for i in event]\n",
    "            #print(event)\n",
    "            ev, evNumber, hits = read_data(event)\n",
    "\n",
    "            if (local):\n",
    "                XL_list = list(ev['XL_local'])\n",
    "                XR_list = list(ev['XR_local'])\n",
    "                Z_list  = list(ev['Z_local'])\n",
    "            else:\n",
    "                XL_list = list(ev['XL_global'])\n",
    "                XR_list = list(ev['XR_global'])\n",
    "                Z_list  = list(ev['Z_global'])\n",
    "\n",
    "\n",
    "            #clean lists from NaN\n",
    "            XL_list = [x for x in XL_list if ~np.isnan(x)]\n",
    "            XR_list = [x for x in XR_list if ~np.isnan(x)]\n",
    "\n",
    "            #exclude empty lists \n",
    "            if (len(XL_list)>0 and len(XR_list)>0):\n",
    "                for ii in range(len(XL_list)):\n",
    "                    average=(XL_list[ii]+XR_list[ii])*0.5\n",
    "                    x_positions.append(average)\n",
    "                    z_positions.append(Z_list[ii])\n",
    "\n",
    "    #print(len(x_positions), len(z_positions))\n",
    "    \n",
    "#return x_positions_loc, z_positions_loc, x_positions_glob, z_positions_glob\n"
   ]
  }
 ],
 "metadata": {
  "kernelspec": {
   "display_name": "Python 3",
   "language": "python",
   "name": "python3"
  },
  "language_info": {
   "codemirror_mode": {
    "name": "ipython",
    "version": 3
   },
   "file_extension": ".py",
   "mimetype": "text/x-python",
   "name": "python",
   "nbconvert_exporter": "python",
   "pygments_lexer": "ipython3",
   "version": "3.7.5"
  }
 },
 "nbformat": 4,
 "nbformat_minor": 2
}
