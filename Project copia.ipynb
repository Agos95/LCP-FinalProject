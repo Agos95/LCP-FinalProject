{
 "cells": [
  {
   "cell_type": "code",
   "execution_count": 1,
   "metadata": {},
   "outputs": [
    {
     "name": "stdout",
     "output_type": "stream",
     "text": [
      "[0.0, 13.0, 26.0, 39.0]\n"
     ]
    }
   ],
   "source": [
    "# Cell dimensions\n",
    "XCELL = 42.\n",
    "ZCELL = 13.\n",
    "\n",
    "# X coordinates translation\n",
    "global_x_shifts = [994.2, 947.4,-267.4,-261.5,]\n",
    "\n",
    "# Z coordinates translations\n",
    "#la prima mi serve a riscalare le z in base alla cella in cui passa\n",
    "#la seconda serve a riscalare le z in base al detector in cui passa\n",
    "local_z_shifts = [z*ZCELL for z  in range(0,4)]\n",
    "global_z_shifts = [823.5, 0, 823.5, 0]\n",
    "\n",
    "print(local_z_shifts)"
   ]
  },
  {
   "cell_type": "code",
   "execution_count": 2,
   "metadata": {},
   "outputs": [],
   "source": [
    "import numpy as np\n",
    "import pandas as pd\n",
    "import matplotlib.pyplot as plt\n",
    "from matplotlib.patches import Polygon\n",
    "from os import listdir\n",
    "%matplotlib inline\n",
    "from itertools import combinations\n",
    "import random\n",
    "from scipy import stats"
   ]
  },
  {
   "cell_type": "code",
   "execution_count": 43,
   "metadata": {},
   "outputs": [],
   "source": [
    "'''ERRORE SISTEMATICO NEL POSIZIONAMENTO DELLE CAMERE'''\n",
    "\n",
    "def read_data(event):    \n",
    "    event_number = int(event[0])\n",
    "    hits_number  = int(event[1])\n",
    "    hit       = np.arange(hits_number)\n",
    "    chamber   = np.fromiter((event[2+5*i] for i in range(hits_number)), int)\n",
    "    layer     = np.fromiter((event[3+5*i] for i in range(hits_number)), int)\n",
    "    xl_local  = np.fromiter((event[4+5*i] for i in range(hits_number)), float)\n",
    "    xr_local  = np.fromiter((event[5+5*i] for i in range(hits_number)), float)\n",
    "    z_local   = np.fromiter((local_z_shifts[i-1]+ZCELL/2 for i in layer), float)\n",
    "    time      = np.fromiter((event[6+5*i] for i in range(hits_number)), float)\n",
    "    xl_global = np.fromiter((global_x_shifts[i] for i in chamber), float) - xl_local\n",
    "    xr_global = np.fromiter((global_x_shifts[i] for i in chamber), float) - xr_local\n",
    "    z_global  = np.fromiter((global_z_shifts[i] for i in chamber), float) + z_local\n",
    "    dataframe = pd.DataFrame(\n",
    "        { 'EvNumber' : event_number,\n",
    "          'Hit'      : hit,\n",
    "          'Chamber'  : chamber,\n",
    "          'Layer'    : layer,\n",
    "          'XL_local' : xl_local,\n",
    "          'XR_local' : xr_local,\n",
    "          'Z_local'  : z_local,\n",
    "          'Time'     : time,\n",
    "          'XL_global': xl_global,\n",
    "          'XR_global': xr_global,\n",
    "          'Z_global' : z_global,\n",
    "        })\n",
    "    #dataframe.set_index('Hit', inplace=True) # set as index the number of the hit \n",
    "    return dataframe, event_number, hits_number\n",
    "\n",
    "n_h=[]\n",
    "count=0\n",
    "selezionati=0\n",
    "for i in listdir(\"/Users/federicob/Documents/data/calibration/Run000260\"):\n",
    "    file=\"/Users/federicob/Documents/data/calibration/Run000260\"+\"/\"+i\n",
    "    \n",
    "    with open(file) as f:\n",
    "        for line in f:\n",
    "            event = line.split()\n",
    "    \n",
    "            dataframe, event_number, hits_number=read_data(event)\n",
    "            n_h.append(hits_number)\n",
    "            if (hits_number>=6 and hits_number<=16):\n",
    "                selezionati +=1\n",
    "            if (hits_number>=1):\n",
    "                count +=1\n",
    "            \n",
    "    \n",
    "    \n",
    "\n"
   ]
  },
  {
   "cell_type": "code",
   "execution_count": 44,
   "metadata": {},
   "outputs": [
    {
     "name": "stdout",
     "output_type": "stream",
     "text": [
      "######## 61.12145665218291\n"
     ]
    },
    {
     "data": {
      "image/png": "[encoded data removed]",
      "text/plain": [
       "<Figure size 432x288 with 1 Axes>"
      ]
     },
     "metadata": {
      "needs_background": "light"
     },
     "output_type": "display_data"
    }
   ],
   "source": [
    "plt.hist(n_h,bins=[i for i in range(3,11)])\n",
    "print(\"########\",selezionati/count *100)\n",
    "\n"
   ]
  },
  {
   "cell_type": "code",
   "execution_count": 38,
   "metadata": {},
   "outputs": [
    {
     "data": {
      "text/plain": [
       "(array([3.349e+03, 3.210e+02, 1.950e+02, 2.670e+02, 3.780e+02, 1.870e+02,\n",
       "        3.240e+02, 5.870e+02, 1.072e+03, 2.750e+02, 1.480e+02, 1.430e+02,\n",
       "        1.000e+02, 9.500e+01, 8.200e+01, 7.400e+01, 5.400e+01, 4.900e+01,\n",
       "        4.000e+01, 3.800e+01, 4.000e+01, 2.300e+01, 2.800e+01, 1.900e+01,\n",
       "        2.300e+01, 2.200e+01, 2.100e+01, 2.200e+01, 2.000e+01, 1.100e+01,\n",
       "        1.000e+01, 9.000e+00, 1.300e+01, 1.200e+01, 8.000e+00, 7.000e+00,\n",
       "        5.000e+00, 1.200e+01, 1.000e+01, 0.000e+00, 5.000e+00, 6.000e+00,\n",
       "        8.000e+00, 7.000e+00, 9.000e+00, 6.000e+00, 1.000e+00, 2.000e+00,\n",
       "        6.000e+00, 2.000e+00, 3.000e+00, 2.000e+00, 0.000e+00, 2.000e+00,\n",
       "        2.000e+00, 1.000e+00, 3.000e+00, 1.000e+00, 4.000e+00, 2.000e+00,\n",
       "        0.000e+00, 3.000e+00, 0.000e+00, 2.000e+00, 3.000e+00, 3.000e+00,\n",
       "        0.000e+00, 2.000e+00, 1.000e+00, 0.000e+00, 0.000e+00, 0.000e+00,\n",
       "        0.000e+00, 0.000e+00, 0.000e+00, 1.000e+00, 0.000e+00, 1.000e+00,\n",
       "        0.000e+00, 1.000e+00]),\n",
       " array([ 0.   ,  0.975,  1.95 ,  2.925,  3.9  ,  4.875,  5.85 ,  6.825,\n",
       "         7.8  ,  8.775,  9.75 , 10.725, 11.7  , 12.675, 13.65 , 14.625,\n",
       "        15.6  , 16.575, 17.55 , 18.525, 19.5  , 20.475, 21.45 , 22.425,\n",
       "        23.4  , 24.375, 25.35 , 26.325, 27.3  , 28.275, 29.25 , 30.225,\n",
       "        31.2  , 32.175, 33.15 , 34.125, 35.1  , 36.075, 37.05 , 38.025,\n",
       "        39.   , 39.975, 40.95 , 41.925, 42.9  , 43.875, 44.85 , 45.825,\n",
       "        46.8  , 47.775, 48.75 , 49.725, 50.7  , 51.675, 52.65 , 53.625,\n",
       "        54.6  , 55.575, 56.55 , 57.525, 58.5  , 59.475, 60.45 , 61.425,\n",
       "        62.4  , 63.375, 64.35 , 65.325, 66.3  , 67.275, 68.25 , 69.225,\n",
       "        70.2  , 71.175, 72.15 , 73.125, 74.1  , 75.075, 76.05 , 77.025,\n",
       "        78.   ]),\n",
       " <a list of 80 Patch objects>)"
      ]
     },
     "execution_count": 38,
     "metadata": {},
     "output_type": "execute_result"
    },
    {
     "data": {
      "image/png": "[encoded data removed]",
      "text/plain": [
       "<Figure size 432x288 with 1 Axes>"
      ]
     },
     "metadata": {
      "needs_background": "light"
     },
     "output_type": "display_data"
    }
   ],
   "source": [
    "plt.hist(n_h, bins=80)"
   ]
  },
  {
   "cell_type": "code",
   "execution_count": null,
   "metadata": {},
   "outputs": [],
   "source": []
  }
 ],
 "metadata": {
  "kernelspec": {
   "display_name": "Python 3",
   "language": "python",
   "name": "python3"
  },
  "language_info": {
   "codemirror_mode": {
    "name": "ipython",
    "version": 3
   },
   "file_extension": ".py",
   "mimetype": "text/x-python",
   "name": "python",
   "nbconvert_exporter": "python",
   "pygments_lexer": "ipython3",
   "version": "3.7.3"
  }
 },
 "nbformat": 4,
 "nbformat_minor": 2
}
